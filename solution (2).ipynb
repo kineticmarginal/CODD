{
  "nbformat": 4,
  "nbformat_minor": 0,
  "metadata": {
    "colab": {
      "name": "solution.ipynb",
      "provenance": [],
      "collapsed_sections": [
        "TbCsoElr_Fi2",
        "Yjm_8JZJoqtL",
        "qVVQNByfmzAR",
        "Fn4Xli4wpfH3",
        "Ag3Yf-d4p5pP",
        "k7b7IyAChuDt",
        "vazJsJZt-rEW",
        "-VhmqvbPXS7e",
        "GLTKgtVSCV35",
        "wwvyuyFXsygf",
        "kmSO5WI7bLP4",
        "3lWr7UV4aM9K",
        "aNjWhsS8gAZl",
        "hF7R7UsalGCY",
        "MFL5AtmdPVur",
        "PJ4olMUraReh",
        "G6asUUe06jLi",
        "pIyOkLdGQw8O",
        "_cYtqRQPiTJt"
      ]
    },
    "kernelspec": {
      "display_name": "Python 3",
      "name": "python3"
    },
    "widgets": {
      "application/vnd.jupyter.widget-state+json": {
        "3d6a1e0234fd4c3c9f056c22aec3be2a": {
          "model_module": "@jupyter-widgets/controls",
          "model_name": "HBoxModel",
          "state": {
            "_view_name": "HBoxView",
            "_dom_classes": [],
            "_model_name": "HBoxModel",
            "_view_module": "@jupyter-widgets/controls",
            "_model_module_version": "1.5.0",
            "_view_count": null,
            "_view_module_version": "1.5.0",
            "box_style": "",
            "layout": "IPY_MODEL_970a3c8ef4fb45609b2c6911755fc743",
            "_model_module": "@jupyter-widgets/controls",
            "children": [
              "IPY_MODEL_5c8d579121764365aa91141e861b43dc",
              "IPY_MODEL_85745049f0c34b7ba7ed61c0eb6e8d99"
            ]
          }
        },
        "970a3c8ef4fb45609b2c6911755fc743": {
          "model_module": "@jupyter-widgets/base",
          "model_name": "LayoutModel",
          "state": {
            "_view_name": "LayoutView",
            "grid_template_rows": null,
            "right": null,
            "justify_content": null,
            "_view_module": "@jupyter-widgets/base",
            "overflow": null,
            "_model_module_version": "1.2.0",
            "_view_count": null,
            "flex_flow": null,
            "width": null,
            "min_width": null,
            "border": null,
            "align_items": null,
            "bottom": null,
            "_model_module": "@jupyter-widgets/base",
            "top": null,
            "grid_column": null,
            "overflow_y": null,
            "overflow_x": null,
            "grid_auto_flow": null,
            "grid_area": null,
            "grid_template_columns": null,
            "flex": null,
            "_model_name": "LayoutModel",
            "justify_items": null,
            "grid_row": null,
            "max_height": null,
            "align_content": null,
            "visibility": null,
            "align_self": null,
            "height": null,
            "min_height": null,
            "padding": null,
            "grid_auto_rows": null,
            "grid_gap": null,
            "max_width": null,
            "order": null,
            "_view_module_version": "1.2.0",
            "grid_template_areas": null,
            "object_position": null,
            "object_fit": null,
            "grid_auto_columns": null,
            "margin": null,
            "display": null,
            "left": null
          }
        },
        "5c8d579121764365aa91141e861b43dc": {
          "model_module": "@jupyter-widgets/controls",
          "model_name": "FloatProgressModel",
          "state": {
            "_view_name": "ProgressView",
            "style": "IPY_MODEL_5fb4589ba4f54a6093bcf8772535821f",
            "_dom_classes": [],
            "description": "100%",
            "_model_name": "FloatProgressModel",
            "bar_style": "success",
            "max": 955695,
            "_view_module": "@jupyter-widgets/controls",
            "_model_module_version": "1.5.0",
            "value": 955695,
            "_view_count": null,
            "_view_module_version": "1.5.0",
            "orientation": "horizontal",
            "min": 0,
            "description_tooltip": null,
            "_model_module": "@jupyter-widgets/controls",
            "layout": "IPY_MODEL_3818d0ad7c814dc9a8238a2f51bd330a"
          }
        },
        "85745049f0c34b7ba7ed61c0eb6e8d99": {
          "model_module": "@jupyter-widgets/controls",
          "model_name": "HTMLModel",
          "state": {
            "_view_name": "HTMLView",
            "style": "IPY_MODEL_c8cb9aba2b6e4fc6a3c827dd1bdc2086",
            "_dom_classes": [],
            "description": "",
            "_model_name": "HTMLModel",
            "placeholder": "​",
            "_view_module": "@jupyter-widgets/controls",
            "_model_module_version": "1.5.0",
            "value": " 955695/955695 [01:56&lt;00:00, 8189.87it/s]",
            "_view_count": null,
            "_view_module_version": "1.5.0",
            "description_tooltip": null,
            "_model_module": "@jupyter-widgets/controls",
            "layout": "IPY_MODEL_8f9c354846874ceda0a66d41805b91ce"
          }
        },
        "5fb4589ba4f54a6093bcf8772535821f": {
          "model_module": "@jupyter-widgets/controls",
          "model_name": "ProgressStyleModel",
          "state": {
            "_view_name": "StyleView",
            "_model_name": "ProgressStyleModel",
            "description_width": "initial",
            "_view_module": "@jupyter-widgets/base",
            "_model_module_version": "1.5.0",
            "_view_count": null,
            "_view_module_version": "1.2.0",
            "bar_color": null,
            "_model_module": "@jupyter-widgets/controls"
          }
        },
        "3818d0ad7c814dc9a8238a2f51bd330a": {
          "model_module": "@jupyter-widgets/base",
          "model_name": "LayoutModel",
          "state": {
            "_view_name": "LayoutView",
            "grid_template_rows": null,
            "right": null,
            "justify_content": null,
            "_view_module": "@jupyter-widgets/base",
            "overflow": null,
            "_model_module_version": "1.2.0",
            "_view_count": null,
            "flex_flow": null,
            "width": null,
            "min_width": null,
            "border": null,
            "align_items": null,
            "bottom": null,
            "_model_module": "@jupyter-widgets/base",
            "top": null,
            "grid_column": null,
            "overflow_y": null,
            "overflow_x": null,
            "grid_auto_flow": null,
            "grid_area": null,
            "grid_template_columns": null,
            "flex": null,
            "_model_name": "LayoutModel",
            "justify_items": null,
            "grid_row": null,
            "max_height": null,
            "align_content": null,
            "visibility": null,
            "align_self": null,
            "height": null,
            "min_height": null,
            "padding": null,
            "grid_auto_rows": null,
            "grid_gap": null,
            "max_width": null,
            "order": null,
            "_view_module_version": "1.2.0",
            "grid_template_areas": null,
            "object_position": null,
            "object_fit": null,
            "grid_auto_columns": null,
            "margin": null,
            "display": null,
            "left": null
          }
        },
        "c8cb9aba2b6e4fc6a3c827dd1bdc2086": {
          "model_module": "@jupyter-widgets/controls",
          "model_name": "DescriptionStyleModel",
          "state": {
            "_view_name": "StyleView",
            "_model_name": "DescriptionStyleModel",
            "description_width": "",
            "_view_module": "@jupyter-widgets/base",
            "_model_module_version": "1.5.0",
            "_view_count": null,
            "_view_module_version": "1.2.0",
            "_model_module": "@jupyter-widgets/controls"
          }
        },
        "8f9c354846874ceda0a66d41805b91ce": {
          "model_module": "@jupyter-widgets/base",
          "model_name": "LayoutModel",
          "state": {
            "_view_name": "LayoutView",
            "grid_template_rows": null,
            "right": null,
            "justify_content": null,
            "_view_module": "@jupyter-widgets/base",
            "overflow": null,
            "_model_module_version": "1.2.0",
            "_view_count": null,
            "flex_flow": null,
            "width": null,
            "min_width": null,
            "border": null,
            "align_items": null,
            "bottom": null,
            "_model_module": "@jupyter-widgets/base",
            "top": null,
            "grid_column": null,
            "overflow_y": null,
            "overflow_x": null,
            "grid_auto_flow": null,
            "grid_area": null,
            "grid_template_columns": null,
            "flex": null,
            "_model_name": "LayoutModel",
            "justify_items": null,
            "grid_row": null,
            "max_height": null,
            "align_content": null,
            "visibility": null,
            "align_self": null,
            "height": null,
            "min_height": null,
            "padding": null,
            "grid_auto_rows": null,
            "grid_gap": null,
            "max_width": null,
            "order": null,
            "_view_module_version": "1.2.0",
            "grid_template_areas": null,
            "object_position": null,
            "object_fit": null,
            "grid_auto_columns": null,
            "margin": null,
            "display": null,
            "left": null
          }
        },
        "a6ca1cfae32446d6bc027ba9189a2f3a": {
          "model_module": "@jupyter-widgets/controls",
          "model_name": "HBoxModel",
          "state": {
            "_view_name": "HBoxView",
            "_dom_classes": [],
            "_model_name": "HBoxModel",
            "_view_module": "@jupyter-widgets/controls",
            "_model_module_version": "1.5.0",
            "_view_count": null,
            "_view_module_version": "1.5.0",
            "box_style": "",
            "layout": "IPY_MODEL_03682e763a3e452ab0fbd3101a8530a7",
            "_model_module": "@jupyter-widgets/controls",
            "children": [
              "IPY_MODEL_3b9077db94094f189ffbcec7e5571ec8",
              "IPY_MODEL_c27c193b32e34e028c7ac471fa7b515b"
            ]
          }
        },
        "03682e763a3e452ab0fbd3101a8530a7": {
          "model_module": "@jupyter-widgets/base",
          "model_name": "LayoutModel",
          "state": {
            "_view_name": "LayoutView",
            "grid_template_rows": null,
            "right": null,
            "justify_content": null,
            "_view_module": "@jupyter-widgets/base",
            "overflow": null,
            "_model_module_version": "1.2.0",
            "_view_count": null,
            "flex_flow": null,
            "width": null,
            "min_width": null,
            "border": null,
            "align_items": null,
            "bottom": null,
            "_model_module": "@jupyter-widgets/base",
            "top": null,
            "grid_column": null,
            "overflow_y": null,
            "overflow_x": null,
            "grid_auto_flow": null,
            "grid_area": null,
            "grid_template_columns": null,
            "flex": null,
            "_model_name": "LayoutModel",
            "justify_items": null,
            "grid_row": null,
            "max_height": null,
            "align_content": null,
            "visibility": null,
            "align_self": null,
            "height": null,
            "min_height": null,
            "padding": null,
            "grid_auto_rows": null,
            "grid_gap": null,
            "max_width": null,
            "order": null,
            "_view_module_version": "1.2.0",
            "grid_template_areas": null,
            "object_position": null,
            "object_fit": null,
            "grid_auto_columns": null,
            "margin": null,
            "display": null,
            "left": null
          }
        },
        "3b9077db94094f189ffbcec7e5571ec8": {
          "model_module": "@jupyter-widgets/controls",
          "model_name": "FloatProgressModel",
          "state": {
            "_view_name": "ProgressView",
            "style": "IPY_MODEL_f71b9a9e8956445ba93c88c64947583c",
            "_dom_classes": [],
            "description": "100%",
            "_model_name": "FloatProgressModel",
            "bar_style": "success",
            "max": 955695,
            "_view_module": "@jupyter-widgets/controls",
            "_model_module_version": "1.5.0",
            "value": 955695,
            "_view_count": null,
            "_view_module_version": "1.5.0",
            "orientation": "horizontal",
            "min": 0,
            "description_tooltip": null,
            "_model_module": "@jupyter-widgets/controls",
            "layout": "IPY_MODEL_fba22ef8e9d446158d7fbdc02da9c497"
          }
        },
        "c27c193b32e34e028c7ac471fa7b515b": {
          "model_module": "@jupyter-widgets/controls",
          "model_name": "HTMLModel",
          "state": {
            "_view_name": "HTMLView",
            "style": "IPY_MODEL_0b855a8d86af4f5688ce78b714597af7",
            "_dom_classes": [],
            "description": "",
            "_model_name": "HTMLModel",
            "placeholder": "​",
            "_view_module": "@jupyter-widgets/controls",
            "_model_module_version": "1.5.0",
            "value": " 955695/955695 [09:14&lt;00:00, 1722.85it/s]",
            "_view_count": null,
            "_view_module_version": "1.5.0",
            "description_tooltip": null,
            "_model_module": "@jupyter-widgets/controls",
            "layout": "IPY_MODEL_ef947876e8a54b43bf860c1d54661543"
          }
        },
        "f71b9a9e8956445ba93c88c64947583c": {
          "model_module": "@jupyter-widgets/controls",
          "model_name": "ProgressStyleModel",
          "state": {
            "_view_name": "StyleView",
            "_model_name": "ProgressStyleModel",
            "description_width": "initial",
            "_view_module": "@jupyter-widgets/base",
            "_model_module_version": "1.5.0",
            "_view_count": null,
            "_view_module_version": "1.2.0",
            "bar_color": null,
            "_model_module": "@jupyter-widgets/controls"
          }
        },
        "fba22ef8e9d446158d7fbdc02da9c497": {
          "model_module": "@jupyter-widgets/base",
          "model_name": "LayoutModel",
          "state": {
            "_view_name": "LayoutView",
            "grid_template_rows": null,
            "right": null,
            "justify_content": null,
            "_view_module": "@jupyter-widgets/base",
            "overflow": null,
            "_model_module_version": "1.2.0",
            "_view_count": null,
            "flex_flow": null,
            "width": null,
            "min_width": null,
            "border": null,
            "align_items": null,
            "bottom": null,
            "_model_module": "@jupyter-widgets/base",
            "top": null,
            "grid_column": null,
            "overflow_y": null,
            "overflow_x": null,
            "grid_auto_flow": null,
            "grid_area": null,
            "grid_template_columns": null,
            "flex": null,
            "_model_name": "LayoutModel",
            "justify_items": null,
            "grid_row": null,
            "max_height": null,
            "align_content": null,
            "visibility": null,
            "align_self": null,
            "height": null,
            "min_height": null,
            "padding": null,
            "grid_auto_rows": null,
            "grid_gap": null,
            "max_width": null,
            "order": null,
            "_view_module_version": "1.2.0",
            "grid_template_areas": null,
            "object_position": null,
            "object_fit": null,
            "grid_auto_columns": null,
            "margin": null,
            "display": null,
            "left": null
          }
        },
        "0b855a8d86af4f5688ce78b714597af7": {
          "model_module": "@jupyter-widgets/controls",
          "model_name": "DescriptionStyleModel",
          "state": {
            "_view_name": "StyleView",
            "_model_name": "DescriptionStyleModel",
            "description_width": "",
            "_view_module": "@jupyter-widgets/base",
            "_model_module_version": "1.5.0",
            "_view_count": null,
            "_view_module_version": "1.2.0",
            "_model_module": "@jupyter-widgets/controls"
          }
        },
        "ef947876e8a54b43bf860c1d54661543": {
          "model_module": "@jupyter-widgets/base",
          "model_name": "LayoutModel",
          "state": {
            "_view_name": "LayoutView",
            "grid_template_rows": null,
            "right": null,
            "justify_content": null,
            "_view_module": "@jupyter-widgets/base",
            "overflow": null,
            "_model_module_version": "1.2.0",
            "_view_count": null,
            "flex_flow": null,
            "width": null,
            "min_width": null,
            "border": null,
            "align_items": null,
            "bottom": null,
            "_model_module": "@jupyter-widgets/base",
            "top": null,
            "grid_column": null,
            "overflow_y": null,
            "overflow_x": null,
            "grid_auto_flow": null,
            "grid_area": null,
            "grid_template_columns": null,
            "flex": null,
            "_model_name": "LayoutModel",
            "justify_items": null,
            "grid_row": null,
            "max_height": null,
            "align_content": null,
            "visibility": null,
            "align_self": null,
            "height": null,
            "min_height": null,
            "padding": null,
            "grid_auto_rows": null,
            "grid_gap": null,
            "max_width": null,
            "order": null,
            "_view_module_version": "1.2.0",
            "grid_template_areas": null,
            "object_position": null,
            "object_fit": null,
            "grid_auto_columns": null,
            "margin": null,
            "display": null,
            "left": null
          }
        },
        "d23a0c94ac75422d924515a979e2d3fb": {
          "model_module": "@jupyter-widgets/controls",
          "model_name": "HBoxModel",
          "state": {
            "_view_name": "HBoxView",
            "_dom_classes": [],
            "_model_name": "HBoxModel",
            "_view_module": "@jupyter-widgets/controls",
            "_model_module_version": "1.5.0",
            "_view_count": null,
            "_view_module_version": "1.5.0",
            "box_style": "",
            "layout": "IPY_MODEL_70cbede10d404b00b4524e3322524bc1",
            "_model_module": "@jupyter-widgets/controls",
            "children": [
              "IPY_MODEL_0781b00316b04507ad30e0cce28009a5",
              "IPY_MODEL_c2d0812c835a436987929f993428cf64"
            ]
          }
        },
        "70cbede10d404b00b4524e3322524bc1": {
          "model_module": "@jupyter-widgets/base",
          "model_name": "LayoutModel",
          "state": {
            "_view_name": "LayoutView",
            "grid_template_rows": null,
            "right": null,
            "justify_content": null,
            "_view_module": "@jupyter-widgets/base",
            "overflow": null,
            "_model_module_version": "1.2.0",
            "_view_count": null,
            "flex_flow": null,
            "width": null,
            "min_width": null,
            "border": null,
            "align_items": null,
            "bottom": null,
            "_model_module": "@jupyter-widgets/base",
            "top": null,
            "grid_column": null,
            "overflow_y": null,
            "overflow_x": null,
            "grid_auto_flow": null,
            "grid_area": null,
            "grid_template_columns": null,
            "flex": null,
            "_model_name": "LayoutModel",
            "justify_items": null,
            "grid_row": null,
            "max_height": null,
            "align_content": null,
            "visibility": null,
            "align_self": null,
            "height": null,
            "min_height": null,
            "padding": null,
            "grid_auto_rows": null,
            "grid_gap": null,
            "max_width": null,
            "order": null,
            "_view_module_version": "1.2.0",
            "grid_template_areas": null,
            "object_position": null,
            "object_fit": null,
            "grid_auto_columns": null,
            "margin": null,
            "display": null,
            "left": null
          }
        },
        "0781b00316b04507ad30e0cce28009a5": {
          "model_module": "@jupyter-widgets/controls",
          "model_name": "FloatProgressModel",
          "state": {
            "_view_name": "ProgressView",
            "style": "IPY_MODEL_d8ab314b98644c3fb273393d2f305a07",
            "_dom_classes": [],
            "description": "100%",
            "_model_name": "FloatProgressModel",
            "bar_style": "success",
            "max": 89668,
            "_view_module": "@jupyter-widgets/controls",
            "_model_module_version": "1.5.0",
            "value": 89668,
            "_view_count": null,
            "_view_module_version": "1.5.0",
            "orientation": "horizontal",
            "min": 0,
            "description_tooltip": null,
            "_model_module": "@jupyter-widgets/controls",
            "layout": "IPY_MODEL_7709607f717443808dad5b5f60e53fae"
          }
        },
        "c2d0812c835a436987929f993428cf64": {
          "model_module": "@jupyter-widgets/controls",
          "model_name": "HTMLModel",
          "state": {
            "_view_name": "HTMLView",
            "style": "IPY_MODEL_0b69de52f6f048498db4446812742bed",
            "_dom_classes": [],
            "description": "",
            "_model_name": "HTMLModel",
            "placeholder": "​",
            "_view_module": "@jupyter-widgets/controls",
            "_model_module_version": "1.5.0",
            "value": " 89668/89668 [02:56&lt;00:00, 507.01it/s]",
            "_view_count": null,
            "_view_module_version": "1.5.0",
            "description_tooltip": null,
            "_model_module": "@jupyter-widgets/controls",
            "layout": "IPY_MODEL_19e8a7aa1e0a4e2391c9cb3bfc2c308b"
          }
        },
        "d8ab314b98644c3fb273393d2f305a07": {
          "model_module": "@jupyter-widgets/controls",
          "model_name": "ProgressStyleModel",
          "state": {
            "_view_name": "StyleView",
            "_model_name": "ProgressStyleModel",
            "description_width": "initial",
            "_view_module": "@jupyter-widgets/base",
            "_model_module_version": "1.5.0",
            "_view_count": null,
            "_view_module_version": "1.2.0",
            "bar_color": null,
            "_model_module": "@jupyter-widgets/controls"
          }
        },
        "7709607f717443808dad5b5f60e53fae": {
          "model_module": "@jupyter-widgets/base",
          "model_name": "LayoutModel",
          "state": {
            "_view_name": "LayoutView",
            "grid_template_rows": null,
            "right": null,
            "justify_content": null,
            "_view_module": "@jupyter-widgets/base",
            "overflow": null,
            "_model_module_version": "1.2.0",
            "_view_count": null,
            "flex_flow": null,
            "width": null,
            "min_width": null,
            "border": null,
            "align_items": null,
            "bottom": null,
            "_model_module": "@jupyter-widgets/base",
            "top": null,
            "grid_column": null,
            "overflow_y": null,
            "overflow_x": null,
            "grid_auto_flow": null,
            "grid_area": null,
            "grid_template_columns": null,
            "flex": null,
            "_model_name": "LayoutModel",
            "justify_items": null,
            "grid_row": null,
            "max_height": null,
            "align_content": null,
            "visibility": null,
            "align_self": null,
            "height": null,
            "min_height": null,
            "padding": null,
            "grid_auto_rows": null,
            "grid_gap": null,
            "max_width": null,
            "order": null,
            "_view_module_version": "1.2.0",
            "grid_template_areas": null,
            "object_position": null,
            "object_fit": null,
            "grid_auto_columns": null,
            "margin": null,
            "display": null,
            "left": null
          }
        },
        "0b69de52f6f048498db4446812742bed": {
          "model_module": "@jupyter-widgets/controls",
          "model_name": "DescriptionStyleModel",
          "state": {
            "_view_name": "StyleView",
            "_model_name": "DescriptionStyleModel",
            "description_width": "",
            "_view_module": "@jupyter-widgets/base",
            "_model_module_version": "1.5.0",
            "_view_count": null,
            "_view_module_version": "1.2.0",
            "_model_module": "@jupyter-widgets/controls"
          }
        },
        "19e8a7aa1e0a4e2391c9cb3bfc2c308b": {
          "model_module": "@jupyter-widgets/base",
          "model_name": "LayoutModel",
          "state": {
            "_view_name": "LayoutView",
            "grid_template_rows": null,
            "right": null,
            "justify_content": null,
            "_view_module": "@jupyter-widgets/base",
            "overflow": null,
            "_model_module_version": "1.2.0",
            "_view_count": null,
            "flex_flow": null,
            "width": null,
            "min_width": null,
            "border": null,
            "align_items": null,
            "bottom": null,
            "_model_module": "@jupyter-widgets/base",
            "top": null,
            "grid_column": null,
            "overflow_y": null,
            "overflow_x": null,
            "grid_auto_flow": null,
            "grid_area": null,
            "grid_template_columns": null,
            "flex": null,
            "_model_name": "LayoutModel",
            "justify_items": null,
            "grid_row": null,
            "max_height": null,
            "align_content": null,
            "visibility": null,
            "align_self": null,
            "height": null,
            "min_height": null,
            "padding": null,
            "grid_auto_rows": null,
            "grid_gap": null,
            "max_width": null,
            "order": null,
            "_view_module_version": "1.2.0",
            "grid_template_areas": null,
            "object_position": null,
            "object_fit": null,
            "grid_auto_columns": null,
            "margin": null,
            "display": null,
            "left": null
          }
        },
        "11b613d88293449ab3a3fca9d1cba7ae": {
          "model_module": "@jupyter-widgets/controls",
          "model_name": "HBoxModel",
          "state": {
            "_view_name": "HBoxView",
            "_dom_classes": [],
            "_model_name": "HBoxModel",
            "_view_module": "@jupyter-widgets/controls",
            "_model_module_version": "1.5.0",
            "_view_count": null,
            "_view_module_version": "1.5.0",
            "box_style": "",
            "layout": "IPY_MODEL_20fa9e0e78774dfd941ef630bba6bf06",
            "_model_module": "@jupyter-widgets/controls",
            "children": [
              "IPY_MODEL_15b8540fe3b94507b59acf54075aa5cc",
              "IPY_MODEL_181e81edf10d4e10afca8991c5619d78"
            ]
          }
        },
        "20fa9e0e78774dfd941ef630bba6bf06": {
          "model_module": "@jupyter-widgets/base",
          "model_name": "LayoutModel",
          "state": {
            "_view_name": "LayoutView",
            "grid_template_rows": null,
            "right": null,
            "justify_content": null,
            "_view_module": "@jupyter-widgets/base",
            "overflow": null,
            "_model_module_version": "1.2.0",
            "_view_count": null,
            "flex_flow": null,
            "width": null,
            "min_width": null,
            "border": null,
            "align_items": null,
            "bottom": null,
            "_model_module": "@jupyter-widgets/base",
            "top": null,
            "grid_column": null,
            "overflow_y": null,
            "overflow_x": null,
            "grid_auto_flow": null,
            "grid_area": null,
            "grid_template_columns": null,
            "flex": null,
            "_model_name": "LayoutModel",
            "justify_items": null,
            "grid_row": null,
            "max_height": null,
            "align_content": null,
            "visibility": null,
            "align_self": null,
            "height": null,
            "min_height": null,
            "padding": null,
            "grid_auto_rows": null,
            "grid_gap": null,
            "max_width": null,
            "order": null,
            "_view_module_version": "1.2.0",
            "grid_template_areas": null,
            "object_position": null,
            "object_fit": null,
            "grid_auto_columns": null,
            "margin": null,
            "display": null,
            "left": null
          }
        },
        "15b8540fe3b94507b59acf54075aa5cc": {
          "model_module": "@jupyter-widgets/controls",
          "model_name": "FloatProgressModel",
          "state": {
            "_view_name": "ProgressView",
            "style": "IPY_MODEL_cfab7a7e88584bc78451616b5e1389b8",
            "_dom_classes": [],
            "description": "100%",
            "_model_name": "FloatProgressModel",
            "bar_style": "success",
            "max": 46536,
            "_view_module": "@jupyter-widgets/controls",
            "_model_module_version": "1.5.0",
            "value": 46536,
            "_view_count": null,
            "_view_module_version": "1.5.0",
            "orientation": "horizontal",
            "min": 0,
            "description_tooltip": null,
            "_model_module": "@jupyter-widgets/controls",
            "layout": "IPY_MODEL_7b359c3aafba4fa9b4b866b2be76ae35"
          }
        },
        "181e81edf10d4e10afca8991c5619d78": {
          "model_module": "@jupyter-widgets/controls",
          "model_name": "HTMLModel",
          "state": {
            "_view_name": "HTMLView",
            "style": "IPY_MODEL_74a0f906b9ec427985ec4ad3f4ccb680",
            "_dom_classes": [],
            "description": "",
            "_model_name": "HTMLModel",
            "placeholder": "​",
            "_view_module": "@jupyter-widgets/controls",
            "_model_module_version": "1.5.0",
            "value": " 46536/46536 [07:35&lt;00:00, 102.18it/s]",
            "_view_count": null,
            "_view_module_version": "1.5.0",
            "description_tooltip": null,
            "_model_module": "@jupyter-widgets/controls",
            "layout": "IPY_MODEL_b288c8364913439ba5984fd6283b7647"
          }
        },
        "cfab7a7e88584bc78451616b5e1389b8": {
          "model_module": "@jupyter-widgets/controls",
          "model_name": "ProgressStyleModel",
          "state": {
            "_view_name": "StyleView",
            "_model_name": "ProgressStyleModel",
            "description_width": "initial",
            "_view_module": "@jupyter-widgets/base",
            "_model_module_version": "1.5.0",
            "_view_count": null,
            "_view_module_version": "1.2.0",
            "bar_color": null,
            "_model_module": "@jupyter-widgets/controls"
          }
        },
        "7b359c3aafba4fa9b4b866b2be76ae35": {
          "model_module": "@jupyter-widgets/base",
          "model_name": "LayoutModel",
          "state": {
            "_view_name": "LayoutView",
            "grid_template_rows": null,
            "right": null,
            "justify_content": null,
            "_view_module": "@jupyter-widgets/base",
            "overflow": null,
            "_model_module_version": "1.2.0",
            "_view_count": null,
            "flex_flow": null,
            "width": null,
            "min_width": null,
            "border": null,
            "align_items": null,
            "bottom": null,
            "_model_module": "@jupyter-widgets/base",
            "top": null,
            "grid_column": null,
            "overflow_y": null,
            "overflow_x": null,
            "grid_auto_flow": null,
            "grid_area": null,
            "grid_template_columns": null,
            "flex": null,
            "_model_name": "LayoutModel",
            "justify_items": null,
            "grid_row": null,
            "max_height": null,
            "align_content": null,
            "visibility": null,
            "align_self": null,
            "height": null,
            "min_height": null,
            "padding": null,
            "grid_auto_rows": null,
            "grid_gap": null,
            "max_width": null,
            "order": null,
            "_view_module_version": "1.2.0",
            "grid_template_areas": null,
            "object_position": null,
            "object_fit": null,
            "grid_auto_columns": null,
            "margin": null,
            "display": null,
            "left": null
          }
        },
        "74a0f906b9ec427985ec4ad3f4ccb680": {
          "model_module": "@jupyter-widgets/controls",
          "model_name": "DescriptionStyleModel",
          "state": {
            "_view_name": "StyleView",
            "_model_name": "DescriptionStyleModel",
            "description_width": "",
            "_view_module": "@jupyter-widgets/base",
            "_model_module_version": "1.5.0",
            "_view_count": null,
            "_view_module_version": "1.2.0",
            "_model_module": "@jupyter-widgets/controls"
          }
        },
        "b288c8364913439ba5984fd6283b7647": {
          "model_module": "@jupyter-widgets/base",
          "model_name": "LayoutModel",
          "state": {
            "_view_name": "LayoutView",
            "grid_template_rows": null,
            "right": null,
            "justify_content": null,
            "_view_module": "@jupyter-widgets/base",
            "overflow": null,
            "_model_module_version": "1.2.0",
            "_view_count": null,
            "flex_flow": null,
            "width": null,
            "min_width": null,
            "border": null,
            "align_items": null,
            "bottom": null,
            "_model_module": "@jupyter-widgets/base",
            "top": null,
            "grid_column": null,
            "overflow_y": null,
            "overflow_x": null,
            "grid_auto_flow": null,
            "grid_area": null,
            "grid_template_columns": null,
            "flex": null,
            "_model_name": "LayoutModel",
            "justify_items": null,
            "grid_row": null,
            "max_height": null,
            "align_content": null,
            "visibility": null,
            "align_self": null,
            "height": null,
            "min_height": null,
            "padding": null,
            "grid_auto_rows": null,
            "grid_gap": null,
            "max_width": null,
            "order": null,
            "_view_module_version": "1.2.0",
            "grid_template_areas": null,
            "object_position": null,
            "object_fit": null,
            "grid_auto_columns": null,
            "margin": null,
            "display": null,
            "left": null
          }
        },
        "97a1df2b8dc54798ab96215ff5acdf67": {
          "model_module": "@jupyter-widgets/controls",
          "model_name": "HBoxModel",
          "state": {
            "_view_name": "HBoxView",
            "_dom_classes": [],
            "_model_name": "HBoxModel",
            "_view_module": "@jupyter-widgets/controls",
            "_model_module_version": "1.5.0",
            "_view_count": null,
            "_view_module_version": "1.5.0",
            "box_style": "",
            "layout": "IPY_MODEL_0e21acad2ea243dcb14bd6115f201119",
            "_model_module": "@jupyter-widgets/controls",
            "children": [
              "IPY_MODEL_1f613732ee874195b7061fabaf72c9a6",
              "IPY_MODEL_0c5106d3af66469c9a4314fec6fedd9b"
            ]
          }
        },
        "0e21acad2ea243dcb14bd6115f201119": {
          "model_module": "@jupyter-widgets/base",
          "model_name": "LayoutModel",
          "state": {
            "_view_name": "LayoutView",
            "grid_template_rows": null,
            "right": null,
            "justify_content": null,
            "_view_module": "@jupyter-widgets/base",
            "overflow": null,
            "_model_module_version": "1.2.0",
            "_view_count": null,
            "flex_flow": null,
            "width": null,
            "min_width": null,
            "border": null,
            "align_items": null,
            "bottom": null,
            "_model_module": "@jupyter-widgets/base",
            "top": null,
            "grid_column": null,
            "overflow_y": null,
            "overflow_x": null,
            "grid_auto_flow": null,
            "grid_area": null,
            "grid_template_columns": null,
            "flex": null,
            "_model_name": "LayoutModel",
            "justify_items": null,
            "grid_row": null,
            "max_height": null,
            "align_content": null,
            "visibility": null,
            "align_self": null,
            "height": null,
            "min_height": null,
            "padding": null,
            "grid_auto_rows": null,
            "grid_gap": null,
            "max_width": null,
            "order": null,
            "_view_module_version": "1.2.0",
            "grid_template_areas": null,
            "object_position": null,
            "object_fit": null,
            "grid_auto_columns": null,
            "margin": null,
            "display": null,
            "left": null
          }
        },
        "1f613732ee874195b7061fabaf72c9a6": {
          "model_module": "@jupyter-widgets/controls",
          "model_name": "FloatProgressModel",
          "state": {
            "_view_name": "ProgressView",
            "style": "IPY_MODEL_4fb246b01e1643b086b9f3fdcb31e752",
            "_dom_classes": [],
            "description": "100%",
            "_model_name": "FloatProgressModel",
            "bar_style": "success",
            "max": 5624,
            "_view_module": "@jupyter-widgets/controls",
            "_model_module_version": "1.5.0",
            "value": 5624,
            "_view_count": null,
            "_view_module_version": "1.5.0",
            "orientation": "horizontal",
            "min": 0,
            "description_tooltip": null,
            "_model_module": "@jupyter-widgets/controls",
            "layout": "IPY_MODEL_101c674211154684a5e000f4abeffe88"
          }
        },
        "0c5106d3af66469c9a4314fec6fedd9b": {
          "model_module": "@jupyter-widgets/controls",
          "model_name": "HTMLModel",
          "state": {
            "_view_name": "HTMLView",
            "style": "IPY_MODEL_df2b8426c6ed49ef8d3e847bd934a751",
            "_dom_classes": [],
            "description": "",
            "_model_name": "HTMLModel",
            "placeholder": "​",
            "_view_module": "@jupyter-widgets/controls",
            "_model_module_version": "1.5.0",
            "value": " 5624/5624 [00:03&lt;00:00, 1652.96it/s]",
            "_view_count": null,
            "_view_module_version": "1.5.0",
            "description_tooltip": null,
            "_model_module": "@jupyter-widgets/controls",
            "layout": "IPY_MODEL_c757a08ae5014aed883038d71cb93fbf"
          }
        },
        "4fb246b01e1643b086b9f3fdcb31e752": {
          "model_module": "@jupyter-widgets/controls",
          "model_name": "ProgressStyleModel",
          "state": {
            "_view_name": "StyleView",
            "_model_name": "ProgressStyleModel",
            "description_width": "initial",
            "_view_module": "@jupyter-widgets/base",
            "_model_module_version": "1.5.0",
            "_view_count": null,
            "_view_module_version": "1.2.0",
            "bar_color": null,
            "_model_module": "@jupyter-widgets/controls"
          }
        },
        "101c674211154684a5e000f4abeffe88": {
          "model_module": "@jupyter-widgets/base",
          "model_name": "LayoutModel",
          "state": {
            "_view_name": "LayoutView",
            "grid_template_rows": null,
            "right": null,
            "justify_content": null,
            "_view_module": "@jupyter-widgets/base",
            "overflow": null,
            "_model_module_version": "1.2.0",
            "_view_count": null,
            "flex_flow": null,
            "width": null,
            "min_width": null,
            "border": null,
            "align_items": null,
            "bottom": null,
            "_model_module": "@jupyter-widgets/base",
            "top": null,
            "grid_column": null,
            "overflow_y": null,
            "overflow_x": null,
            "grid_auto_flow": null,
            "grid_area": null,
            "grid_template_columns": null,
            "flex": null,
            "_model_name": "LayoutModel",
            "justify_items": null,
            "grid_row": null,
            "max_height": null,
            "align_content": null,
            "visibility": null,
            "align_self": null,
            "height": null,
            "min_height": null,
            "padding": null,
            "grid_auto_rows": null,
            "grid_gap": null,
            "max_width": null,
            "order": null,
            "_view_module_version": "1.2.0",
            "grid_template_areas": null,
            "object_position": null,
            "object_fit": null,
            "grid_auto_columns": null,
            "margin": null,
            "display": null,
            "left": null
          }
        },
        "df2b8426c6ed49ef8d3e847bd934a751": {
          "model_module": "@jupyter-widgets/controls",
          "model_name": "DescriptionStyleModel",
          "state": {
            "_view_name": "StyleView",
            "_model_name": "DescriptionStyleModel",
            "description_width": "",
            "_view_module": "@jupyter-widgets/base",
            "_model_module_version": "1.5.0",
            "_view_count": null,
            "_view_module_version": "1.2.0",
            "_model_module": "@jupyter-widgets/controls"
          }
        },
        "c757a08ae5014aed883038d71cb93fbf": {
          "model_module": "@jupyter-widgets/base",
          "model_name": "LayoutModel",
          "state": {
            "_view_name": "LayoutView",
            "grid_template_rows": null,
            "right": null,
            "justify_content": null,
            "_view_module": "@jupyter-widgets/base",
            "overflow": null,
            "_model_module_version": "1.2.0",
            "_view_count": null,
            "flex_flow": null,
            "width": null,
            "min_width": null,
            "border": null,
            "align_items": null,
            "bottom": null,
            "_model_module": "@jupyter-widgets/base",
            "top": null,
            "grid_column": null,
            "overflow_y": null,
            "overflow_x": null,
            "grid_auto_flow": null,
            "grid_area": null,
            "grid_template_columns": null,
            "flex": null,
            "_model_name": "LayoutModel",
            "justify_items": null,
            "grid_row": null,
            "max_height": null,
            "align_content": null,
            "visibility": null,
            "align_self": null,
            "height": null,
            "min_height": null,
            "padding": null,
            "grid_auto_rows": null,
            "grid_gap": null,
            "max_width": null,
            "order": null,
            "_view_module_version": "1.2.0",
            "grid_template_areas": null,
            "object_position": null,
            "object_fit": null,
            "grid_auto_columns": null,
            "margin": null,
            "display": null,
            "left": null
          }
        },
        "02c554bb6792465c83897b853a33d557": {
          "model_module": "@jupyter-widgets/controls",
          "model_name": "HBoxModel",
          "state": {
            "_view_name": "HBoxView",
            "_dom_classes": [],
            "_model_name": "HBoxModel",
            "_view_module": "@jupyter-widgets/controls",
            "_model_module_version": "1.5.0",
            "_view_count": null,
            "_view_module_version": "1.5.0",
            "box_style": "",
            "layout": "IPY_MODEL_015114030b5e4495b546e4d807ef75ea",
            "_model_module": "@jupyter-widgets/controls",
            "children": [
              "IPY_MODEL_d2bfbe8815a844a08bb344d41622252d",
              "IPY_MODEL_f5589b05f503428b8defb5e0375d36b5"
            ]
          }
        },
        "015114030b5e4495b546e4d807ef75ea": {
          "model_module": "@jupyter-widgets/base",
          "model_name": "LayoutModel",
          "state": {
            "_view_name": "LayoutView",
            "grid_template_rows": null,
            "right": null,
            "justify_content": null,
            "_view_module": "@jupyter-widgets/base",
            "overflow": null,
            "_model_module_version": "1.2.0",
            "_view_count": null,
            "flex_flow": null,
            "width": null,
            "min_width": null,
            "border": null,
            "align_items": null,
            "bottom": null,
            "_model_module": "@jupyter-widgets/base",
            "top": null,
            "grid_column": null,
            "overflow_y": null,
            "overflow_x": null,
            "grid_auto_flow": null,
            "grid_area": null,
            "grid_template_columns": null,
            "flex": null,
            "_model_name": "LayoutModel",
            "justify_items": null,
            "grid_row": null,
            "max_height": null,
            "align_content": null,
            "visibility": null,
            "align_self": null,
            "height": null,
            "min_height": null,
            "padding": null,
            "grid_auto_rows": null,
            "grid_gap": null,
            "max_width": null,
            "order": null,
            "_view_module_version": "1.2.0",
            "grid_template_areas": null,
            "object_position": null,
            "object_fit": null,
            "grid_auto_columns": null,
            "margin": null,
            "display": null,
            "left": null
          }
        },
        "d2bfbe8815a844a08bb344d41622252d": {
          "model_module": "@jupyter-widgets/controls",
          "model_name": "FloatProgressModel",
          "state": {
            "_view_name": "ProgressView",
            "style": "IPY_MODEL_204679e30f144414bf692d830d2b1e6e",
            "_dom_classes": [],
            "description": "100%",
            "_model_name": "FloatProgressModel",
            "bar_style": "success",
            "max": 5624,
            "_view_module": "@jupyter-widgets/controls",
            "_model_module_version": "1.5.0",
            "value": 5624,
            "_view_count": null,
            "_view_module_version": "1.5.0",
            "orientation": "horizontal",
            "min": 0,
            "description_tooltip": null,
            "_model_module": "@jupyter-widgets/controls",
            "layout": "IPY_MODEL_d1593cf509b7474daeb114bde42054c5"
          }
        },
        "f5589b05f503428b8defb5e0375d36b5": {
          "model_module": "@jupyter-widgets/controls",
          "model_name": "HTMLModel",
          "state": {
            "_view_name": "HTMLView",
            "style": "IPY_MODEL_cf763ae189bc4288a87cd865831b84c9",
            "_dom_classes": [],
            "description": "",
            "_model_name": "HTMLModel",
            "placeholder": "​",
            "_view_module": "@jupyter-widgets/controls",
            "_model_module_version": "1.5.0",
            "value": " 5624/5624 [00:01&lt;00:00, 4091.22it/s]",
            "_view_count": null,
            "_view_module_version": "1.5.0",
            "description_tooltip": null,
            "_model_module": "@jupyter-widgets/controls",
            "layout": "IPY_MODEL_ae2177009a0944d88563a7565e22f3ef"
          }
        },
        "204679e30f144414bf692d830d2b1e6e": {
          "model_module": "@jupyter-widgets/controls",
          "model_name": "ProgressStyleModel",
          "state": {
            "_view_name": "StyleView",
            "_model_name": "ProgressStyleModel",
            "description_width": "initial",
            "_view_module": "@jupyter-widgets/base",
            "_model_module_version": "1.5.0",
            "_view_count": null,
            "_view_module_version": "1.2.0",
            "bar_color": null,
            "_model_module": "@jupyter-widgets/controls"
          }
        },
        "d1593cf509b7474daeb114bde42054c5": {
          "model_module": "@jupyter-widgets/base",
          "model_name": "LayoutModel",
          "state": {
            "_view_name": "LayoutView",
            "grid_template_rows": null,
            "right": null,
            "justify_content": null,
            "_view_module": "@jupyter-widgets/base",
            "overflow": null,
            "_model_module_version": "1.2.0",
            "_view_count": null,
            "flex_flow": null,
            "width": null,
            "min_width": null,
            "border": null,
            "align_items": null,
            "bottom": null,
            "_model_module": "@jupyter-widgets/base",
            "top": null,
            "grid_column": null,
            "overflow_y": null,
            "overflow_x": null,
            "grid_auto_flow": null,
            "grid_area": null,
            "grid_template_columns": null,
            "flex": null,
            "_model_name": "LayoutModel",
            "justify_items": null,
            "grid_row": null,
            "max_height": null,
            "align_content": null,
            "visibility": null,
            "align_self": null,
            "height": null,
            "min_height": null,
            "padding": null,
            "grid_auto_rows": null,
            "grid_gap": null,
            "max_width": null,
            "order": null,
            "_view_module_version": "1.2.0",
            "grid_template_areas": null,
            "object_position": null,
            "object_fit": null,
            "grid_auto_columns": null,
            "margin": null,
            "display": null,
            "left": null
          }
        },
        "cf763ae189bc4288a87cd865831b84c9": {
          "model_module": "@jupyter-widgets/controls",
          "model_name": "DescriptionStyleModel",
          "state": {
            "_view_name": "StyleView",
            "_model_name": "DescriptionStyleModel",
            "description_width": "",
            "_view_module": "@jupyter-widgets/base",
            "_model_module_version": "1.5.0",
            "_view_count": null,
            "_view_module_version": "1.2.0",
            "_model_module": "@jupyter-widgets/controls"
          }
        },
        "ae2177009a0944d88563a7565e22f3ef": {
          "model_module": "@jupyter-widgets/base",
          "model_name": "LayoutModel",
          "state": {
            "_view_name": "LayoutView",
            "grid_template_rows": null,
            "right": null,
            "justify_content": null,
            "_view_module": "@jupyter-widgets/base",
            "overflow": null,
            "_model_module_version": "1.2.0",
            "_view_count": null,
            "flex_flow": null,
            "width": null,
            "min_width": null,
            "border": null,
            "align_items": null,
            "bottom": null,
            "_model_module": "@jupyter-widgets/base",
            "top": null,
            "grid_column": null,
            "overflow_y": null,
            "overflow_x": null,
            "grid_auto_flow": null,
            "grid_area": null,
            "grid_template_columns": null,
            "flex": null,
            "_model_name": "LayoutModel",
            "justify_items": null,
            "grid_row": null,
            "max_height": null,
            "align_content": null,
            "visibility": null,
            "align_self": null,
            "height": null,
            "min_height": null,
            "padding": null,
            "grid_auto_rows": null,
            "grid_gap": null,
            "max_width": null,
            "order": null,
            "_view_module_version": "1.2.0",
            "grid_template_areas": null,
            "object_position": null,
            "object_fit": null,
            "grid_auto_columns": null,
            "margin": null,
            "display": null,
            "left": null
          }
        }
      }
    }
  },
  "cells": [
    {
      "cell_type": "markdown",
      "metadata": {
        "id": "TbCsoElr_Fi2"
      },
      "source": [
        "# Загрузка и импорт необходимых библиотек"
      ]
    },
    {
      "cell_type": "code",
      "metadata": {
        "id": "n117V0i-7Si1"
      },
      "source": [
        "!pip install geopandas\n",
        "!pip install haversine\n",
        "!pip install catboost\n",
        "!pip install bayesian-optimization"
      ],
      "execution_count": null,
      "outputs": []
    },
    {
      "cell_type": "code",
      "metadata": {
        "colab": {
          "base_uri": "https://localhost:8080/"
        },
        "id": "K2RQAp0Tlh-U",
        "outputId": "b0e2e6e5-ac56-4ce2-a488-99b72d5220a6"
      },
      "source": [
        "from google.colab import drive\n",
        "drive.mount('/content/drive/')"
      ],
      "execution_count": null,
      "outputs": [
        {
          "output_type": "stream",
          "text": [
            "Drive already mounted at /content/drive/; to attempt to forcibly remount, call drive.mount(\"/content/drive/\", force_remount=True).\n"
          ],
          "name": "stdout"
        }
      ]
    },
    {
      "cell_type": "code",
      "metadata": {
        "id": "a_EiJtcsllv2"
      },
      "source": [
        "import numpy as np\n",
        "import pandas as pd\n",
        "import matplotlib.pyplot as plt\n",
        "%matplotlib inline\n",
        "import seaborn as sns\n",
        "from tqdm.notebook import tqdm\n",
        "\n",
        "from os.path import join\n",
        "\n",
        "from shapely import wkb\n",
        "from datetime import timedelta\n",
        "\n",
        "import geopandas as gpd\n",
        "from sklearn.neighbors import BallTree\n",
        "\n",
        "from haversine import haversine\n",
        "from math import sqrt, cos, acos, degrees\n",
        "\n",
        "from google.colab import files\n",
        "\n",
        "from bayes_opt import BayesianOptimization\n",
        "import catboost as cat\n",
        "from sklearn.metrics import mean_absolute_error, mean_squared_error, roc_auc_score\n",
        "from sklearn import metrics\n",
        "from sklearn.model_selection import train_test_split\n",
        "from sklearn.model_selection import KFold, StratifiedKFold\n",
        "\n",
        "import warnings\n",
        "warnings.filterwarnings(\"ignore\")"
      ],
      "execution_count": null,
      "outputs": []
    },
    {
      "cell_type": "markdown",
      "metadata": {
        "id": "Yjm_8JZJoqtL"
      },
      "source": [
        "# Загрузка данных"
      ]
    },
    {
      "cell_type": "code",
      "metadata": {
        "id": "Ak7-GyfooDDw"
      },
      "source": [
        "data_dir = '/content/drive/My Drive/CODD/data'"
      ],
      "execution_count": null,
      "outputs": []
    },
    {
      "cell_type": "code",
      "metadata": {
        "colab": {
          "base_uri": "https://localhost:8080/"
        },
        "id": "aPbc68qjoekT",
        "outputId": "91d1ded9-b06e-42c8-be83-cb4666f32637"
      },
      "source": [
        "!ls '/content/drive/My Drive/CODD/data'"
      ],
      "execution_count": null,
      "outputs": [
        {
          "output_type": "stream",
          "text": [
            " bus_stops.csv\t\t      repairs_overlaps.csv   test_data.csv\n",
            " cameras.csv\t\t      road_graph.csv\t     train.csv\n",
            " crossroad_angle.csv\t      road_network_2.csv     velo.csv\n",
            " data.csv\t\t      road_network.csv\t    'Граф дорог Москвы (1).csv'\n",
            " isk_dorozh_nerov.csv\t      svetofor.csv\t     Задача.txt\n",
            " mean_speeds_on_cameras.csv   test.csv\t\t    'Описание данных.xlsx'\n"
          ],
          "name": "stdout"
        }
      ]
    },
    {
      "cell_type": "markdown",
      "metadata": {
        "id": "HasmSMFW_Rci"
      },
      "source": [
        "Проанализировав описание данных, принял решение выжать максимум из тех данных, что предоставили организаторы. Хотя рассматривал варианты использования открытых данных с сайта mos.ru."
      ]
    },
    {
      "cell_type": "code",
      "metadata": {
        "id": "TH1MYQ_UogXM"
      },
      "source": [
        "train = pd.read_csv(join(data_dir, 'train.csv'))\n",
        "test = pd.read_csv(join(data_dir, 'test.csv'))\n",
        "road_graph = pd.read_csv(join(data_dir, 'road_graph.csv'), sep=';')\n",
        "road_network = pd.read_csv(join(data_dir, 'road_network.csv'), sep=';')\n",
        "repairs = pd.read_csv(join(data_dir, 'repairs_overlaps.csv'), sep=';')\n",
        "cameras = pd.read_csv(join(data_dir, 'cameras.csv'), sep=';')\n",
        "speeds = pd.read_csv(join(data_dir, 'mean_speeds_on_cameras.csv'), sep=';',  decimal=',')"
      ],
      "execution_count": null,
      "outputs": []
    },
    {
      "cell_type": "markdown",
      "metadata": {
        "id": "qVVQNByfmzAR"
      },
      "source": [
        "# Анализ таргета"
      ]
    },
    {
      "cell_type": "markdown",
      "metadata": {
        "id": "h3ncBxcf_49M"
      },
      "source": [
        "Распределение количества пострадавших на участках дорог оказалось ожидаемо несбалансированным, что нужно будет учесть при обучении модели и получении результатов."
      ]
    },
    {
      "cell_type": "code",
      "metadata": {
        "id": "pmIeHTWkm3ZS"
      },
      "source": [
        "train = train.fillna(0)"
      ],
      "execution_count": null,
      "outputs": []
    },
    {
      "cell_type": "code",
      "metadata": {
        "colab": {
          "base_uri": "https://localhost:8080/"
        },
        "id": "dAtAxXcqosqh",
        "outputId": "b283e440-0e11-4045-fff8-b1860dc8f91a"
      },
      "source": [
        "victims_distribution = train.groupby('victims').id.count().values\n",
        "victims_distribution"
      ],
      "execution_count": null,
      "outputs": [
        {
          "output_type": "execute_result",
          "data": {
            "text/plain": [
              "array([834700,  30538,   6522,   2173,    775,    416,    238,    126,\n",
              "           26,     31,      6,     14,      2,      3,      1,      2,\n",
              "            7,      1,     10,      3,      2])"
            ]
          },
          "metadata": {
            "tags": []
          },
          "execution_count": 193
        }
      ]
    },
    {
      "cell_type": "code",
      "metadata": {
        "colab": {
          "base_uri": "https://localhost:8080/"
        },
        "id": "G0Lw93yuukZ6",
        "outputId": "6810df6c-83b3-4389-ccf2-43f6e6c83623"
      },
      "source": [
        "fig, ax = plt.subplots(figsize=(20, 5))\n",
        "sns.barplot(train.victims.unique()[0:], victims_distribution[0:], ax=ax)"
      ],
      "execution_count": null,
      "outputs": [
        {
          "output_type": "execute_result",
          "data": {
            "text/plain": [
              "<matplotlib.axes._subplots.AxesSubplot at 0x7fe114ca07b8>"
            ]
          },
          "metadata": {
            "tags": []
          },
          "execution_count": 194
        },
        {
          "output_type": "display_data",
          "data": {
            "image/png": "[encoded data removed]",
            "text/plain": [
              "<Figure size 1440x360 with 1 Axes>"
            ]
          },
          "metadata": {
            "tags": [],
            "needs_background": "light"
          }
        }
      ]
    },
    {
      "cell_type": "code",
      "metadata": {
        "colab": {
          "base_uri": "https://localhost:8080/"
        },
        "id": "qafUR7uF6IPj",
        "outputId": "80f15d05-87d2-4d4f-aa26-a06b0f891bf8"
      },
      "source": [
        "fig, ax = plt.subplots(figsize=(20, 5))\n",
        "sns.barplot(train.victims.unique()[1:], victims_distribution[1:], ax=ax)"
      ],
      "execution_count": null,
      "outputs": [
        {
          "output_type": "execute_result",
          "data": {
            "text/plain": [
              "<matplotlib.axes._subplots.AxesSubplot at 0x7fe114bf7c88>"
            ]
          },
          "metadata": {
            "tags": []
          },
          "execution_count": 195
        },
        {
          "output_type": "display_data",
          "data": {
            "image/png": "[encoded data removed]",
            "text/plain": [
              "<Figure size 1440x360 with 1 Axes>"
            ]
          },
          "metadata": {
            "tags": [],
            "needs_background": "light"
          }
        }
      ]
    },
    {
      "cell_type": "markdown",
      "metadata": {
        "id": "-pLE8vy8tDCS"
      },
      "source": [
        "**Совпадения id в трейне и тесте**"
      ]
    },
    {
      "cell_type": "markdown",
      "metadata": {
        "id": "njMyTkTsAa1W"
      },
      "source": [
        "Также было найдено пересечени тестовых и тренировочных id. Использование таких ликов нежелательно, но это может помочь существенно улучшить метрики."
      ]
    },
    {
      "cell_type": "code",
      "metadata": {
        "colab": {
          "base_uri": "https://localhost:8080/"
        },
        "id": "peGBeZizrfS5",
        "outputId": "6d18711b-513e-4b73-f521-3f21f662a5a8"
      },
      "source": [
        "train[(train.id.isin(test.id.values))].drop_duplicates('id')"
      ],
      "execution_count": null,
      "outputs": [
        {
          "output_type": "execute_result",
          "data": {
            "text/html": [
              "<div>\n",
              "<style scoped>\n",
              "    .dataframe tbody tr th:only-of-type {\n",
              "        vertical-align: middle;\n",
              "    }\n",
              "\n",
              "    .dataframe tbody tr th {\n",
              "        vertical-align: top;\n",
              "    }\n",
              "\n",
              "    .dataframe thead th {\n",
              "        text-align: right;\n",
              "    }\n",
              "</style>\n",
              "<table border=\"1\" class=\"dataframe\">\n",
              "  <thead>\n",
              "    <tr style=\"text-align: right;\">\n",
              "      <th></th>\n",
              "      <th>id</th>\n",
              "      <th>victims</th>\n",
              "    </tr>\n",
              "  </thead>\n",
              "  <tbody>\n",
              "    <tr>\n",
              "      <th>39045</th>\n",
              "      <td>17178985</td>\n",
              "      <td>1.0</td>\n",
              "    </tr>\n",
              "    <tr>\n",
              "      <th>40281</th>\n",
              "      <td>1079733</td>\n",
              "      <td>0.0</td>\n",
              "    </tr>\n",
              "    <tr>\n",
              "      <th>40372</th>\n",
              "      <td>533730</td>\n",
              "      <td>0.0</td>\n",
              "    </tr>\n",
              "    <tr>\n",
              "      <th>40430</th>\n",
              "      <td>12025556</td>\n",
              "      <td>0.0</td>\n",
              "    </tr>\n",
              "    <tr>\n",
              "      <th>40478</th>\n",
              "      <td>19048542</td>\n",
              "      <td>0.0</td>\n",
              "    </tr>\n",
              "    <tr>\n",
              "      <th>...</th>\n",
              "      <td>...</td>\n",
              "      <td>...</td>\n",
              "    </tr>\n",
              "    <tr>\n",
              "      <th>845555</th>\n",
              "      <td>14552532</td>\n",
              "      <td>0.0</td>\n",
              "    </tr>\n",
              "    <tr>\n",
              "      <th>845995</th>\n",
              "      <td>14552454</td>\n",
              "      <td>2.0</td>\n",
              "    </tr>\n",
              "    <tr>\n",
              "      <th>849118</th>\n",
              "      <td>14552631</td>\n",
              "      <td>0.0</td>\n",
              "    </tr>\n",
              "    <tr>\n",
              "      <th>852114</th>\n",
              "      <td>12379303</td>\n",
              "      <td>0.0</td>\n",
              "    </tr>\n",
              "    <tr>\n",
              "      <th>852271</th>\n",
              "      <td>12379319</td>\n",
              "      <td>0.0</td>\n",
              "    </tr>\n",
              "  </tbody>\n",
              "</table>\n",
              "<p>1399 rows × 2 columns</p>\n",
              "</div>"
            ],
            "text/plain": [
              "              id  victims\n",
              "39045   17178985      1.0\n",
              "40281    1079733      0.0\n",
              "40372     533730      0.0\n",
              "40430   12025556      0.0\n",
              "40478   19048542      0.0\n",
              "...          ...      ...\n",
              "845555  14552532      0.0\n",
              "845995  14552454      2.0\n",
              "849118  14552631      0.0\n",
              "852114  12379303      0.0\n",
              "852271  12379319      0.0\n",
              "\n",
              "[1399 rows x 2 columns]"
            ]
          },
          "metadata": {
            "tags": []
          },
          "execution_count": 196
        }
      ]
    },
    {
      "cell_type": "markdown",
      "metadata": {
        "id": "Fn4Xli4wpfH3"
      },
      "source": [
        "# Объединение train и test"
      ]
    },
    {
      "cell_type": "markdown",
      "metadata": {
        "id": "4C-vKvtVAxdL"
      },
      "source": [
        "Трейн и тест объединяются с созданием дополнительного признака, к какому множеству отностится объект."
      ]
    },
    {
      "cell_type": "code",
      "metadata": {
        "id": "5auDN7KxptGM"
      },
      "source": [
        "train['is_test'] = 0\n",
        "test['is_test'] = 1"
      ],
      "execution_count": null,
      "outputs": []
    },
    {
      "cell_type": "code",
      "metadata": {
        "id": "icTv7mn2pjXn"
      },
      "source": [
        "data = pd.concat([train, test])"
      ],
      "execution_count": null,
      "outputs": []
    },
    {
      "cell_type": "code",
      "metadata": {
        "id": "8OLLg4RYq043"
      },
      "source": [
        "del train\n",
        "del test"
      ],
      "execution_count": null,
      "outputs": []
    },
    {
      "cell_type": "markdown",
      "metadata": {
        "id": "Ag3Yf-d4p5pP"
      },
      "source": [
        "# Приведение геометрий к правильному типу"
      ]
    },
    {
      "cell_type": "markdown",
      "metadata": {
        "id": "JBHLJo4kA7Za"
      },
      "source": [
        "Геометрия приводится к типу geometry для дальнейшего использования."
      ]
    },
    {
      "cell_type": "code",
      "metadata": {
        "id": "6xe8OVJtM6hs"
      },
      "source": [
        "def to_geom(x):\n",
        "    return wkb.loads(x.strip(), hex=True)"
      ],
      "execution_count": null,
      "outputs": []
    },
    {
      "cell_type": "code",
      "metadata": {
        "id": "3ML9cLUlLwM4"
      },
      "source": [
        "road_graph.geom = road_graph.geom.apply(to_geom)"
      ],
      "execution_count": null,
      "outputs": []
    },
    {
      "cell_type": "code",
      "metadata": {
        "id": "XG1nCc13NqeK"
      },
      "source": [
        "road_graph = road_graph.drop(['geom_buffer'], axis=1)"
      ],
      "execution_count": null,
      "outputs": []
    },
    {
      "cell_type": "code",
      "metadata": {
        "colab": {
          "base_uri": "https://localhost:8080/"
        },
        "id": "QJ3YODSdKniu",
        "outputId": "90e5b4e6-4abb-4830-f2aa-285fb185d881"
      },
      "source": [
        "for i in range(repairs.shape[0]):\n",
        "    try:\n",
        "        repairs.geom[i] = to_geom(repairs.geom[i].strip())\n",
        "    except:\n",
        "        repairs = repairs[~repairs.index.isin([i])]"
      ],
      "execution_count": null,
      "outputs": [
        {
          "output_type": "stream",
          "text": [
            "ParseException: Premature end of HEX string\n",
            "ParseException: Premature end of HEX string\n",
            "ParseException: Premature end of HEX string\n",
            "ParseException: Premature end of HEX string\n",
            "ParseException: Premature end of HEX string\n",
            "ParseException: Premature end of HEX string\n",
            "ParseException: Premature end of HEX string\n",
            "ParseException: Premature end of HEX string\n",
            "ParseException: Premature end of HEX string\n",
            "ParseException: Premature end of HEX string\n",
            "ParseException: Premature end of HEX string\n",
            "ParseException: Premature end of HEX string\n",
            "ParseException: Premature end of HEX string\n",
            "ParseException: Premature end of HEX string\n",
            "ParseException: Premature end of HEX string\n",
            "ParseException: Premature end of HEX string\n",
            "ParseException: Premature end of HEX string\n",
            "ParseException: Premature end of HEX string\n",
            "ParseException: Premature end of HEX string\n"
          ],
          "name": "stderr"
        }
      ]
    },
    {
      "cell_type": "markdown",
      "metadata": {
        "id": "k7b7IyAChuDt"
      },
      "source": [
        "# Начало, середина и конец участка"
      ]
    },
    {
      "cell_type": "markdown",
      "metadata": {
        "id": "aeT3z4OOBR2t"
      },
      "source": [
        "Безсуловно, важными признаками являются географические признаки. Они непосредственно определяют расположение участка дороги, а также помогут в выведении других фичей."
      ]
    },
    {
      "cell_type": "code",
      "metadata": {
        "colab": {
          "base_uri": "https://localhost:8080/",
          "referenced_widgets": [
            "3d6a1e0234fd4c3c9f056c22aec3be2a",
            "970a3c8ef4fb45609b2c6911755fc743",
            "5c8d579121764365aa91141e861b43dc",
            "85745049f0c34b7ba7ed61c0eb6e8d99",
            "5fb4589ba4f54a6093bcf8772535821f",
            "3818d0ad7c814dc9a8238a2f51bd330a",
            "c8cb9aba2b6e4fc6a3c827dd1bdc2086",
            "8f9c354846874ceda0a66d41805b91ce"
          ]
        },
        "id": "DcSs7tSrvmtk",
        "outputId": "5e583895-f2aa-44cd-8716-6fa39c96e522"
      },
      "source": [
        "lon_start = []\n",
        "lat_start = []\n",
        "lon_end = []\n",
        "lat_end = []\n",
        "\n",
        "for i in tqdm(range(len(road_graph.geom))):\n",
        "    x = np.array(road_graph.geom[i].geoms[0].coords.xy, dtype=float)[0]\n",
        "    y = np.array(road_graph.geom[i].geoms[0].coords.xy, dtype=float)[1]\n",
        "    lon_start.append(x[0])\n",
        "    lat_start.append(y[0])\n",
        "    lon_end.append(x[len(x)-1])\n",
        "    lat_end.append(y[len(y)-1])\n",
        "\n",
        "road_graph['lat_start'] = lat_start\n",
        "road_graph['lon_start'] = lon_start\n",
        "road_graph['lat_end'] = lat_end\n",
        "road_graph['lon_end'] = lon_end"
      ],
      "execution_count": null,
      "outputs": [
        {
          "output_type": "display_data",
          "data": {
            "application/vnd.jupyter.widget-view+json": {
              "model_id": "3d6a1e0234fd4c3c9f056c22aec3be2a",
              "version_minor": 0,
              "version_major": 2
            },
            "text/plain": [
              "HBox(children=(FloatProgress(value=0.0, max=955695.0), HTML(value='')))"
            ]
          },
          "metadata": {
            "tags": []
          }
        },
        {
          "output_type": "stream",
          "text": [
            "\n"
          ],
          "name": "stdout"
        }
      ]
    },
    {
      "cell_type": "code",
      "metadata": {
        "id": "goTvD1Y5v3Qn"
      },
      "source": [
        "road_graph['lon_mean'] = (road_graph.lon_start + road_graph.lon_end) / 2\n",
        "road_graph['lat_mean'] = (road_graph.lat_start + road_graph.lat_end) / 2"
      ],
      "execution_count": null,
      "outputs": []
    },
    {
      "cell_type": "code",
      "metadata": {
        "colab": {
          "base_uri": "https://localhost:8080/"
        },
        "id": "-rialMjxvwMJ",
        "outputId": "b3db8e03-270f-4b3e-dce4-87f4ce3b9a32"
      },
      "source": [
        "road_graph.head(1)"
      ],
      "execution_count": null,
      "outputs": [
        {
          "output_type": "execute_result",
          "data": {
            "text/html": [
              "<div>\n",
              "<style scoped>\n",
              "    .dataframe tbody tr th:only-of-type {\n",
              "        vertical-align: middle;\n",
              "    }\n",
              "\n",
              "    .dataframe tbody tr th {\n",
              "        vertical-align: top;\n",
              "    }\n",
              "\n",
              "    .dataframe thead th {\n",
              "        text-align: right;\n",
              "    }\n",
              "</style>\n",
              "<table border=\"1\" class=\"dataframe\">\n",
              "  <thead>\n",
              "    <tr style=\"text-align: right;\">\n",
              "      <th></th>\n",
              "      <th>id</th>\n",
              "      <th>geom</th>\n",
              "      <th>obj_cod</th>\n",
              "      <th>typ_cod</th>\n",
              "      <th>nlevel</th>\n",
              "      <th>btf</th>\n",
              "      <th>oneway</th>\n",
              "      <th>surface</th>\n",
              "      <th>splitter</th>\n",
              "      <th>speedlim</th>\n",
              "      <th>f_rspeed</th>\n",
              "      <th>t_rspeed</th>\n",
              "      <th>lanewidth</th>\n",
              "      <th>f_lanes</th>\n",
              "      <th>t_lanes</th>\n",
              "      <th>f_sidewalk</th>\n",
              "      <th>t_sidewalk</th>\n",
              "      <th>f_buslanes</th>\n",
              "      <th>t_buslanes</th>\n",
              "      <th>multidigit</th>\n",
              "      <th>rd_name</th>\n",
              "      <th>rd_e_name</th>\n",
              "      <th>rd_l_name</th>\n",
              "      <th>f_parking</th>\n",
              "      <th>t_parking</th>\n",
              "      <th>bicyclanes</th>\n",
              "      <th>lat_start</th>\n",
              "      <th>lon_start</th>\n",
              "      <th>lat_end</th>\n",
              "      <th>lon_end</th>\n",
              "      <th>lon_mean</th>\n",
              "      <th>lat_mean</th>\n",
              "    </tr>\n",
              "  </thead>\n",
              "  <tbody>\n",
              "    <tr>\n",
              "      <th>0</th>\n",
              "      <td>14644059</td>\n",
              "      <td>(LINESTRING (36.80456837166526 55.440413298899...</td>\n",
              "      <td>4011775</td>\n",
              "      <td>7730</td>\n",
              "      <td>1</td>\n",
              "      <td>0</td>\n",
              "      <td>0</td>\n",
              "      <td>3</td>\n",
              "      <td>2</td>\n",
              "      <td>77</td>\n",
              "      <td>40</td>\n",
              "      <td>40</td>\n",
              "      <td>0</td>\n",
              "      <td>1</td>\n",
              "      <td>1</td>\n",
              "      <td>0</td>\n",
              "      <td>0</td>\n",
              "      <td>0</td>\n",
              "      <td>0</td>\n",
              "      <td>0</td>\n",
              "      <td>NaN</td>\n",
              "      <td>NaN</td>\n",
              "      <td>NaN</td>\n",
              "      <td>0</td>\n",
              "      <td>1</td>\n",
              "      <td>0</td>\n",
              "      <td>55.440413</td>\n",
              "      <td>36.804568</td>\n",
              "      <td>55.465773</td>\n",
              "      <td>36.701662</td>\n",
              "      <td>36.753115</td>\n",
              "      <td>55.453093</td>\n",
              "    </tr>\n",
              "  </tbody>\n",
              "</table>\n",
              "</div>"
            ],
            "text/plain": [
              "         id  ...   lat_mean\n",
              "0  14644059  ...  55.453093\n",
              "\n",
              "[1 rows x 32 columns]"
            ]
          },
          "metadata": {
            "tags": []
          },
          "execution_count": 209
        }
      ]
    },
    {
      "cell_type": "markdown",
      "metadata": {
        "id": "vazJsJZt-rEW"
      },
      "source": [
        "# Длина и кривизна участка"
      ]
    },
    {
      "cell_type": "markdown",
      "metadata": {
        "id": "F4JoyDsMD9C_"
      },
      "source": [
        "Длина участка влияет на вероятность попадания дтп на этот участок."
      ]
    },
    {
      "cell_type": "markdown",
      "metadata": {
        "id": "tmNn-MhWEN4z"
      },
      "source": [
        "Также вывел фичу кривизны, которая показывает сложность участка. Геометрию разбил на последовательные вектора, посчитал косинус угла между ними, и, благодаря свойству косинуса, чем больше суммарный угол, тем больше кривизна участка."
      ]
    },
    {
      "cell_type": "code",
      "metadata": {
        "id": "Xsm3pCVHKeYk"
      },
      "source": [
        "road_graph['kriv'] = 0\n",
        "road_graph['dist'] = 0"
      ],
      "execution_count": null,
      "outputs": []
    },
    {
      "cell_type": "code",
      "metadata": {
        "colab": {
          "base_uri": "https://localhost:8080/",
          "referenced_widgets": [
            "a6ca1cfae32446d6bc027ba9189a2f3a",
            "03682e763a3e452ab0fbd3101a8530a7",
            "3b9077db94094f189ffbcec7e5571ec8",
            "c27c193b32e34e028c7ac471fa7b515b",
            "f71b9a9e8956445ba93c88c64947583c",
            "fba22ef8e9d446158d7fbdc02da9c497",
            "0b855a8d86af4f5688ce78b714597af7",
            "ef947876e8a54b43bf860c1d54661543"
          ]
        },
        "id": "mpcDu-aN_EHx",
        "outputId": "9195f47c-ef76-4918-bb21-70f50f678e36"
      },
      "source": [
        "for j in tqdm(range(len(road_graph.geom))):\n",
        "    x = np.array(road_graph.geom[j].geoms[0].coords.xy, dtype=float)[0]\n",
        "    y = np.array(road_graph.geom[j].geoms[0].coords.xy, dtype=float)[1]\n",
        "    \n",
        "    angle = 0\n",
        "    dist = 0\n",
        "    k = 1\n",
        "    for i in range(len(x)-2):\n",
        "        a = [x[i+1] - x[i], y[i+1] - y[i]]\n",
        "        b = [x[i+2] - x[i+1], y[i+2] - y[i+1]] \n",
        "        angle_step = (a[0] * b[0] + a[1] * b[1]) / (sqrt(a[0]**2 + a[1]**2) * sqrt(b[0]**2 + b[1]**2))\n",
        "        angle += angle_step    \n",
        "    for i in range(len(x) - 1):\n",
        "        dist += haversine((y[i], x[i]), (y[i+1], x[i+1]))\n",
        "    road_graph['dist'].iloc[j] = dist\n",
        "    road_graph['kriv'].iloc[j] = angle"
      ],
      "execution_count": null,
      "outputs": [
        {
          "output_type": "display_data",
          "data": {
            "application/vnd.jupyter.widget-view+json": {
              "model_id": "a6ca1cfae32446d6bc027ba9189a2f3a",
              "version_minor": 0,
              "version_major": 2
            },
            "text/plain": [
              "HBox(children=(FloatProgress(value=0.0, max=955695.0), HTML(value='')))"
            ]
          },
          "metadata": {
            "tags": []
          }
        },
        {
          "output_type": "stream",
          "text": [
            "\n"
          ],
          "name": "stdout"
        }
      ]
    },
    {
      "cell_type": "markdown",
      "metadata": {
        "id": "-VhmqvbPXS7e"
      },
      "source": [
        "# Соединение data и road_graph"
      ]
    },
    {
      "cell_type": "code",
      "metadata": {
        "id": "bexlZITcTZsJ"
      },
      "source": [
        "data = pd.merge(data, road_graph, on='id', how='left')"
      ],
      "execution_count": null,
      "outputs": []
    },
    {
      "cell_type": "markdown",
      "metadata": {
        "id": "GLTKgtVSCV35"
      },
      "source": [
        "# Добавление камер и скоростей с них"
      ]
    },
    {
      "cell_type": "markdown",
      "metadata": {
        "id": "4qPKSrndGuJ-"
      },
      "source": [
        "Важным признаком является наличие камер на дороге, так как камеры являются методом успокоения трафика. "
      ]
    },
    {
      "cell_type": "markdown",
      "metadata": {
        "id": "4vjjSxQdG7kT"
      },
      "source": [
        "Задачу нахождения камер, принадлежащих участку, решал алгоритмом поиска ближайших соседей из sklearn - BallTree."
      ]
    },
    {
      "cell_type": "code",
      "metadata": {
        "id": "UlJVaJXqCXeJ"
      },
      "source": [
        "data_gpd = gpd.GeoDataFrame([{\n",
        "        'id': id,\n",
        "        'x': a,\n",
        "        'y': b,\n",
        "    } for id, a, b in zip(np.array(data.id), np.array(data.lat_start + data.lat_end)/2, np.array(data.lon_start + data.lon_end)/2)\n",
        "])\n",
        "\n",
        "cameras_gpd = gpd.GeoDataFrame([{\n",
        "        'x': a,\n",
        "        'y': b,\n",
        "    } for a, b in zip(np.array(cameras.x), np.array(cameras.y))\n",
        "])"
      ],
      "execution_count": null,
      "outputs": []
    },
    {
      "cell_type": "code",
      "metadata": {
        "id": "j-qHS7TdDzib"
      },
      "source": [
        "tree = BallTree(cameras_gpd[['x', 'y']].values, leaf_size=2)"
      ],
      "execution_count": null,
      "outputs": []
    },
    {
      "cell_type": "code",
      "metadata": {
        "id": "H7_XdQNcD8XB"
      },
      "source": [
        "data_gpd['distance_nearest'], data_gpd['id_nearest'] = tree.query(\n",
        "    data_gpd[['x', 'y']].values, # The input array for the query\n",
        "    k=1, # The number of nearest neighbors\n",
        ")"
      ],
      "execution_count": null,
      "outputs": []
    },
    {
      "cell_type": "code",
      "metadata": {
        "id": "NsvlKAXbJUnI"
      },
      "source": [
        "cameras_done = data_gpd[data_gpd.distance_nearest < 0.001].reset_index(drop=True)\n",
        "cameras_done['camera'] = np.nan"
      ],
      "execution_count": null,
      "outputs": []
    },
    {
      "cell_type": "code",
      "metadata": {
        "id": "Nb2_Zu5BJpK8"
      },
      "source": [
        "for i in range(len(cameras_done.camera)):\n",
        "    cameras_done.camera.iloc[i] = cameras.camera[cameras_done.id_nearest[i]]"
      ],
      "execution_count": null,
      "outputs": []
    },
    {
      "cell_type": "code",
      "metadata": {
        "colab": {
          "base_uri": "https://localhost:8080/"
        },
        "id": "pQJRqR7kL18r",
        "outputId": "587352dc-bd2b-4e17-9577-6b177ab9bd77"
      },
      "source": [
        "cameras_done = cameras_done[['id', 'camera']]\n",
        "cameras_done.head(1)"
      ],
      "execution_count": null,
      "outputs": [
        {
          "output_type": "execute_result",
          "data": {
            "text/html": [
              "<div>\n",
              "<style scoped>\n",
              "    .dataframe tbody tr th:only-of-type {\n",
              "        vertical-align: middle;\n",
              "    }\n",
              "\n",
              "    .dataframe tbody tr th {\n",
              "        vertical-align: top;\n",
              "    }\n",
              "\n",
              "    .dataframe thead th {\n",
              "        text-align: right;\n",
              "    }\n",
              "</style>\n",
              "<table border=\"1\" class=\"dataframe\">\n",
              "  <thead>\n",
              "    <tr style=\"text-align: right;\">\n",
              "      <th></th>\n",
              "      <th>id</th>\n",
              "      <th>camera</th>\n",
              "    </tr>\n",
              "  </thead>\n",
              "  <tbody>\n",
              "    <tr>\n",
              "      <th>0</th>\n",
              "      <td>1467902</td>\n",
              "      <td>36012</td>\n",
              "    </tr>\n",
              "  </tbody>\n",
              "</table>\n",
              "</div>"
            ],
            "text/plain": [
              "        id camera\n",
              "0  1467902  36012"
            ]
          },
          "metadata": {
            "tags": []
          },
          "execution_count": 233
        }
      ]
    },
    {
      "cell_type": "markdown",
      "metadata": {
        "id": "IVyMC6_-HVD9"
      },
      "source": [
        "Около 10% ДТП случались из-за **нарушения скоростного режима**. По этой причине было грех не добавить признак скоростей с камер, тем более, что у нас есть данные по скоростным ограничениям на участках."
      ]
    },
    {
      "cell_type": "code",
      "metadata": {
        "id": "q_AZdKk7MA17"
      },
      "source": [
        "cameras_done['speed_day'] = np.nan\n",
        "cameras_done['speed_night'] = np.nan"
      ],
      "execution_count": null,
      "outputs": []
    },
    {
      "cell_type": "code",
      "metadata": {
        "colab": {
          "base_uri": "https://localhost:8080/",
          "referenced_widgets": [
            "d23a0c94ac75422d924515a979e2d3fb",
            "70cbede10d404b00b4524e3322524bc1",
            "0781b00316b04507ad30e0cce28009a5",
            "c2d0812c835a436987929f993428cf64",
            "d8ab314b98644c3fb273393d2f305a07",
            "7709607f717443808dad5b5f60e53fae",
            "0b69de52f6f048498db4446812742bed",
            "19e8a7aa1e0a4e2391c9cb3bfc2c308b"
          ]
        },
        "id": "88NBnPWvLq4k",
        "outputId": "9ee6928b-5711-4e31-897e-a6ff571c8849"
      },
      "source": [
        "for i in tqdm(range(len(cameras_done.camera))):\n",
        "    try:\n",
        "        cameras_done.speed_day.iloc[i] = speeds[(speeds.camera_id == cameras_done.camera[i])&(speeds.time_of_day == 'day')].avg_check_speed.values[0]\n",
        "        cameras_done.speed_night.iloc[i] = speeds[(speeds.camera_id == cameras_done.camera[i])&(speeds.time_of_day == 'night')].avg_check_speed.values[0]\n",
        "    except:\n",
        "        pass"
      ],
      "execution_count": null,
      "outputs": [
        {
          "output_type": "display_data",
          "data": {
            "application/vnd.jupyter.widget-view+json": {
              "model_id": "d23a0c94ac75422d924515a979e2d3fb",
              "version_minor": 0,
              "version_major": 2
            },
            "text/plain": [
              "HBox(children=(FloatProgress(value=0.0, max=89668.0), HTML(value='')))"
            ]
          },
          "metadata": {
            "tags": []
          }
        },
        {
          "output_type": "stream",
          "text": [
            "\n"
          ],
          "name": "stdout"
        }
      ]
    },
    {
      "cell_type": "code",
      "metadata": {
        "id": "7cJFPTdLM-GA"
      },
      "source": [
        "data = pd.merge(data, cameras_done.drop_duplicates(['id']), on='id', how='left')"
      ],
      "execution_count": null,
      "outputs": []
    },
    {
      "cell_type": "markdown",
      "metadata": {
        "id": "wwvyuyFXsygf"
      },
      "source": [
        "# Удаление ненужных столбцов из данных"
      ]
    },
    {
      "cell_type": "markdown",
      "metadata": {
        "id": "r8FszZ6YIAsI"
      },
      "source": [
        "Удалили столбцы названий дорог."
      ]
    },
    {
      "cell_type": "code",
      "metadata": {
        "colab": {
          "base_uri": "https://localhost:8080/"
        },
        "id": "h-7w1C1trhtF",
        "outputId": "3fcd9016-9483-4881-b4a2-75682bbe7e3c"
      },
      "source": [
        "data.columns"
      ],
      "execution_count": null,
      "outputs": [
        {
          "output_type": "execute_result",
          "data": {
            "text/plain": [
              "Index(['id', 'victims', 'is_test', 'geom', 'obj_cod', 'typ_cod', 'nlevel',\n",
              "       'btf', 'oneway', 'surface', 'splitter', 'speedlim', 'f_rspeed',\n",
              "       't_rspeed', 'lanewidth', 'f_lanes', 't_lanes', 'f_sidewalk',\n",
              "       't_sidewalk', 'f_buslanes', 't_buslanes', 'multidigit', 'rd_name',\n",
              "       'rd_e_name', 'rd_l_name', 'f_parking', 't_parking', 'bicyclanes',\n",
              "       'lat_start', 'lon_start', 'lat_end', 'lon_end', 'lon_mean', 'lat_mean',\n",
              "       'kriv', 'dist', 'camera', 'speed_day', 'speed_night'],\n",
              "      dtype='object')"
            ]
          },
          "metadata": {
            "tags": []
          },
          "execution_count": 239
        }
      ]
    },
    {
      "cell_type": "code",
      "metadata": {
        "id": "oGuQWmghrqm1"
      },
      "source": [
        "data = data.drop(['rd_name', 'rd_e_name', 'rd_l_name'], axis=1)"
      ],
      "execution_count": null,
      "outputs": []
    },
    {
      "cell_type": "markdown",
      "metadata": {
        "id": "kmSO5WI7bLP4"
      },
      "source": [
        "# Добавление информации из road_network"
      ]
    },
    {
      "cell_type": "markdown",
      "metadata": {
        "id": "0bVIkxIIITfL"
      },
      "source": [
        "Фактически, датасет road_network содержит в себе агрегированные данные, которые можно найти на том же mos.ru. (Спасибо организаторам, что собрали всё в один файлик!)"
      ]
    },
    {
      "cell_type": "markdown",
      "metadata": {
        "id": "a3TFYEfRIlQW"
      },
      "source": [
        "Тут есть очень важные фичи: **пешеходные переходы** (на них приходится 11% ДТП), а также **светофоры**, которые являются признаками перекрестка и способом успокоения трафика."
      ]
    },
    {
      "cell_type": "code",
      "metadata": {
        "id": "2UKjoseqs5-c"
      },
      "source": [
        "data['bus_stop_net'] = 0\n",
        "data['tram_stop_net'] = 0\n",
        "data['traf_lights_net'] = 0\n",
        "data['zebra_net'] = 0\n",
        "data['under_zebra_net'] = 0\n",
        "data['over_zebra_net'] = 0\n",
        "data['danger_net'] = 0"
      ],
      "execution_count": null,
      "outputs": []
    },
    {
      "cell_type": "code",
      "metadata": {
        "colab": {
          "base_uri": "https://localhost:8080/",
          "referenced_widgets": [
            "11b613d88293449ab3a3fca9d1cba7ae",
            "20fa9e0e78774dfd941ef630bba6bf06",
            "15b8540fe3b94507b59acf54075aa5cc",
            "181e81edf10d4e10afca8991c5619d78",
            "cfab7a7e88584bc78451616b5e1389b8",
            "7b359c3aafba4fa9b4b866b2be76ae35",
            "74a0f906b9ec427985ec4ad3f4ccb680",
            "b288c8364913439ba5984fd6283b7647"
          ]
        },
        "id": "KrrHCVUKs6A_",
        "outputId": "f315910d-aa90-4527-d1d2-3906f2fd7b1c"
      },
      "source": [
        "for i in tqdm(range(road_network.shape[0])):\n",
        "    id_temp = road_network.EDGEID.iloc[i]\n",
        "    type_temp = road_network.TYP_COD.iloc[i]\n",
        "    if type_temp == 7813:\n",
        "        data.loc[data.id == id_temp, 'bus_stop_net'] = 1\n",
        "    elif type_temp == 7814:\n",
        "        data.loc[data.id == id_temp, 'tram_stop_net'] = 1\n",
        "    elif type_temp == 7816:\n",
        "        data.loc[data.id == id_temp, 'traf_lights_net'] = 1\n",
        "    elif type_temp == 7817:\n",
        "        data.loc[data.id == id_temp, 'zebra_net'] = 1\n",
        "    elif type_temp == 7818:\n",
        "        data.loc[data.id == id_temp, 'under_zebra_net'] = 1\n",
        "    elif type_temp == 7819:\n",
        "        data.loc[data.id == id_temp, 'over_zebra_net'] = 1\n",
        "    elif type_temp == 7821:\n",
        "        data.loc[data.id == id_temp, 'danger_net'] = 1"
      ],
      "execution_count": null,
      "outputs": [
        {
          "output_type": "display_data",
          "data": {
            "application/vnd.jupyter.widget-view+json": {
              "model_id": "11b613d88293449ab3a3fca9d1cba7ae",
              "version_minor": 0,
              "version_major": 2
            },
            "text/plain": [
              "HBox(children=(FloatProgress(value=0.0, max=46536.0), HTML(value='')))"
            ]
          },
          "metadata": {
            "tags": []
          }
        },
        {
          "output_type": "stream",
          "text": [
            "\n"
          ],
          "name": "stdout"
        }
      ]
    },
    {
      "cell_type": "markdown",
      "metadata": {
        "id": "3lWr7UV4aM9K"
      },
      "source": [
        "# Добавление перекрытий на дорогах"
      ]
    },
    {
      "cell_type": "markdown",
      "metadata": {
        "id": "dksPeSGS8aNl"
      },
      "source": [
        "Ремотные работы и перекрытия создают сложности на дорогах, так как зачастую занимают одну или несколько полос. Лично много раз наблюдал аварии из-за перекрытых дорог."
      ]
    },
    {
      "cell_type": "code",
      "metadata": {
        "colab": {
          "base_uri": "https://localhost:8080/"
        },
        "id": "BdPnKpeR_UlZ",
        "outputId": "4a61579c-9f48-4bc4-c031-19b00bb69ab2"
      },
      "source": [
        "for i in range(len(repairs.start_date)):\n",
        "\n",
        "    try:\n",
        "        pd.to_datetime(repairs.start_date.iloc[i])\n",
        "    except:\n",
        "        print(repairs.start_date.iloc[i]) "
      ],
      "execution_count": null,
      "outputs": [
        {
          "output_type": "stream",
          "text": [
            "###############################################################################################################################################################################################################################################################\n"
          ],
          "name": "stdout"
        }
      ]
    },
    {
      "cell_type": "code",
      "metadata": {
        "id": "2PAm0ruy_s8t"
      },
      "source": [
        "repairs = repairs[~(repairs.start_date == '###############################################################################################################################################################################################################################################################')]"
      ],
      "execution_count": null,
      "outputs": []
    },
    {
      "cell_type": "code",
      "metadata": {
        "id": "wE9TKRI90cx7"
      },
      "source": [
        "repairs = repairs.reset_index(drop=True)"
      ],
      "execution_count": null,
      "outputs": []
    },
    {
      "cell_type": "code",
      "metadata": {
        "id": "P6ZMwkPc82Vu"
      },
      "source": [
        "repairs.last_update = pd.to_datetime(repairs.last_update)\n",
        "repairs.start_date = pd.to_datetime(repairs.start_date)\n",
        "repairs.end_date = pd.to_datetime(repairs.end_date)"
      ],
      "execution_count": null,
      "outputs": []
    },
    {
      "cell_type": "markdown",
      "metadata": {
        "id": "YXzVIfOHJkRO"
      },
      "source": [
        "Добавил признак **длительности ремонта**. Перекрытие на 1 день с меньшей вероятностью станет причиной аварии, нежели перекрытие на несколько дней."
      ]
    },
    {
      "cell_type": "code",
      "metadata": {
        "colab": {
          "base_uri": "https://localhost:8080/",
          "referenced_widgets": [
            "97a1df2b8dc54798ab96215ff5acdf67",
            "0e21acad2ea243dcb14bd6115f201119",
            "1f613732ee874195b7061fabaf72c9a6",
            "0c5106d3af66469c9a4314fec6fedd9b",
            "4fb246b01e1643b086b9f3fdcb31e752",
            "101c674211154684a5e000f4abeffe88",
            "df2b8426c6ed49ef8d3e847bd934a751",
            "c757a08ae5014aed883038d71cb93fbf"
          ]
        },
        "id": "za3EHNTYAMGe",
        "outputId": "99cab2fb-ba0a-483f-e709-b8e013a3735b"
      },
      "source": [
        "repairs['duration'] = 0\n",
        "\n",
        "for i in tqdm(range(repairs.shape[0])):\n",
        "\n",
        "    repairs.duration.iloc[i] = (repairs.end_date.iloc[i] - repairs.start_date.iloc[i]).days"
      ],
      "execution_count": null,
      "outputs": [
        {
          "output_type": "display_data",
          "data": {
            "application/vnd.jupyter.widget-view+json": {
              "model_id": "97a1df2b8dc54798ab96215ff5acdf67",
              "version_minor": 0,
              "version_major": 2
            },
            "text/plain": [
              "HBox(children=(FloatProgress(value=0.0, max=5624.0), HTML(value='')))"
            ]
          },
          "metadata": {
            "tags": []
          }
        },
        {
          "output_type": "stream",
          "text": [
            "\n"
          ],
          "name": "stdout"
        }
      ]
    },
    {
      "cell_type": "markdown",
      "metadata": {
        "id": "WIsm1jehSkLn"
      },
      "source": [
        "Добавл One-Hot encoding для признака вида перекрытия: ремонтные работы или мероприятие."
      ]
    },
    {
      "cell_type": "code",
      "metadata": {
        "colab": {
          "base_uri": "https://localhost:8080/"
        },
        "id": "SgglRYBeByk4",
        "outputId": "e4526474-6326-4c55-e1cc-bdca1e42550e"
      },
      "source": [
        "rep_type = pd.get_dummies(repairs.type)\n",
        "rep_type.columns = ['events', 'repair_work']\n",
        "rep_type.head(1)"
      ],
      "execution_count": null,
      "outputs": [
        {
          "output_type": "execute_result",
          "data": {
            "text/html": [
              "<div>\n",
              "<style scoped>\n",
              "    .dataframe tbody tr th:only-of-type {\n",
              "        vertical-align: middle;\n",
              "    }\n",
              "\n",
              "    .dataframe tbody tr th {\n",
              "        vertical-align: top;\n",
              "    }\n",
              "\n",
              "    .dataframe thead th {\n",
              "        text-align: right;\n",
              "    }\n",
              "</style>\n",
              "<table border=\"1\" class=\"dataframe\">\n",
              "  <thead>\n",
              "    <tr style=\"text-align: right;\">\n",
              "      <th></th>\n",
              "      <th>events</th>\n",
              "      <th>repair_work</th>\n",
              "    </tr>\n",
              "  </thead>\n",
              "  <tbody>\n",
              "    <tr>\n",
              "      <th>0</th>\n",
              "      <td>0</td>\n",
              "      <td>1</td>\n",
              "    </tr>\n",
              "  </tbody>\n",
              "</table>\n",
              "</div>"
            ],
            "text/plain": [
              "   events  repair_work\n",
              "0       0            1"
            ]
          },
          "metadata": {
            "tags": []
          },
          "execution_count": 250
        }
      ]
    },
    {
      "cell_type": "code",
      "metadata": {
        "id": "FD6B232JCK-4"
      },
      "source": [
        "repairs = pd.merge(repairs, rep_type, on=repairs.index)"
      ],
      "execution_count": null,
      "outputs": []
    },
    {
      "cell_type": "code",
      "metadata": {
        "id": "zF4HBuWICWgM"
      },
      "source": [
        "repairs = repairs.rename(columns={'key_0': 'id_nearest'})"
      ],
      "execution_count": null,
      "outputs": []
    },
    {
      "cell_type": "code",
      "metadata": {
        "id": "VTUVfxLoRW3c"
      },
      "source": [
        "repairs[['events', 'repair_work']] = repairs[['events', 'repair_work']].astype(int)"
      ],
      "execution_count": null,
      "outputs": []
    },
    {
      "cell_type": "markdown",
      "metadata": {
        "id": "-TTGv7NL82z9"
      },
      "source": [
        "Добавил географические признаки для перекрытий. "
      ]
    },
    {
      "cell_type": "code",
      "metadata": {
        "colab": {
          "base_uri": "https://localhost:8080/",
          "referenced_widgets": [
            "02c554bb6792465c83897b853a33d557",
            "015114030b5e4495b546e4d807ef75ea",
            "d2bfbe8815a844a08bb344d41622252d",
            "f5589b05f503428b8defb5e0375d36b5",
            "204679e30f144414bf692d830d2b1e6e",
            "d1593cf509b7474daeb114bde42054c5",
            "cf763ae189bc4288a87cd865831b84c9",
            "ae2177009a0944d88563a7565e22f3ef"
          ]
        },
        "id": "aiPDvwGSyyVn",
        "outputId": "7b8a36a2-8d35-4995-ecc7-af1d2b705a2f"
      },
      "source": [
        "lon_r_start = []\n",
        "lat_r_start = []\n",
        "lon_r_end = []\n",
        "lat_r_end = []\n",
        "\n",
        "for i in tqdm(range(len(repairs.geom))):\n",
        "    x = np.array(repairs.geom[i].coords.xy[0], dtype=float)\n",
        "    y = np.array(repairs.geom[i].coords.xy[1], dtype=float)\n",
        "    lon_r_start.append(x[0])\n",
        "    lat_r_start.append(y[0])\n",
        "    lon_r_end.append(x[len(x)-1])\n",
        "    lat_r_end.append(y[len(y)-1])\n",
        "\n",
        "repairs['lon_start'] = lon_r_start\n",
        "repairs['lat_start'] = lat_r_start\n",
        "repairs['lon_end'] = lon_r_end\n",
        "repairs['lat_end'] = lat_r_end"
      ],
      "execution_count": null,
      "outputs": [
        {
          "output_type": "display_data",
          "data": {
            "application/vnd.jupyter.widget-view+json": {
              "model_id": "02c554bb6792465c83897b853a33d557",
              "version_minor": 0,
              "version_major": 2
            },
            "text/plain": [
              "HBox(children=(FloatProgress(value=0.0, max=5624.0), HTML(value='')))"
            ]
          },
          "metadata": {
            "tags": []
          }
        },
        {
          "output_type": "stream",
          "text": [
            "\n"
          ],
          "name": "stdout"
        }
      ]
    },
    {
      "cell_type": "markdown",
      "metadata": {
        "id": "CcjA-Q7IKFb7"
      },
      "source": [
        "Нашел ближайшие перекрытия тем же методом, что и камеры."
      ]
    },
    {
      "cell_type": "code",
      "metadata": {
        "id": "aBCLC2X8yJBy"
      },
      "source": [
        "data_gpd = gpd.GeoDataFrame([{\n",
        "        'id': id,\n",
        "        'x': a,\n",
        "        'y': b,\n",
        "    } for id, a, b in zip(np.array(data.id), np.array(data.lat_start + data.lat_end)/2, np.array(data.lon_start + data.lon_end)/2)\n",
        "])\n",
        "\n",
        "repairs_gpd = gpd.GeoDataFrame([{\n",
        "        'x': a,\n",
        "        'y': b,\n",
        "    } for a, b in zip(np.array(repairs.lat_start + repairs.lat_end)/2, np.array(repairs.lon_start + repairs.lon_end)/2)\n",
        "])"
      ],
      "execution_count": null,
      "outputs": []
    },
    {
      "cell_type": "code",
      "metadata": {
        "id": "JJ3U29mbyTPK"
      },
      "source": [
        "tree = BallTree(repairs_gpd[['x', 'y']].values, leaf_size=2)"
      ],
      "execution_count": null,
      "outputs": []
    },
    {
      "cell_type": "code",
      "metadata": {
        "id": "CS1HMFVNyTR7"
      },
      "source": [
        "data_gpd['distance_nearest'], data_gpd['id_nearest'] = tree.query(\n",
        "    data_gpd[['x', 'y']].values, # The input array for the query\n",
        "    k=1, # The number of nearest neighbors\n",
        ")"
      ],
      "execution_count": null,
      "outputs": []
    },
    {
      "cell_type": "code",
      "metadata": {
        "id": "qimb5bg0MT4e"
      },
      "source": [
        "repairs = repairs[~(repairs.duration < 0)]"
      ],
      "execution_count": null,
      "outputs": []
    },
    {
      "cell_type": "code",
      "metadata": {
        "id": "xQQlnRfTCunf"
      },
      "source": [
        "data_gpd = pd.merge(data_gpd, repairs[['id_nearest', 'duration', 'events', 'repair_work']], on='id_nearest', how='left')"
      ],
      "execution_count": null,
      "outputs": []
    },
    {
      "cell_type": "code",
      "metadata": {
        "colab": {
          "base_uri": "https://localhost:8080/"
        },
        "id": "AutBAQRByTUd",
        "outputId": "c12c509b-5404-4581-cc6b-7fd5b0fd5d33"
      },
      "source": [
        "data_gpd = data_gpd[data_gpd.distance_nearest < 0.001]\n",
        "data_gpd.head(1)"
      ],
      "execution_count": null,
      "outputs": [
        {
          "output_type": "execute_result",
          "data": {
            "text/html": [
              "<div>\n",
              "<style scoped>\n",
              "    .dataframe tbody tr th:only-of-type {\n",
              "        vertical-align: middle;\n",
              "    }\n",
              "\n",
              "    .dataframe tbody tr th {\n",
              "        vertical-align: top;\n",
              "    }\n",
              "\n",
              "    .dataframe thead th {\n",
              "        text-align: right;\n",
              "    }\n",
              "</style>\n",
              "<table border=\"1\" class=\"dataframe\">\n",
              "  <thead>\n",
              "    <tr style=\"text-align: right;\">\n",
              "      <th></th>\n",
              "      <th>id</th>\n",
              "      <th>x</th>\n",
              "      <th>y</th>\n",
              "      <th>distance_nearest</th>\n",
              "      <th>id_nearest</th>\n",
              "      <th>duration</th>\n",
              "      <th>events</th>\n",
              "      <th>repair_work</th>\n",
              "    </tr>\n",
              "  </thead>\n",
              "  <tbody>\n",
              "    <tr>\n",
              "      <th>403</th>\n",
              "      <td>19541612</td>\n",
              "      <td>55.416654</td>\n",
              "      <td>36.85237</td>\n",
              "      <td>0.000615</td>\n",
              "      <td>2479</td>\n",
              "      <td>NaN</td>\n",
              "      <td>NaN</td>\n",
              "      <td>NaN</td>\n",
              "    </tr>\n",
              "  </tbody>\n",
              "</table>\n",
              "</div>"
            ],
            "text/plain": [
              "           id          x         y  ...  duration  events  repair_work\n",
              "403  19541612  55.416654  36.85237  ...       NaN     NaN          NaN\n",
              "\n",
              "[1 rows x 8 columns]"
            ]
          },
          "metadata": {
            "tags": []
          },
          "execution_count": 262
        }
      ]
    },
    {
      "cell_type": "markdown",
      "metadata": {
        "id": "vIxLQjV2S9o8"
      },
      "source": [
        "В главный датасет добавил признак наличия ремонтных работ."
      ]
    },
    {
      "cell_type": "code",
      "metadata": {
        "id": "IN8xs8Ko1nwE"
      },
      "source": [
        "data['repair'] = 0"
      ],
      "execution_count": null,
      "outputs": []
    },
    {
      "cell_type": "code",
      "metadata": {
        "id": "XvDFihKL1kMU"
      },
      "source": [
        "repair_ids = np.array(data_gpd.id)"
      ],
      "execution_count": null,
      "outputs": []
    },
    {
      "cell_type": "code",
      "metadata": {
        "id": "Tehqr1_zEW5q"
      },
      "source": [
        "data.loc[data.id.isin(repair_ids), 'repair'] = 1"
      ],
      "execution_count": null,
      "outputs": []
    },
    {
      "cell_type": "code",
      "metadata": {
        "colab": {
          "base_uri": "https://localhost:8080/"
        },
        "id": "GEsRSpR1R2WW",
        "outputId": "dc30a6e5-2577-4b15-b4e9-3ea14ffa6d8c"
      },
      "source": [
        "data.head(1)"
      ],
      "execution_count": null,
      "outputs": [
        {
          "output_type": "execute_result",
          "data": {
            "text/html": [
              "<div>\n",
              "<style scoped>\n",
              "    .dataframe tbody tr th:only-of-type {\n",
              "        vertical-align: middle;\n",
              "    }\n",
              "\n",
              "    .dataframe tbody tr th {\n",
              "        vertical-align: top;\n",
              "    }\n",
              "\n",
              "    .dataframe thead th {\n",
              "        text-align: right;\n",
              "    }\n",
              "</style>\n",
              "<table border=\"1\" class=\"dataframe\">\n",
              "  <thead>\n",
              "    <tr style=\"text-align: right;\">\n",
              "      <th></th>\n",
              "      <th>id</th>\n",
              "      <th>victims</th>\n",
              "      <th>is_test</th>\n",
              "      <th>geom</th>\n",
              "      <th>obj_cod</th>\n",
              "      <th>typ_cod</th>\n",
              "      <th>nlevel</th>\n",
              "      <th>btf</th>\n",
              "      <th>oneway</th>\n",
              "      <th>surface</th>\n",
              "      <th>splitter</th>\n",
              "      <th>speedlim</th>\n",
              "      <th>f_rspeed</th>\n",
              "      <th>t_rspeed</th>\n",
              "      <th>lanewidth</th>\n",
              "      <th>f_lanes</th>\n",
              "      <th>t_lanes</th>\n",
              "      <th>f_sidewalk</th>\n",
              "      <th>t_sidewalk</th>\n",
              "      <th>f_buslanes</th>\n",
              "      <th>t_buslanes</th>\n",
              "      <th>multidigit</th>\n",
              "      <th>f_parking</th>\n",
              "      <th>t_parking</th>\n",
              "      <th>bicyclanes</th>\n",
              "      <th>lat_start</th>\n",
              "      <th>lon_start</th>\n",
              "      <th>lat_end</th>\n",
              "      <th>lon_end</th>\n",
              "      <th>lon_mean</th>\n",
              "      <th>lat_mean</th>\n",
              "      <th>kriv</th>\n",
              "      <th>dist</th>\n",
              "      <th>camera</th>\n",
              "      <th>speed_day</th>\n",
              "      <th>speed_night</th>\n",
              "      <th>bus_stop_net</th>\n",
              "      <th>tram_stop_net</th>\n",
              "      <th>traf_lights_net</th>\n",
              "      <th>zebra_net</th>\n",
              "      <th>under_zebra_net</th>\n",
              "      <th>over_zebra_net</th>\n",
              "      <th>danger_net</th>\n",
              "      <th>repair</th>\n",
              "    </tr>\n",
              "  </thead>\n",
              "  <tbody>\n",
              "    <tr>\n",
              "      <th>0</th>\n",
              "      <td>14644059</td>\n",
              "      <td>0.0</td>\n",
              "      <td>0</td>\n",
              "      <td>(LINESTRING (36.80456837166526 55.440413298899...</td>\n",
              "      <td>4011775</td>\n",
              "      <td>7730</td>\n",
              "      <td>1</td>\n",
              "      <td>0</td>\n",
              "      <td>0</td>\n",
              "      <td>3</td>\n",
              "      <td>2</td>\n",
              "      <td>77</td>\n",
              "      <td>40</td>\n",
              "      <td>40</td>\n",
              "      <td>0</td>\n",
              "      <td>1</td>\n",
              "      <td>1</td>\n",
              "      <td>0</td>\n",
              "      <td>0</td>\n",
              "      <td>0</td>\n",
              "      <td>0</td>\n",
              "      <td>0</td>\n",
              "      <td>0</td>\n",
              "      <td>1</td>\n",
              "      <td>0</td>\n",
              "      <td>55.440413</td>\n",
              "      <td>36.804568</td>\n",
              "      <td>55.465773</td>\n",
              "      <td>36.701662</td>\n",
              "      <td>36.753115</td>\n",
              "      <td>55.453093</td>\n",
              "      <td>80.926906</td>\n",
              "      <td>7.754766</td>\n",
              "      <td>NaN</td>\n",
              "      <td>NaN</td>\n",
              "      <td>NaN</td>\n",
              "      <td>0</td>\n",
              "      <td>0</td>\n",
              "      <td>0</td>\n",
              "      <td>0</td>\n",
              "      <td>0</td>\n",
              "      <td>0</td>\n",
              "      <td>0</td>\n",
              "      <td>0</td>\n",
              "    </tr>\n",
              "  </tbody>\n",
              "</table>\n",
              "</div>"
            ],
            "text/plain": [
              "         id  victims  is_test  ... over_zebra_net  danger_net  repair\n",
              "0  14644059      0.0        0  ...              0           0       0\n",
              "\n",
              "[1 rows x 44 columns]"
            ]
          },
          "metadata": {
            "tags": []
          },
          "execution_count": 266
        }
      ]
    },
    {
      "cell_type": "markdown",
      "metadata": {
        "id": "lM9atmoYTDZf"
      },
      "source": [
        "Объдинение с data."
      ]
    },
    {
      "cell_type": "code",
      "metadata": {
        "id": "T0mb-tMgVPZq"
      },
      "source": [
        "data_gpd = data_gpd.drop_duplicates(['id']) "
      ],
      "execution_count": null,
      "outputs": []
    },
    {
      "cell_type": "code",
      "metadata": {
        "id": "0l-g3hIBR6Io"
      },
      "source": [
        "data = pd.merge(data, data_gpd[['id', 'duration', 'events', 'repair_work']], on='id', how='left')"
      ],
      "execution_count": null,
      "outputs": []
    },
    {
      "cell_type": "markdown",
      "metadata": {
        "id": "aNjWhsS8gAZl"
      },
      "source": [
        "# Добавление информации о перекрестках"
      ]
    },
    {
      "cell_type": "markdown",
      "metadata": {
        "id": "eLE_oiyPLL7g"
      },
      "source": [
        "Почти 20% аварий происходит из-за **несоблюдения очередности при проезде перекрестков**. По этой причине решил, что информация о перекрестках является обязательной."
      ]
    },
    {
      "cell_type": "markdown",
      "metadata": {
        "id": "rAc45i4yNgHq"
      },
      "source": [
        "Способ достаточно прост. Находим несколько ближайших ребер и проверяем, что их угол пересечения лежит в диапазоне от 45 до 135. Диапазон можно менять, но решил остаться на этом варианте."
      ]
    },
    {
      "cell_type": "code",
      "metadata": {
        "colab": {
          "base_uri": "https://localhost:8080/"
        },
        "id": "EzEa2Carld6B",
        "outputId": "86e7cb31-5846-404f-bd16-f77364e3b6fa"
      },
      "source": [
        "find_nearest = data[['id', 'lat_mean', 'lon_mean']]\n",
        "find_nearest.head(1)"
      ],
      "execution_count": null,
      "outputs": [
        {
          "output_type": "execute_result",
          "data": {
            "text/html": [
              "<div>\n",
              "<style scoped>\n",
              "    .dataframe tbody tr th:only-of-type {\n",
              "        vertical-align: middle;\n",
              "    }\n",
              "\n",
              "    .dataframe tbody tr th {\n",
              "        vertical-align: top;\n",
              "    }\n",
              "\n",
              "    .dataframe thead th {\n",
              "        text-align: right;\n",
              "    }\n",
              "</style>\n",
              "<table border=\"1\" class=\"dataframe\">\n",
              "  <thead>\n",
              "    <tr style=\"text-align: right;\">\n",
              "      <th></th>\n",
              "      <th>id</th>\n",
              "      <th>lat_mean</th>\n",
              "      <th>lon_mean</th>\n",
              "    </tr>\n",
              "  </thead>\n",
              "  <tbody>\n",
              "    <tr>\n",
              "      <th>0</th>\n",
              "      <td>14644059</td>\n",
              "      <td>55.453093</td>\n",
              "      <td>36.753115</td>\n",
              "    </tr>\n",
              "  </tbody>\n",
              "</table>\n",
              "</div>"
            ],
            "text/plain": [
              "         id   lat_mean   lon_mean\n",
              "0  14644059  55.453093  36.753115"
            ]
          },
          "metadata": {
            "tags": []
          },
          "execution_count": 270
        }
      ]
    },
    {
      "cell_type": "code",
      "metadata": {
        "id": "cJrAnRl9khg0"
      },
      "source": [
        "tree = BallTree(find_nearest[['lat_mean', 'lon_mean']].values, leaf_size=2)"
      ],
      "execution_count": null,
      "outputs": []
    },
    {
      "cell_type": "code",
      "metadata": {
        "id": "JvDIi4GHk2fT"
      },
      "source": [
        "distance_nearest, idx_nearest = tree.query(data[['lat_mean', 'lon_mean']].values, k=50)"
      ],
      "execution_count": null,
      "outputs": []
    },
    {
      "cell_type": "code",
      "metadata": {
        "id": "VRzuODXlk2j1"
      },
      "source": [
        "distance_nearest = pd.DataFrame(distance_nearest)\n",
        "distance_nearest.columns = ['dist_near_{}'.format(x) for x in distance_nearest.columns]\n",
        "distance_nearest = distance_nearest.drop(['dist_near_0'], axis=1)"
      ],
      "execution_count": null,
      "outputs": []
    },
    {
      "cell_type": "code",
      "metadata": {
        "id": "HGKpBJixk2sP"
      },
      "source": [
        "idx_nearest = pd.DataFrame(idx_nearest)\n",
        "idx_nearest.columns = ['idx_near_{}'.format(x) for x in idx_nearest.columns]\n",
        "idx_nearest = idx_nearest.drop(['idx_near_0'], axis=1)"
      ],
      "execution_count": null,
      "outputs": []
    },
    {
      "cell_type": "markdown",
      "metadata": {
        "id": "_tv_r0AMOWeD"
      },
      "source": [
        "Получил датасет с дистанциями и индексами ближайших участков."
      ]
    },
    {
      "cell_type": "code",
      "metadata": {
        "colab": {
          "base_uri": "https://localhost:8080/"
        },
        "id": "ChtywlL1XWNV",
        "outputId": "64573778-9392-4fa4-d266-b13196f8d7d3"
      },
      "source": [
        "road_nearest = pd.DataFrame()\n",
        "\n",
        "for i in range(distance_nearest.shape[1]):\n",
        "    road_nearest[distance_nearest.columns[i]] = distance_nearest[distance_nearest.columns[i]]\n",
        "    road_nearest[idx_nearest.columns[i]] = idx_nearest[idx_nearest.columns[i]]\n",
        "\n",
        "road_nearest.head()"
      ],
      "execution_count": null,
      "outputs": [
        {
          "output_type": "execute_result",
          "data": {
            "text/html": [
              "<div>\n",
              "<style scoped>\n",
              "    .dataframe tbody tr th:only-of-type {\n",
              "        vertical-align: middle;\n",
              "    }\n",
              "\n",
              "    .dataframe tbody tr th {\n",
              "        vertical-align: top;\n",
              "    }\n",
              "\n",
              "    .dataframe thead th {\n",
              "        text-align: right;\n",
              "    }\n",
              "</style>\n",
              "<table border=\"1\" class=\"dataframe\">\n",
              "  <thead>\n",
              "    <tr style=\"text-align: right;\">\n",
              "      <th></th>\n",
              "      <th>dist_near_1</th>\n",
              "      <th>idx_near_1</th>\n",
              "      <th>dist_near_2</th>\n",
              "      <th>idx_near_2</th>\n",
              "      <th>dist_near_3</th>\n",
              "      <th>idx_near_3</th>\n",
              "      <th>dist_near_4</th>\n",
              "      <th>idx_near_4</th>\n",
              "      <th>dist_near_5</th>\n",
              "      <th>idx_near_5</th>\n",
              "      <th>dist_near_6</th>\n",
              "      <th>idx_near_6</th>\n",
              "      <th>dist_near_7</th>\n",
              "      <th>idx_near_7</th>\n",
              "      <th>dist_near_8</th>\n",
              "      <th>idx_near_8</th>\n",
              "      <th>dist_near_9</th>\n",
              "      <th>idx_near_9</th>\n",
              "      <th>dist_near_10</th>\n",
              "      <th>idx_near_10</th>\n",
              "      <th>dist_near_11</th>\n",
              "      <th>idx_near_11</th>\n",
              "      <th>dist_near_12</th>\n",
              "      <th>idx_near_12</th>\n",
              "      <th>dist_near_13</th>\n",
              "      <th>idx_near_13</th>\n",
              "      <th>dist_near_14</th>\n",
              "      <th>idx_near_14</th>\n",
              "      <th>dist_near_15</th>\n",
              "      <th>idx_near_15</th>\n",
              "      <th>dist_near_16</th>\n",
              "      <th>idx_near_16</th>\n",
              "      <th>dist_near_17</th>\n",
              "      <th>idx_near_17</th>\n",
              "      <th>dist_near_18</th>\n",
              "      <th>idx_near_18</th>\n",
              "      <th>dist_near_19</th>\n",
              "      <th>idx_near_19</th>\n",
              "      <th>dist_near_20</th>\n",
              "      <th>idx_near_20</th>\n",
              "      <th>...</th>\n",
              "      <th>dist_near_30</th>\n",
              "      <th>idx_near_30</th>\n",
              "      <th>dist_near_31</th>\n",
              "      <th>idx_near_31</th>\n",
              "      <th>dist_near_32</th>\n",
              "      <th>idx_near_32</th>\n",
              "      <th>dist_near_33</th>\n",
              "      <th>idx_near_33</th>\n",
              "      <th>dist_near_34</th>\n",
              "      <th>idx_near_34</th>\n",
              "      <th>dist_near_35</th>\n",
              "      <th>idx_near_35</th>\n",
              "      <th>dist_near_36</th>\n",
              "      <th>idx_near_36</th>\n",
              "      <th>dist_near_37</th>\n",
              "      <th>idx_near_37</th>\n",
              "      <th>dist_near_38</th>\n",
              "      <th>idx_near_38</th>\n",
              "      <th>dist_near_39</th>\n",
              "      <th>idx_near_39</th>\n",
              "      <th>dist_near_40</th>\n",
              "      <th>idx_near_40</th>\n",
              "      <th>dist_near_41</th>\n",
              "      <th>idx_near_41</th>\n",
              "      <th>dist_near_42</th>\n",
              "      <th>idx_near_42</th>\n",
              "      <th>dist_near_43</th>\n",
              "      <th>idx_near_43</th>\n",
              "      <th>dist_near_44</th>\n",
              "      <th>idx_near_44</th>\n",
              "      <th>dist_near_45</th>\n",
              "      <th>idx_near_45</th>\n",
              "      <th>dist_near_46</th>\n",
              "      <th>idx_near_46</th>\n",
              "      <th>dist_near_47</th>\n",
              "      <th>idx_near_47</th>\n",
              "      <th>dist_near_48</th>\n",
              "      <th>idx_near_48</th>\n",
              "      <th>dist_near_49</th>\n",
              "      <th>idx_near_49</th>\n",
              "    </tr>\n",
              "  </thead>\n",
              "  <tbody>\n",
              "    <tr>\n",
              "      <th>0</th>\n",
              "      <td>0.038865</td>\n",
              "      <td>1</td>\n",
              "      <td>0.052304</td>\n",
              "      <td>2</td>\n",
              "      <td>0.053060</td>\n",
              "      <td>6</td>\n",
              "      <td>0.053949</td>\n",
              "      <td>7</td>\n",
              "      <td>0.054607</td>\n",
              "      <td>4</td>\n",
              "      <td>0.054827</td>\n",
              "      <td>3</td>\n",
              "      <td>0.056456</td>\n",
              "      <td>5</td>\n",
              "      <td>0.058680</td>\n",
              "      <td>8</td>\n",
              "      <td>0.059730</td>\n",
              "      <td>15</td>\n",
              "      <td>0.059947</td>\n",
              "      <td>18</td>\n",
              "      <td>0.060270</td>\n",
              "      <td>12</td>\n",
              "      <td>0.060270</td>\n",
              "      <td>13</td>\n",
              "      <td>0.060654</td>\n",
              "      <td>9</td>\n",
              "      <td>0.060856</td>\n",
              "      <td>11</td>\n",
              "      <td>0.061151</td>\n",
              "      <td>19</td>\n",
              "      <td>0.061587</td>\n",
              "      <td>22</td>\n",
              "      <td>0.061591</td>\n",
              "      <td>24</td>\n",
              "      <td>0.061591</td>\n",
              "      <td>25</td>\n",
              "      <td>0.061609</td>\n",
              "      <td>27</td>\n",
              "      <td>0.061698</td>\n",
              "      <td>14</td>\n",
              "      <td>...</td>\n",
              "      <td>0.063567</td>\n",
              "      <td>40</td>\n",
              "      <td>0.064519</td>\n",
              "      <td>30</td>\n",
              "      <td>0.064645</td>\n",
              "      <td>43</td>\n",
              "      <td>0.064901</td>\n",
              "      <td>36</td>\n",
              "      <td>0.064977</td>\n",
              "      <td>45</td>\n",
              "      <td>0.065128</td>\n",
              "      <td>46</td>\n",
              "      <td>0.065498</td>\n",
              "      <td>48</td>\n",
              "      <td>0.065524</td>\n",
              "      <td>50</td>\n",
              "      <td>0.065558</td>\n",
              "      <td>49</td>\n",
              "      <td>0.065558</td>\n",
              "      <td>35</td>\n",
              "      <td>0.065572</td>\n",
              "      <td>54</td>\n",
              "      <td>0.065655</td>\n",
              "      <td>52</td>\n",
              "      <td>0.065660</td>\n",
              "      <td>53</td>\n",
              "      <td>0.065679</td>\n",
              "      <td>20</td>\n",
              "      <td>0.065694</td>\n",
              "      <td>56</td>\n",
              "      <td>0.065718</td>\n",
              "      <td>55</td>\n",
              "      <td>0.065752</td>\n",
              "      <td>38</td>\n",
              "      <td>0.065825</td>\n",
              "      <td>62</td>\n",
              "      <td>0.065868</td>\n",
              "      <td>64</td>\n",
              "      <td>0.065999</td>\n",
              "      <td>57</td>\n",
              "    </tr>\n",
              "    <tr>\n",
              "      <th>1</th>\n",
              "      <td>0.038865</td>\n",
              "      <td>0</td>\n",
              "      <td>0.054976</td>\n",
              "      <td>33</td>\n",
              "      <td>0.062400</td>\n",
              "      <td>29</td>\n",
              "      <td>0.064883</td>\n",
              "      <td>28</td>\n",
              "      <td>0.065721</td>\n",
              "      <td>13</td>\n",
              "      <td>0.065721</td>\n",
              "      <td>12</td>\n",
              "      <td>0.065976</td>\n",
              "      <td>2</td>\n",
              "      <td>0.066456</td>\n",
              "      <td>24</td>\n",
              "      <td>0.066456</td>\n",
              "      <td>25</td>\n",
              "      <td>0.066581</td>\n",
              "      <td>15</td>\n",
              "      <td>0.066749</td>\n",
              "      <td>6</td>\n",
              "      <td>0.066878</td>\n",
              "      <td>22</td>\n",
              "      <td>0.067002</td>\n",
              "      <td>23</td>\n",
              "      <td>0.067149</td>\n",
              "      <td>18</td>\n",
              "      <td>0.067194</td>\n",
              "      <td>27</td>\n",
              "      <td>0.067571</td>\n",
              "      <td>7</td>\n",
              "      <td>0.067668</td>\n",
              "      <td>19</td>\n",
              "      <td>0.068004</td>\n",
              "      <td>21</td>\n",
              "      <td>0.068080</td>\n",
              "      <td>3</td>\n",
              "      <td>0.068497</td>\n",
              "      <td>4</td>\n",
              "      <td>...</td>\n",
              "      <td>0.070255</td>\n",
              "      <td>45</td>\n",
              "      <td>0.070269</td>\n",
              "      <td>46</td>\n",
              "      <td>0.070465</td>\n",
              "      <td>43</td>\n",
              "      <td>0.070558</td>\n",
              "      <td>62</td>\n",
              "      <td>0.070973</td>\n",
              "      <td>55</td>\n",
              "      <td>0.070988</td>\n",
              "      <td>64</td>\n",
              "      <td>0.071041</td>\n",
              "      <td>54</td>\n",
              "      <td>0.071188</td>\n",
              "      <td>50</td>\n",
              "      <td>0.071260</td>\n",
              "      <td>63</td>\n",
              "      <td>0.071299</td>\n",
              "      <td>53</td>\n",
              "      <td>0.071380</td>\n",
              "      <td>49</td>\n",
              "      <td>0.071491</td>\n",
              "      <td>56</td>\n",
              "      <td>0.071577</td>\n",
              "      <td>57</td>\n",
              "      <td>0.071606</td>\n",
              "      <td>68</td>\n",
              "      <td>0.071620</td>\n",
              "      <td>8</td>\n",
              "      <td>0.071736</td>\n",
              "      <td>69</td>\n",
              "      <td>0.071824</td>\n",
              "      <td>52</td>\n",
              "      <td>0.071898</td>\n",
              "      <td>48</td>\n",
              "      <td>0.072120</td>\n",
              "      <td>67</td>\n",
              "      <td>0.072226</td>\n",
              "      <td>51</td>\n",
              "    </tr>\n",
              "    <tr>\n",
              "      <th>2</th>\n",
              "      <td>0.000804</td>\n",
              "      <td>6</td>\n",
              "      <td>0.001704</td>\n",
              "      <td>7</td>\n",
              "      <td>0.002525</td>\n",
              "      <td>3</td>\n",
              "      <td>0.002556</td>\n",
              "      <td>4</td>\n",
              "      <td>0.004342</td>\n",
              "      <td>5</td>\n",
              "      <td>0.006412</td>\n",
              "      <td>8</td>\n",
              "      <td>0.008383</td>\n",
              "      <td>9</td>\n",
              "      <td>0.008873</td>\n",
              "      <td>11</td>\n",
              "      <td>0.009480</td>\n",
              "      <td>14</td>\n",
              "      <td>0.011528</td>\n",
              "      <td>18</td>\n",
              "      <td>0.011860</td>\n",
              "      <td>15</td>\n",
              "      <td>0.012414</td>\n",
              "      <td>30</td>\n",
              "      <td>0.012705</td>\n",
              "      <td>36</td>\n",
              "      <td>0.012969</td>\n",
              "      <td>19</td>\n",
              "      <td>0.013403</td>\n",
              "      <td>35</td>\n",
              "      <td>0.013558</td>\n",
              "      <td>38</td>\n",
              "      <td>0.013620</td>\n",
              "      <td>20</td>\n",
              "      <td>0.013889</td>\n",
              "      <td>13</td>\n",
              "      <td>0.013889</td>\n",
              "      <td>12</td>\n",
              "      <td>0.013977</td>\n",
              "      <td>21</td>\n",
              "      <td>...</td>\n",
              "      <td>0.015082</td>\n",
              "      <td>23</td>\n",
              "      <td>0.015134</td>\n",
              "      <td>26</td>\n",
              "      <td>0.015213</td>\n",
              "      <td>24</td>\n",
              "      <td>0.015213</td>\n",
              "      <td>25</td>\n",
              "      <td>0.015818</td>\n",
              "      <td>16</td>\n",
              "      <td>0.015836</td>\n",
              "      <td>43</td>\n",
              "      <td>0.015860</td>\n",
              "      <td>48</td>\n",
              "      <td>0.015891</td>\n",
              "      <td>44</td>\n",
              "      <td>0.016188</td>\n",
              "      <td>52</td>\n",
              "      <td>0.016452</td>\n",
              "      <td>49</td>\n",
              "      <td>0.016571</td>\n",
              "      <td>56</td>\n",
              "      <td>0.016585</td>\n",
              "      <td>50</td>\n",
              "      <td>0.016617</td>\n",
              "      <td>45</td>\n",
              "      <td>0.016703</td>\n",
              "      <td>53</td>\n",
              "      <td>0.016813</td>\n",
              "      <td>54</td>\n",
              "      <td>0.016860</td>\n",
              "      <td>46</td>\n",
              "      <td>0.016962</td>\n",
              "      <td>51</td>\n",
              "      <td>0.016999</td>\n",
              "      <td>57</td>\n",
              "      <td>0.017057</td>\n",
              "      <td>74</td>\n",
              "      <td>0.017128</td>\n",
              "      <td>55</td>\n",
              "    </tr>\n",
              "    <tr>\n",
              "      <th>3</th>\n",
              "      <td>0.000952</td>\n",
              "      <td>7</td>\n",
              "      <td>0.001074</td>\n",
              "      <td>4</td>\n",
              "      <td>0.001778</td>\n",
              "      <td>6</td>\n",
              "      <td>0.002032</td>\n",
              "      <td>5</td>\n",
              "      <td>0.002525</td>\n",
              "      <td>2</td>\n",
              "      <td>0.003900</td>\n",
              "      <td>8</td>\n",
              "      <td>0.005865</td>\n",
              "      <td>9</td>\n",
              "      <td>0.006464</td>\n",
              "      <td>11</td>\n",
              "      <td>0.006977</td>\n",
              "      <td>14</td>\n",
              "      <td>0.009933</td>\n",
              "      <td>30</td>\n",
              "      <td>0.010200</td>\n",
              "      <td>36</td>\n",
              "      <td>0.010289</td>\n",
              "      <td>18</td>\n",
              "      <td>0.010739</td>\n",
              "      <td>15</td>\n",
              "      <td>0.010906</td>\n",
              "      <td>35</td>\n",
              "      <td>0.011052</td>\n",
              "      <td>38</td>\n",
              "      <td>0.011188</td>\n",
              "      <td>20</td>\n",
              "      <td>0.011661</td>\n",
              "      <td>19</td>\n",
              "      <td>0.012506</td>\n",
              "      <td>17</td>\n",
              "      <td>0.012637</td>\n",
              "      <td>21</td>\n",
              "      <td>0.012665</td>\n",
              "      <td>10</td>\n",
              "      <td>...</td>\n",
              "      <td>0.013495</td>\n",
              "      <td>16</td>\n",
              "      <td>0.013537</td>\n",
              "      <td>22</td>\n",
              "      <td>0.013743</td>\n",
              "      <td>26</td>\n",
              "      <td>0.013928</td>\n",
              "      <td>23</td>\n",
              "      <td>0.014026</td>\n",
              "      <td>48</td>\n",
              "      <td>0.014147</td>\n",
              "      <td>25</td>\n",
              "      <td>0.014147</td>\n",
              "      <td>24</td>\n",
              "      <td>0.014194</td>\n",
              "      <td>43</td>\n",
              "      <td>0.014381</td>\n",
              "      <td>52</td>\n",
              "      <td>0.014537</td>\n",
              "      <td>74</td>\n",
              "      <td>0.014717</td>\n",
              "      <td>49</td>\n",
              "      <td>0.014827</td>\n",
              "      <td>56</td>\n",
              "      <td>0.014881</td>\n",
              "      <td>50</td>\n",
              "      <td>0.014972</td>\n",
              "      <td>80</td>\n",
              "      <td>0.014990</td>\n",
              "      <td>53</td>\n",
              "      <td>0.015038</td>\n",
              "      <td>45</td>\n",
              "      <td>0.015139</td>\n",
              "      <td>54</td>\n",
              "      <td>0.015145</td>\n",
              "      <td>51</td>\n",
              "      <td>0.015191</td>\n",
              "      <td>65</td>\n",
              "      <td>0.015265</td>\n",
              "      <td>57</td>\n",
              "    </tr>\n",
              "    <tr>\n",
              "      <th>4</th>\n",
              "      <td>0.000943</td>\n",
              "      <td>7</td>\n",
              "      <td>0.001074</td>\n",
              "      <td>3</td>\n",
              "      <td>0.001760</td>\n",
              "      <td>6</td>\n",
              "      <td>0.001855</td>\n",
              "      <td>5</td>\n",
              "      <td>0.002556</td>\n",
              "      <td>2</td>\n",
              "      <td>0.004100</td>\n",
              "      <td>8</td>\n",
              "      <td>0.006062</td>\n",
              "      <td>9</td>\n",
              "      <td>0.006366</td>\n",
              "      <td>11</td>\n",
              "      <td>0.007091</td>\n",
              "      <td>14</td>\n",
              "      <td>0.009965</td>\n",
              "      <td>30</td>\n",
              "      <td>0.010303</td>\n",
              "      <td>36</td>\n",
              "      <td>0.010979</td>\n",
              "      <td>35</td>\n",
              "      <td>0.011156</td>\n",
              "      <td>38</td>\n",
              "      <td>0.011338</td>\n",
              "      <td>18</td>\n",
              "      <td>0.011728</td>\n",
              "      <td>20</td>\n",
              "      <td>0.011799</td>\n",
              "      <td>15</td>\n",
              "      <td>0.012382</td>\n",
              "      <td>10</td>\n",
              "      <td>0.012614</td>\n",
              "      <td>17</td>\n",
              "      <td>0.012699</td>\n",
              "      <td>19</td>\n",
              "      <td>0.013266</td>\n",
              "      <td>16</td>\n",
              "      <td>...</td>\n",
              "      <td>0.014372</td>\n",
              "      <td>42</td>\n",
              "      <td>0.014591</td>\n",
              "      <td>22</td>\n",
              "      <td>0.014697</td>\n",
              "      <td>74</td>\n",
              "      <td>0.014764</td>\n",
              "      <td>26</td>\n",
              "      <td>0.014942</td>\n",
              "      <td>48</td>\n",
              "      <td>0.014980</td>\n",
              "      <td>23</td>\n",
              "      <td>0.015070</td>\n",
              "      <td>65</td>\n",
              "      <td>0.015122</td>\n",
              "      <td>80</td>\n",
              "      <td>0.015164</td>\n",
              "      <td>43</td>\n",
              "      <td>0.015206</td>\n",
              "      <td>25</td>\n",
              "      <td>0.015206</td>\n",
              "      <td>24</td>\n",
              "      <td>0.015211</td>\n",
              "      <td>61</td>\n",
              "      <td>0.015305</td>\n",
              "      <td>52</td>\n",
              "      <td>0.015470</td>\n",
              "      <td>71</td>\n",
              "      <td>0.015476</td>\n",
              "      <td>81</td>\n",
              "      <td>0.015486</td>\n",
              "      <td>73</td>\n",
              "      <td>0.015486</td>\n",
              "      <td>60</td>\n",
              "      <td>0.015661</td>\n",
              "      <td>49</td>\n",
              "      <td>0.015705</td>\n",
              "      <td>77</td>\n",
              "      <td>0.015769</td>\n",
              "      <td>56</td>\n",
              "    </tr>\n",
              "  </tbody>\n",
              "</table>\n",
              "<p>5 rows × 98 columns</p>\n",
              "</div>"
            ],
            "text/plain": [
              "   dist_near_1  idx_near_1  dist_near_2  ...  idx_near_48  dist_near_49  idx_near_49\n",
              "0     0.038865           1     0.052304  ...           64      0.065999           57\n",
              "1     0.038865           0     0.054976  ...           67      0.072226           51\n",
              "2     0.000804           6     0.001704  ...           74      0.017128           55\n",
              "3     0.000952           7     0.001074  ...           65      0.015265           57\n",
              "4     0.000943           7     0.001074  ...           77      0.015769           56\n",
              "\n",
              "[5 rows x 98 columns]"
            ]
          },
          "metadata": {
            "tags": []
          },
          "execution_count": 275
        }
      ]
    },
    {
      "cell_type": "code",
      "metadata": {
        "id": "lx3J0AqsrijD"
      },
      "source": [
        "# 892 893 - пересекающиеся, почти перпендикулярные дороги, с пострадавшими"
      ],
      "execution_count": null,
      "outputs": []
    },
    {
      "cell_type": "code",
      "metadata": {
        "colab": {
          "base_uri": "https://localhost:8080/"
        },
        "id": "BAjmtqE9rnnu",
        "outputId": "e810419c-849b-44f3-8139-3e72361d5443"
      },
      "source": [
        "data.geom[892]"
      ],
      "execution_count": null,
      "outputs": [
        {
          "output_type": "execute_result",
          "data": {
            "text/plain": [
              "<shapely.geometry.multilinestring.MultiLineString at 0x7fe114ab3c18>"
            ],
            "image/svg+xml": "<svg xmlns=\"http://www.w3.org/2000/svg\" xmlns:xlink=\"http://www.w3.org/1999/xlink\" width=\"100.0\" height=\"100.0\" viewBox=\"36.866960565076376 55.41616555052426 0.0013104228106044502 0.0012568549540716845\" preserveAspectRatio=\"xMinYMin meet\"><g transform=\"matrix(1,0,0,-1,0,110.83358795600259)\"><g><polyline fill=\"none\" stroke=\"#66cc99\" stroke-width=\"2.6208456212089004e-05\" points=\"36.86822245370881,55.41621408470243 36.86753676965246,55.41685889068684 36.867009099254545,55.417373871300164\" opacity=\"0.8\" /></g></g></svg>"
          },
          "metadata": {
            "tags": []
          },
          "execution_count": 282
        }
      ]
    },
    {
      "cell_type": "code",
      "metadata": {
        "colab": {
          "base_uri": "https://localhost:8080/"
        },
        "id": "1Pz0NvcCrp7G",
        "outputId": "7801201c-6038-457d-d961-35d9a445247c"
      },
      "source": [
        "data.geom[893]"
      ],
      "execution_count": null,
      "outputs": [
        {
          "output_type": "execute_result",
          "data": {
            "text/plain": [
              "<shapely.geometry.multilinestring.MultiLineString at 0x7fe114ab3c50>"
            ],
            "image/svg+xml": "<svg xmlns=\"http://www.w3.org/2000/svg\" xmlns:xlink=\"http://www.w3.org/1999/xlink\" width=\"100.0\" height=\"100.0\" viewBox=\"36.86694429838321 55.41730907042883 0.0017496235260523463 0.0005626391549142795\" preserveAspectRatio=\"xMinYMin meet\"><g transform=\"matrix(1,0,0,-1,0,110.83518078001256)\"><g><polyline fill=\"none\" stroke=\"#66cc99\" stroke-width=\"3.499247052104692e-05\" points=\"36.867009099254545,55.417373871300164 36.86862912103793,55.41780690871241\" opacity=\"0.8\" /></g></g></svg>"
          },
          "metadata": {
            "tags": []
          },
          "execution_count": 283
        }
      ]
    },
    {
      "cell_type": "markdown",
      "metadata": {
        "id": "IVVkMx9BOfy0"
      },
      "source": [
        "**Функция вычисления угла между векторами.**"
      ]
    },
    {
      "cell_type": "code",
      "metadata": {
        "id": "xlVe9V4Rr3TX"
      },
      "source": [
        "def cos_vec(l_s_1, lo_s_1, l_e_1, lo_e_1,\n",
        "            l_s_2, lo_s_2, l_e_2, lo_e_2):\n",
        "    a = [l_e_1 - l_s_1, lo_e_1 - lo_s_1]\n",
        "    b = [l_e_2 - l_s_2, lo_e_2 - lo_s_2] \n",
        "    if ((a[0] * b[0] + a[1] * b[1]) / (sqrt(a[0]**2 + a[1]**2) * sqrt(b[0]**2 + b[1]**2))) > 1:\n",
        "        return degrees(acos(1))\n",
        "    if (a[0] * b[0] + a[1] * b[1]) / (sqrt(a[0]**2 + a[1]**2) * sqrt(b[0]**2 + b[1]**2)) < -1:\n",
        "        return degrees(acos(-1))\n",
        "    return degrees(acos((a[0] * b[0] + a[1] * b[1]) / (sqrt(a[0]**2 + a[1]**2) * sqrt(b[0]**2 + b[1]**2))))"
      ],
      "execution_count": null,
      "outputs": []
    },
    {
      "cell_type": "code",
      "metadata": {
        "id": "KMcy8_94tbEr"
      },
      "source": [
        "from math import acos, degrees"
      ],
      "execution_count": null,
      "outputs": []
    },
    {
      "cell_type": "code",
      "metadata": {
        "id": "Bbrii-qctG61"
      },
      "source": [
        "a = cos_vec(data.lat_end[892], data.lon_end[892], data.lat_start[892], data.lon_start[892],\n",
        "    data.lat_start[893], data.lon_start[893], data.lat_end[893], data.lon_end[893])"
      ],
      "execution_count": null,
      "outputs": []
    },
    {
      "cell_type": "code",
      "metadata": {
        "colab": {
          "base_uri": "https://localhost:8080/"
        },
        "id": "-0s-9wvbtqC7",
        "outputId": "eb538a6c-7f87-4409-d587-70ddb7730167"
      },
      "source": [
        "a"
      ],
      "execution_count": null,
      "outputs": [
        {
          "output_type": "execute_result",
          "data": {
            "text/plain": [
              "58.672382011426215"
            ]
          },
          "metadata": {
            "tags": []
          },
          "execution_count": 287
        }
      ]
    },
    {
      "cell_type": "markdown",
      "metadata": {
        "id": "LKk-NCsGvRH8"
      },
      "source": [
        "**Добавление информации о ближайших участках к трейну.**"
      ]
    },
    {
      "cell_type": "code",
      "metadata": {
        "id": "eUYiJHU9bqlG"
      },
      "source": [
        "road_nearest = road_nearest[distance_nearest.dist_near_1 < 0.001]"
      ],
      "execution_count": null,
      "outputs": []
    },
    {
      "cell_type": "code",
      "metadata": {
        "id": "4ztXg0fZBIHW"
      },
      "source": [
        "def cross_angle(row):\n",
        "    data_indx = row[len(row)-1]\n",
        "    j = 0\n",
        "    a_max = 0\n",
        "    while j < len(row)-1 and row[j] < 0.001:\n",
        "        near_indx = int(row[j+1])\n",
        "        a = cos_vec(data.lat_start[data_indx], data.lon_start[data_indx], data.lat_end[data_indx], data.lon_end[data_indx],\n",
        "                    data.lat_start[near_indx], data.lon_start[near_indx], data.lat_end[near_indx], data.lon_end[near_indx])\n",
        "        if 45 <= a <= 90:\n",
        "            if a > a_max:\n",
        "                a_max = a\n",
        "        if 90 < a <= 135:\n",
        "            if 180 - a > a_max:\n",
        "                a_max = a\n",
        "        j += 2\n",
        "    \n",
        "    return a_max"
      ],
      "execution_count": null,
      "outputs": []
    },
    {
      "cell_type": "code",
      "metadata": {
        "id": "xuWtj6WzDM-v"
      },
      "source": [
        "# road_nearest['id'] = road_nearest.index"
      ],
      "execution_count": null,
      "outputs": []
    },
    {
      "cell_type": "code",
      "metadata": {
        "id": "VXD6OWhFBkHP"
      },
      "source": [
        "# road_nearest['crossroad_angle'] = road_nearest.apply(cross_angle, axis=1)"
      ],
      "execution_count": null,
      "outputs": []
    },
    {
      "cell_type": "code",
      "metadata": {
        "id": "QgLVmC-mO_60"
      },
      "source": [
        "# road_nearest[['id', 'crossroad_angle']].to_csv('crossroad_angle.csv')\n",
        "# files.download('crossroad_angle.csv')"
      ],
      "execution_count": null,
      "outputs": []
    },
    {
      "cell_type": "markdown",
      "metadata": {
        "id": "S9UyOspdOnJk"
      },
      "source": [
        "Здесь код закомментирован, так как road_nearest.apply() выполняется довольно долго. Я просто сохранил результат в файл и загружаю его для дальнейшей работы."
      ]
    },
    {
      "cell_type": "code",
      "metadata": {
        "id": "BB1biTJOPXHt"
      },
      "source": [
        "crossroad_angle = pd.read_csv(data_dir + '/crossroad_angle.csv', index_col=0)"
      ],
      "execution_count": null,
      "outputs": []
    },
    {
      "cell_type": "code",
      "metadata": {
        "id": "0ZQsARE6vXLl"
      },
      "source": [
        "crossroad_angle.loc[crossroad_angle.crossroad_angle > 90, 'crossroad_angle'] = \\\n",
        "    180 - crossroad_angle.loc[crossroad_angle.crossroad_angle > 90, 'crossroad_angle']"
      ],
      "execution_count": null,
      "outputs": []
    },
    {
      "cell_type": "code",
      "metadata": {
        "id": "cqeyHjpXQChv"
      },
      "source": [
        "crossroad_angle['is_crossroad'] = 0\n",
        "crossroad_angle.loc[crossroad_angle.crossroad_angle > 0, 'is_crossroad'] = 1"
      ],
      "execution_count": null,
      "outputs": []
    },
    {
      "cell_type": "code",
      "metadata": {
        "id": "ho7P10J6QeBQ"
      },
      "source": [
        "data = pd.merge(data, crossroad_angle, on='id', how='left')"
      ],
      "execution_count": null,
      "outputs": []
    },
    {
      "cell_type": "code",
      "metadata": {
        "colab": {
          "base_uri": "https://localhost:8080/"
        },
        "id": "gBvxc0gcRkNs",
        "outputId": "ec36c205-f91b-46ee-fc67-a4d58c88b1e9"
      },
      "source": [
        "data[data.crossroad_angle > 0].head()"
      ],
      "execution_count": null,
      "outputs": [
        {
          "output_type": "execute_result",
          "data": {
            "text/html": [
              "<div>\n",
              "<style scoped>\n",
              "    .dataframe tbody tr th:only-of-type {\n",
              "        vertical-align: middle;\n",
              "    }\n",
              "\n",
              "    .dataframe tbody tr th {\n",
              "        vertical-align: top;\n",
              "    }\n",
              "\n",
              "    .dataframe thead th {\n",
              "        text-align: right;\n",
              "    }\n",
              "</style>\n",
              "<table border=\"1\" class=\"dataframe\">\n",
              "  <thead>\n",
              "    <tr style=\"text-align: right;\">\n",
              "      <th></th>\n",
              "      <th>id</th>\n",
              "      <th>victims</th>\n",
              "      <th>is_test</th>\n",
              "      <th>geom</th>\n",
              "      <th>obj_cod</th>\n",
              "      <th>typ_cod</th>\n",
              "      <th>nlevel</th>\n",
              "      <th>btf</th>\n",
              "      <th>oneway</th>\n",
              "      <th>surface</th>\n",
              "      <th>splitter</th>\n",
              "      <th>speedlim</th>\n",
              "      <th>f_rspeed</th>\n",
              "      <th>t_rspeed</th>\n",
              "      <th>lanewidth</th>\n",
              "      <th>f_lanes</th>\n",
              "      <th>t_lanes</th>\n",
              "      <th>f_sidewalk</th>\n",
              "      <th>t_sidewalk</th>\n",
              "      <th>f_buslanes</th>\n",
              "      <th>t_buslanes</th>\n",
              "      <th>multidigit</th>\n",
              "      <th>f_parking</th>\n",
              "      <th>t_parking</th>\n",
              "      <th>bicyclanes</th>\n",
              "      <th>lat_start</th>\n",
              "      <th>lon_start</th>\n",
              "      <th>lat_end</th>\n",
              "      <th>lon_end</th>\n",
              "      <th>lon_mean</th>\n",
              "      <th>lat_mean</th>\n",
              "      <th>kriv</th>\n",
              "      <th>dist</th>\n",
              "      <th>camera</th>\n",
              "      <th>speed_day</th>\n",
              "      <th>speed_night</th>\n",
              "      <th>bus_stop_net</th>\n",
              "      <th>tram_stop_net</th>\n",
              "      <th>traf_lights_net</th>\n",
              "      <th>zebra_net</th>\n",
              "      <th>under_zebra_net</th>\n",
              "      <th>over_zebra_net</th>\n",
              "      <th>danger_net</th>\n",
              "      <th>repair</th>\n",
              "      <th>duration</th>\n",
              "      <th>events</th>\n",
              "      <th>repair_work</th>\n",
              "      <th>crossroad_angle</th>\n",
              "      <th>is_crossroad</th>\n",
              "    </tr>\n",
              "  </thead>\n",
              "  <tbody>\n",
              "    <tr>\n",
              "      <th>346</th>\n",
              "      <td>162845</td>\n",
              "      <td>0.0</td>\n",
              "      <td>0</td>\n",
              "      <td>(LINESTRING (36.84757368875651 55.418239023616...</td>\n",
              "      <td>1070452</td>\n",
              "      <td>7700</td>\n",
              "      <td>3</td>\n",
              "      <td>0</td>\n",
              "      <td>0</td>\n",
              "      <td>2</td>\n",
              "      <td>1</td>\n",
              "      <td>60</td>\n",
              "      <td>60</td>\n",
              "      <td>60</td>\n",
              "      <td>0</td>\n",
              "      <td>1</td>\n",
              "      <td>1</td>\n",
              "      <td>0</td>\n",
              "      <td>0</td>\n",
              "      <td>0</td>\n",
              "      <td>0</td>\n",
              "      <td>0</td>\n",
              "      <td>0</td>\n",
              "      <td>0</td>\n",
              "      <td>0</td>\n",
              "      <td>55.418239</td>\n",
              "      <td>36.847574</td>\n",
              "      <td>55.416777</td>\n",
              "      <td>36.852117</td>\n",
              "      <td>36.849845</td>\n",
              "      <td>55.417508</td>\n",
              "      <td>4.975166</td>\n",
              "      <td>0.337902</td>\n",
              "      <td>NaN</td>\n",
              "      <td>NaN</td>\n",
              "      <td>NaN</td>\n",
              "      <td>1</td>\n",
              "      <td>0</td>\n",
              "      <td>0</td>\n",
              "      <td>0</td>\n",
              "      <td>0</td>\n",
              "      <td>0</td>\n",
              "      <td>0</td>\n",
              "      <td>0</td>\n",
              "      <td>NaN</td>\n",
              "      <td>NaN</td>\n",
              "      <td>NaN</td>\n",
              "      <td>79.723924</td>\n",
              "      <td>1.0</td>\n",
              "    </tr>\n",
              "    <tr>\n",
              "      <th>491</th>\n",
              "      <td>23382</td>\n",
              "      <td>1.0</td>\n",
              "      <td>0</td>\n",
              "      <td>(LINESTRING (36.86021846452731 55.429594532166...</td>\n",
              "      <td>1106436</td>\n",
              "      <td>7700</td>\n",
              "      <td>1</td>\n",
              "      <td>0</td>\n",
              "      <td>0</td>\n",
              "      <td>2</td>\n",
              "      <td>1</td>\n",
              "      <td>90</td>\n",
              "      <td>75</td>\n",
              "      <td>75</td>\n",
              "      <td>0</td>\n",
              "      <td>2</td>\n",
              "      <td>2</td>\n",
              "      <td>0</td>\n",
              "      <td>0</td>\n",
              "      <td>0</td>\n",
              "      <td>0</td>\n",
              "      <td>0</td>\n",
              "      <td>0</td>\n",
              "      <td>0</td>\n",
              "      <td>0</td>\n",
              "      <td>55.429595</td>\n",
              "      <td>36.860218</td>\n",
              "      <td>55.428917</td>\n",
              "      <td>36.859042</td>\n",
              "      <td>36.859630</td>\n",
              "      <td>55.429256</td>\n",
              "      <td>0.000000</td>\n",
              "      <td>0.105777</td>\n",
              "      <td>NaN</td>\n",
              "      <td>NaN</td>\n",
              "      <td>NaN</td>\n",
              "      <td>0</td>\n",
              "      <td>0</td>\n",
              "      <td>0</td>\n",
              "      <td>0</td>\n",
              "      <td>0</td>\n",
              "      <td>0</td>\n",
              "      <td>0</td>\n",
              "      <td>0</td>\n",
              "      <td>NaN</td>\n",
              "      <td>NaN</td>\n",
              "      <td>NaN</td>\n",
              "      <td>85.451812</td>\n",
              "      <td>1.0</td>\n",
              "    </tr>\n",
              "    <tr>\n",
              "      <th>524</th>\n",
              "      <td>175580</td>\n",
              "      <td>1.0</td>\n",
              "      <td>0</td>\n",
              "      <td>(LINESTRING (36.86108470995578 55.430102873359...</td>\n",
              "      <td>1106436</td>\n",
              "      <td>7700</td>\n",
              "      <td>1</td>\n",
              "      <td>0</td>\n",
              "      <td>0</td>\n",
              "      <td>2</td>\n",
              "      <td>1</td>\n",
              "      <td>60</td>\n",
              "      <td>60</td>\n",
              "      <td>60</td>\n",
              "      <td>0</td>\n",
              "      <td>2</td>\n",
              "      <td>2</td>\n",
              "      <td>0</td>\n",
              "      <td>0</td>\n",
              "      <td>0</td>\n",
              "      <td>0</td>\n",
              "      <td>0</td>\n",
              "      <td>0</td>\n",
              "      <td>0</td>\n",
              "      <td>0</td>\n",
              "      <td>55.430103</td>\n",
              "      <td>36.861085</td>\n",
              "      <td>55.429654</td>\n",
              "      <td>36.860319</td>\n",
              "      <td>36.860702</td>\n",
              "      <td>55.429878</td>\n",
              "      <td>0.999979</td>\n",
              "      <td>0.069520</td>\n",
              "      <td>NaN</td>\n",
              "      <td>NaN</td>\n",
              "      <td>NaN</td>\n",
              "      <td>0</td>\n",
              "      <td>0</td>\n",
              "      <td>0</td>\n",
              "      <td>0</td>\n",
              "      <td>0</td>\n",
              "      <td>0</td>\n",
              "      <td>0</td>\n",
              "      <td>0</td>\n",
              "      <td>NaN</td>\n",
              "      <td>NaN</td>\n",
              "      <td>NaN</td>\n",
              "      <td>84.276563</td>\n",
              "      <td>1.0</td>\n",
              "    </tr>\n",
              "    <tr>\n",
              "      <th>2022</th>\n",
              "      <td>151582</td>\n",
              "      <td>0.0</td>\n",
              "      <td>0</td>\n",
              "      <td>(LINESTRING (36.90128629521374 55.734304963253...</td>\n",
              "      <td>0</td>\n",
              "      <td>7700</td>\n",
              "      <td>6</td>\n",
              "      <td>0</td>\n",
              "      <td>0</td>\n",
              "      <td>5</td>\n",
              "      <td>0</td>\n",
              "      <td>60</td>\n",
              "      <td>15</td>\n",
              "      <td>15</td>\n",
              "      <td>0</td>\n",
              "      <td>1</td>\n",
              "      <td>1</td>\n",
              "      <td>0</td>\n",
              "      <td>0</td>\n",
              "      <td>0</td>\n",
              "      <td>0</td>\n",
              "      <td>0</td>\n",
              "      <td>0</td>\n",
              "      <td>0</td>\n",
              "      <td>0</td>\n",
              "      <td>55.734305</td>\n",
              "      <td>36.901286</td>\n",
              "      <td>55.736265</td>\n",
              "      <td>36.910978</td>\n",
              "      <td>36.906132</td>\n",
              "      <td>55.735285</td>\n",
              "      <td>14.740132</td>\n",
              "      <td>0.672571</td>\n",
              "      <td>NaN</td>\n",
              "      <td>NaN</td>\n",
              "      <td>NaN</td>\n",
              "      <td>0</td>\n",
              "      <td>0</td>\n",
              "      <td>0</td>\n",
              "      <td>0</td>\n",
              "      <td>0</td>\n",
              "      <td>0</td>\n",
              "      <td>0</td>\n",
              "      <td>0</td>\n",
              "      <td>NaN</td>\n",
              "      <td>NaN</td>\n",
              "      <td>NaN</td>\n",
              "      <td>79.068114</td>\n",
              "      <td>1.0</td>\n",
              "    </tr>\n",
              "    <tr>\n",
              "      <th>2211</th>\n",
              "      <td>414884</td>\n",
              "      <td>0.0</td>\n",
              "      <td>0</td>\n",
              "      <td>(LINESTRING (36.91097803915108 55.736265214810...</td>\n",
              "      <td>0</td>\n",
              "      <td>7700</td>\n",
              "      <td>6</td>\n",
              "      <td>0</td>\n",
              "      <td>0</td>\n",
              "      <td>2</td>\n",
              "      <td>1</td>\n",
              "      <td>90</td>\n",
              "      <td>25</td>\n",
              "      <td>25</td>\n",
              "      <td>0</td>\n",
              "      <td>1</td>\n",
              "      <td>1</td>\n",
              "      <td>0</td>\n",
              "      <td>0</td>\n",
              "      <td>0</td>\n",
              "      <td>0</td>\n",
              "      <td>0</td>\n",
              "      <td>0</td>\n",
              "      <td>0</td>\n",
              "      <td>0</td>\n",
              "      <td>55.736265</td>\n",
              "      <td>36.910978</td>\n",
              "      <td>55.740033</td>\n",
              "      <td>36.906787</td>\n",
              "      <td>36.908883</td>\n",
              "      <td>55.738149</td>\n",
              "      <td>10.065067</td>\n",
              "      <td>0.575774</td>\n",
              "      <td>NaN</td>\n",
              "      <td>NaN</td>\n",
              "      <td>NaN</td>\n",
              "      <td>0</td>\n",
              "      <td>0</td>\n",
              "      <td>0</td>\n",
              "      <td>0</td>\n",
              "      <td>0</td>\n",
              "      <td>0</td>\n",
              "      <td>0</td>\n",
              "      <td>0</td>\n",
              "      <td>NaN</td>\n",
              "      <td>NaN</td>\n",
              "      <td>NaN</td>\n",
              "      <td>88.731281</td>\n",
              "      <td>1.0</td>\n",
              "    </tr>\n",
              "  </tbody>\n",
              "</table>\n",
              "</div>"
            ],
            "text/plain": [
              "          id  victims  is_test  ... repair_work  crossroad_angle  is_crossroad\n",
              "346   162845      0.0        0  ...         NaN        79.723924           1.0\n",
              "491    23382      1.0        0  ...         NaN        85.451812           1.0\n",
              "524   175580      1.0        0  ...         NaN        84.276563           1.0\n",
              "2022  151582      0.0        0  ...         NaN        79.068114           1.0\n",
              "2211  414884      0.0        0  ...         NaN        88.731281           1.0\n",
              "\n",
              "[5 rows x 49 columns]"
            ]
          },
          "metadata": {
            "tags": []
          },
          "execution_count": 298
        }
      ]
    },
    {
      "cell_type": "markdown",
      "metadata": {
        "id": "hF7R7UsalGCY"
      },
      "source": [
        "# Приведение к правильным типам данных. Удаление лишних колонок."
      ]
    },
    {
      "cell_type": "markdown",
      "metadata": {
        "id": "Tk_uZiGPmXHL"
      },
      "source": [
        "Удаление признаков, имеющих всего 1 уникальное значение."
      ]
    },
    {
      "cell_type": "code",
      "metadata": {
        "id": "e_uiKGHHlO6T"
      },
      "source": [
        "for col in data.columns:\n",
        "    if data[col].dtype != object and data[col].nunique() < 2:\n",
        "        print(col, data[col].nunique())"
      ],
      "execution_count": null,
      "outputs": []
    },
    {
      "cell_type": "code",
      "metadata": {
        "id": "o1jXxT8Jl6Ev"
      },
      "source": [
        "data = data.drop(['under_zebra_net', 'over_zebra_net', 'danger_net', 'lanewidth'], axis=1)"
      ],
      "execution_count": null,
      "outputs": []
    },
    {
      "cell_type": "markdown",
      "metadata": {
        "id": "896QLEAGSYVr"
      },
      "source": [
        "Приведение категориальных признаков к типу int."
      ]
    },
    {
      "cell_type": "code",
      "metadata": {
        "colab": {
          "base_uri": "https://localhost:8080/"
        },
        "id": "rBdn0F-1mcce",
        "outputId": "4f146963-8e7d-4c09-e7df-95ba127aa875"
      },
      "source": [
        "for col in data.columns:\n",
        "    if data[col].dtype != object and data[col].nunique() >= 2 and data[col].nunique() < 20:\n",
        "        print(col, data[col].nunique())"
      ],
      "execution_count": null,
      "outputs": [
        {
          "output_type": "stream",
          "text": [
            "is_test 2\n",
            "typ_cod 8\n",
            "nlevel 6\n",
            "btf 15\n",
            "oneway 3\n",
            "surface 10\n",
            "splitter 5\n",
            "speedlim 15\n",
            "f_rspeed 11\n",
            "t_rspeed 11\n",
            "f_lanes 11\n",
            "t_lanes 5\n",
            "f_sidewalk 9\n",
            "t_sidewalk 9\n",
            "f_buslanes 2\n",
            "t_buslanes 2\n",
            "multidigit 2\n",
            "f_parking 7\n",
            "t_parking 6\n",
            "bicyclanes 4\n",
            "camera 2\n",
            "bus_stop_net 2\n",
            "tram_stop_net 2\n",
            "traf_lights_net 2\n",
            "zebra_net 2\n",
            "repair 2\n",
            "events 2\n",
            "repair_work 2\n",
            "is_crossroad 2\n",
            "dangerous 2\n"
          ],
          "name": "stdout"
        }
      ]
    },
    {
      "cell_type": "code",
      "metadata": {
        "id": "Ss9nLYPgnKDL"
      },
      "source": [
        "categorical_columns = ['typ_cod', 'nlevel', 'btf', 'oneway',\n",
        "                       'surface', 'splitter', 'f_sidewalk',\n",
        "                       't_sidewalk', 'f_buslanes', 't_buslanes', \n",
        "                       'multidigit', 'f_parking', 't_parking', \n",
        "                       'bicyclanes', 'bus_stop_net',\n",
        "                       'tram_stop_net', 'traf_lights_net',\n",
        "                       'zebra_net', 'repair', 'events', 'repair_work',\n",
        "                       'is_crossroad','dangerous']"
      ],
      "execution_count": null,
      "outputs": []
    },
    {
      "cell_type": "code",
      "metadata": {
        "id": "_29bERDAmyxu"
      },
      "source": [
        "data[[c for c in data.columns if c in categorical_columns]] = data[[c for c in data.columns if c in categorical_columns]].astype(int)"
      ],
      "execution_count": null,
      "outputs": []
    },
    {
      "cell_type": "code",
      "metadata": {
        "id": "_fdq_fst3S79"
      },
      "source": [
        "data = data.drop(['geom'], axis=1)"
      ],
      "execution_count": null,
      "outputs": []
    },
    {
      "cell_type": "code",
      "metadata": {
        "id": "rxihxarE43n-"
      },
      "source": [
        "data.loc[data.camera.notnull(), 'camera'] = 1\n",
        "data.loc[data.camera.isnull(), 'camera'] = 0"
      ],
      "execution_count": null,
      "outputs": []
    },
    {
      "cell_type": "code",
      "metadata": {
        "id": "p2h0zTUwB0LN"
      },
      "source": [
        "data[['camera', 'events', 'repair_work', 'is_crossroad']] \\\n",
        "    = data[['camera', 'events', 'repair_work', 'is_crossroad']].fillna(0)\n",
        "data[['camera', 'events', 'repair_work', 'is_crossroad']] \\\n",
        "    = data[['camera', 'events', 'repair_work', 'is_crossroad']].astype(int)"
      ],
      "execution_count": null,
      "outputs": []
    },
    {
      "cell_type": "code",
      "metadata": {
        "colab": {
          "base_uri": "https://localhost:8080/"
        },
        "id": "3ZxDf-4SpF0H",
        "outputId": "0a8fac5c-ed58-4099-d727-af657889bd5b"
      },
      "source": [
        "data.head(1)"
      ],
      "execution_count": null,
      "outputs": [
        {
          "output_type": "execute_result",
          "data": {
            "text/html": [
              "<div>\n",
              "<style scoped>\n",
              "    .dataframe tbody tr th:only-of-type {\n",
              "        vertical-align: middle;\n",
              "    }\n",
              "\n",
              "    .dataframe tbody tr th {\n",
              "        vertical-align: top;\n",
              "    }\n",
              "\n",
              "    .dataframe thead th {\n",
              "        text-align: right;\n",
              "    }\n",
              "</style>\n",
              "<table border=\"1\" class=\"dataframe\">\n",
              "  <thead>\n",
              "    <tr style=\"text-align: right;\">\n",
              "      <th></th>\n",
              "      <th>id</th>\n",
              "      <th>victims</th>\n",
              "      <th>is_test</th>\n",
              "      <th>obj_cod</th>\n",
              "      <th>typ_cod</th>\n",
              "      <th>nlevel</th>\n",
              "      <th>btf</th>\n",
              "      <th>oneway</th>\n",
              "      <th>surface</th>\n",
              "      <th>splitter</th>\n",
              "      <th>speedlim</th>\n",
              "      <th>f_rspeed</th>\n",
              "      <th>t_rspeed</th>\n",
              "      <th>f_lanes</th>\n",
              "      <th>t_lanes</th>\n",
              "      <th>f_sidewalk</th>\n",
              "      <th>t_sidewalk</th>\n",
              "      <th>f_buslanes</th>\n",
              "      <th>t_buslanes</th>\n",
              "      <th>multidigit</th>\n",
              "      <th>f_parking</th>\n",
              "      <th>t_parking</th>\n",
              "      <th>bicyclanes</th>\n",
              "      <th>lat_start</th>\n",
              "      <th>lon_start</th>\n",
              "      <th>lat_end</th>\n",
              "      <th>lon_end</th>\n",
              "      <th>lon_mean</th>\n",
              "      <th>lat_mean</th>\n",
              "      <th>kriv</th>\n",
              "      <th>dist</th>\n",
              "      <th>camera</th>\n",
              "      <th>speed_day</th>\n",
              "      <th>speed_night</th>\n",
              "      <th>bus_stop_net</th>\n",
              "      <th>tram_stop_net</th>\n",
              "      <th>traf_lights_net</th>\n",
              "      <th>zebra_net</th>\n",
              "      <th>repair</th>\n",
              "      <th>duration</th>\n",
              "      <th>events</th>\n",
              "      <th>repair_work</th>\n",
              "      <th>crossroad_angle</th>\n",
              "      <th>is_crossroad</th>\n",
              "    </tr>\n",
              "  </thead>\n",
              "  <tbody>\n",
              "    <tr>\n",
              "      <th>0</th>\n",
              "      <td>14644059</td>\n",
              "      <td>0.0</td>\n",
              "      <td>0</td>\n",
              "      <td>4011775</td>\n",
              "      <td>7730</td>\n",
              "      <td>1</td>\n",
              "      <td>0</td>\n",
              "      <td>0</td>\n",
              "      <td>3</td>\n",
              "      <td>2</td>\n",
              "      <td>77.0</td>\n",
              "      <td>40.0</td>\n",
              "      <td>40.0</td>\n",
              "      <td>1.0</td>\n",
              "      <td>1.0</td>\n",
              "      <td>0</td>\n",
              "      <td>0</td>\n",
              "      <td>0</td>\n",
              "      <td>0</td>\n",
              "      <td>0</td>\n",
              "      <td>0</td>\n",
              "      <td>1</td>\n",
              "      <td>0</td>\n",
              "      <td>55.440413</td>\n",
              "      <td>36.804568</td>\n",
              "      <td>55.465773</td>\n",
              "      <td>36.701662</td>\n",
              "      <td>36.753115</td>\n",
              "      <td>55.453093</td>\n",
              "      <td>80.926906</td>\n",
              "      <td>7.754766</td>\n",
              "      <td>0</td>\n",
              "      <td>NaN</td>\n",
              "      <td>NaN</td>\n",
              "      <td>0</td>\n",
              "      <td>0</td>\n",
              "      <td>0</td>\n",
              "      <td>0</td>\n",
              "      <td>0</td>\n",
              "      <td>NaN</td>\n",
              "      <td>0</td>\n",
              "      <td>0</td>\n",
              "      <td>NaN</td>\n",
              "      <td>0</td>\n",
              "    </tr>\n",
              "  </tbody>\n",
              "</table>\n",
              "</div>"
            ],
            "text/plain": [
              "         id  victims  is_test  ...  repair_work  crossroad_angle  is_crossroad\n",
              "0  14644059      0.0        0  ...            0              NaN             0\n",
              "\n",
              "[1 rows x 44 columns]"
            ]
          },
          "metadata": {
            "tags": []
          },
          "execution_count": 352
        }
      ]
    },
    {
      "cell_type": "markdown",
      "metadata": {
        "id": "d1ufVkkiSf3w"
      },
      "source": [
        "Проверка вещественных признаков."
      ]
    },
    {
      "cell_type": "code",
      "metadata": {
        "id": "7SFILsB34Rsu"
      },
      "source": [
        "regr_features = ['victims', 'speedlim', 'f_rspeed', 't_rspeed', 'f_lanes', \n",
        "                 't_lanes', 'lat_start', 'lon_start', 'lat_end', 'lon_end', \n",
        "                 'lon_mean', 'lat_mean', 'kriv', 'dist', 'speed_day', \n",
        "                 'speed_night', 'duration', 'crossroad_angle']"
      ],
      "execution_count": null,
      "outputs": []
    },
    {
      "cell_type": "code",
      "metadata": {
        "id": "z2pwKyJZ4wBg"
      },
      "source": [
        "data[regr_features] = data[regr_features].astype(float)"
      ],
      "execution_count": null,
      "outputs": []
    },
    {
      "cell_type": "code",
      "metadata": {
        "colab": {
          "base_uri": "https://localhost:8080/"
        },
        "id": "VUiguX7a38pO",
        "outputId": "35b36e12-86a1-499e-c28d-0941cf59a77d"
      },
      "source": [
        "for col in data.columns:\n",
        "    print(col, data[col].nunique(), data[col].dtype)"
      ],
      "execution_count": null,
      "outputs": [
        {
          "output_type": "stream",
          "text": [
            "id 954304 int64\n",
            "victims 21 float64\n",
            "is_test 2 int64\n",
            "obj_cod 6863 int64\n",
            "typ_cod 8 int64\n",
            "nlevel 6 int64\n",
            "btf 15 int64\n",
            "oneway 3 int64\n",
            "surface 10 int64\n",
            "splitter 5 int64\n",
            "speedlim 15 float64\n",
            "f_rspeed 11 float64\n",
            "t_rspeed 11 float64\n",
            "f_lanes 11 float64\n",
            "t_lanes 5 float64\n",
            "f_sidewalk 9 int64\n",
            "t_sidewalk 9 int64\n",
            "f_buslanes 2 int64\n",
            "t_buslanes 2 int64\n",
            "multidigit 2 int64\n",
            "f_parking 7 int64\n",
            "t_parking 6 int64\n",
            "bicyclanes 4 int64\n",
            "lat_start 575973 float64\n",
            "lon_start 569141 float64\n",
            "lat_end 632169 float64\n",
            "lon_end 623952 float64\n",
            "lon_mean 932060 float64\n",
            "lat_mean 953990 float64\n",
            "kriv 410279 float64\n",
            "dist 954296 float64\n",
            "camera 2 int64\n",
            "speed_day 460 float64\n",
            "speed_night 452 float64\n",
            "bus_stop_net 2 int64\n",
            "tram_stop_net 2 int64\n",
            "traf_lights_net 2 int64\n",
            "zebra_net 2 int64\n",
            "repair 2 int64\n",
            "duration 437 float64\n",
            "events 2 int64\n",
            "repair_work 2 int64\n",
            "crossroad_angle 11182 float64\n",
            "is_crossroad 2 int64\n"
          ],
          "name": "stdout"
        }
      ]
    },
    {
      "cell_type": "markdown",
      "metadata": {
        "id": "R2kai9_ZSjtS"
      },
      "source": [
        "Решил не использовать One-Hot encoding, так как кэтбуст прекрасно справляется с категориальными признаками."
      ]
    },
    {
      "cell_type": "markdown",
      "metadata": {
        "id": "MFL5AtmdPVur"
      },
      "source": [
        "# Загрузка подготовленной даты"
      ]
    },
    {
      "cell_type": "markdown",
      "metadata": {
        "id": "HGIRqz8sFW4j"
      },
      "source": [
        "Датасет был сохранен в файл, чтобы не мучиться и не пересоздавать его каждый раз. Здесь он подгружается из файла."
      ]
    },
    {
      "cell_type": "code",
      "metadata": {
        "id": "pkl_me_8PZLW"
      },
      "source": [
        "data = pd.read_csv(data_dir + '/data.csv', index_col=0)"
      ],
      "execution_count": null,
      "outputs": []
    },
    {
      "cell_type": "markdown",
      "metadata": {
        "id": "G03nwc_sFgrA"
      },
      "source": [
        "Контрольное приведение типов данных."
      ]
    },
    {
      "cell_type": "code",
      "metadata": {
        "id": "3acH4KD2PmD3"
      },
      "source": [
        "categorical_columns = ['typ_cod', 'nlevel', 'btf', 'oneway',\n",
        "                       'surface', 'splitter', 'f_sidewalk',\n",
        "                       't_sidewalk', 'f_buslanes', 't_buslanes', \n",
        "                       'multidigit', 'f_parking', 't_parking', \n",
        "                       'bicyclanes', 'bus_stop_net', 'camera',\n",
        "                       'tram_stop_net', 'traf_lights_net',\n",
        "                       'zebra_net', 'repair', 'events', 'repair_work',\n",
        "                       'is_crossroad','dangerous']\n",
        "\n",
        "data[[c for c in data.columns if c in categorical_columns]] = data[[c for c in data.columns if c in categorical_columns]].astype(int)\n",
        "\n",
        "regr_features = ['victims', 'speedlim', 'f_rspeed', 't_rspeed', 'f_lanes', \n",
        "                 't_lanes', 'lat_start', 'lon_start', 'lat_end', 'lon_end', \n",
        "                 'lon_mean', 'lat_mean', 'kriv', 'dist', 'speed_day', \n",
        "                 'speed_night', 'duration', 'crossroad_angle']\n",
        "\n",
        "data[regr_features] = data[regr_features].astype(float)"
      ],
      "execution_count": null,
      "outputs": []
    },
    {
      "cell_type": "markdown",
      "metadata": {
        "id": "PJ4olMUraReh"
      },
      "source": [
        "# Тренирочный датасет"
      ]
    },
    {
      "cell_type": "code",
      "metadata": {
        "id": "FM7DiEOkWibk"
      },
      "source": [
        "train_data = data[data.is_test == 0].drop(['is_test'], axis=1)"
      ],
      "execution_count": null,
      "outputs": []
    },
    {
      "cell_type": "markdown",
      "metadata": {
        "id": "xltqtUBfFFbj"
      },
      "source": [
        "Удаление дубликатов из трейна для избежания оверфиттинга"
      ]
    },
    {
      "cell_type": "code",
      "metadata": {
        "id": "SgkM2t6_FACs"
      },
      "source": [
        "train_data = train_data.drop_duplicates(['id'])"
      ],
      "execution_count": null,
      "outputs": []
    },
    {
      "cell_type": "code",
      "metadata": {
        "colab": {
          "base_uri": "https://localhost:8080/"
        },
        "id": "AcAXS3P7eZF8",
        "outputId": "8a165a9e-6e38-4632-aa36-cff84fc8b65d"
      },
      "source": [
        "train_data.shape"
      ],
      "execution_count": null,
      "outputs": [
        {
          "output_type": "execute_result",
          "data": {
            "text/plain": [
              "(868418, 43)"
            ]
          },
          "metadata": {
            "tags": []
          },
          "execution_count": 23
        }
      ]
    },
    {
      "cell_type": "markdown",
      "metadata": {
        "id": "G6asUUe06jLi"
      },
      "source": [
        "# Тестовый датасет"
      ]
    },
    {
      "cell_type": "code",
      "metadata": {
        "id": "s8XeAU9K6l0H"
      },
      "source": [
        "test_data = data[data.is_test == 1].drop(['is_test', 'victims'], axis=1).reset_index(drop=True)"
      ],
      "execution_count": null,
      "outputs": []
    },
    {
      "cell_type": "code",
      "metadata": {
        "colab": {
          "base_uri": "https://localhost:8080/"
        },
        "id": "6g3vytzI6lxx",
        "outputId": "45cb8f8d-4742-4646-e253-0df44a04efdb"
      },
      "source": [
        "test_data.shape"
      ],
      "execution_count": null,
      "outputs": [
        {
          "output_type": "execute_result",
          "data": {
            "text/plain": [
              "(87330, 42)"
            ]
          },
          "metadata": {
            "tags": []
          },
          "execution_count": 25
        }
      ]
    },
    {
      "cell_type": "markdown",
      "metadata": {
        "id": "pIyOkLdGQw8O"
      },
      "source": [
        "# Модель для предсказания числа пострадавших"
      ]
    },
    {
      "cell_type": "code",
      "metadata": {
        "id": "7lgX7KOqlUWo"
      },
      "source": [
        "X = train_data.drop(['id', 'victims'], axis=1)\n",
        "y = train_data['victims']"
      ],
      "execution_count": null,
      "outputs": []
    },
    {
      "cell_type": "code",
      "metadata": {
        "id": "LRWAi2QYQ6Ae",
        "colab": {
          "base_uri": "https://localhost:8080/"
        },
        "outputId": "6f552527-47de-4e4a-e956-a28c4e57c8a0"
      },
      "source": [
        "categorical_feature_indices = []\n",
        "\n",
        "i = 0\n",
        "for col in X.columns:\n",
        "    if X[col].dtype != float:\n",
        "        categorical_feature_indices.append(i)\n",
        "    i += 1\n",
        "\n",
        "print(' '.join([str(s) for s in categorical_feature_indices]))"
      ],
      "execution_count": null,
      "outputs": [
        {
          "output_type": "stream",
          "text": [
            "0 1 2 3 4 5 6 12 13 14 15 16 17 18 19 28 31 32 33 34 35 37 38 40\n"
          ],
          "name": "stdout"
        }
      ]
    },
    {
      "cell_type": "markdown",
      "metadata": {
        "id": "AH-hkEFW8D4J"
      },
      "source": [
        "**Байесовская оптимизация гиперпараметров**"
      ]
    },
    {
      "cell_type": "code",
      "metadata": {
        "id": "WBamt5QQ8CYs"
      },
      "source": [
        "cv_dataset_dang = cat.Pool(data=X,\n",
        "                           label=y,\n",
        "                           cat_features=categorical_feature_indices)"
      ],
      "execution_count": null,
      "outputs": []
    },
    {
      "cell_type": "code",
      "metadata": {
        "id": "CJZTWCA_8HZp"
      },
      "source": [
        "def hyp_cat(depth, bagging_temperature, iterations, l2_leaf_reg):\n",
        "    params = {'early_stopping_rounds': 100,\n",
        "              'eval_metric': 'MAE',\n",
        "              'loss_function': 'RMSE',\n",
        "              'verbose': False}\n",
        "    params['depth'] = int(round(depth))\n",
        "    params['bagging_temperature'] = bagging_temperature\n",
        "    params['iterations'] = int(round(iterations))\n",
        "    params['l2_leaf_reg'] = int(round(l2_leaf_reg))\n",
        "\n",
        "    scores = cat.cv(cv_dataset_dang,\n",
        "                    params,\n",
        "                    fold_count=1)\n",
        "                    \n",
        "    return -np.mean(scores['test-MAE-mean'])"
      ],
      "execution_count": null,
      "outputs": []
    },
    {
      "cell_type": "code",
      "metadata": {
        "id": "MtDhg4l38Hcm"
      },
      "source": [
        "pds = {'depth': (4, 6),\n",
        "       'bagging_temperature': (0, 10),\n",
        "       'iterations': (100, 1000),\n",
        "       'l2_leaf_reg': (3, 8)\n",
        "       }"
      ],
      "execution_count": null,
      "outputs": []
    },
    {
      "cell_type": "code",
      "metadata": {
        "colab": {
          "base_uri": "https://localhost:8080/"
        },
        "id": "VndUawmV8SRK",
        "outputId": "20b66dc9-fe25-42a9-af04-ab0b11328707"
      },
      "source": [
        "optimizer = BayesianOptimization(hyp_cat, pds, random_state=17)                                  \n",
        "optimizer.maximize(init_points=5, n_iter=5)"
      ],
      "execution_count": null,
      "outputs": [
        {
          "output_type": "stream",
          "text": [
            "|   iter    |  target   | baggin... |   depth   | iterat... | l2_lea... |\n",
            "-------------------------------------------------------------------------\n"
          ],
          "name": "stdout"
        }
      ]
    },
    {
      "cell_type": "code",
      "metadata": {
        "colab": {
          "base_uri": "https://localhost:8080/"
        },
        "id": "fD7e4vPtEl38",
        "outputId": "53653c00-d199-47cc-ea7d-f00823524d86"
      },
      "source": [
        "optimizer.max['params']"
      ],
      "execution_count": null,
      "outputs": [
        {
          "output_type": "execute_result",
          "data": {
            "text/plain": [
              "{'bagging_temperature': 0.3737215611804079,\n",
              " 'depth': 7.691627448809457,\n",
              " 'iterations': 498.9037018546111,\n",
              " 'l2_leaf_reg': 6.8206520356681395}"
            ]
          },
          "metadata": {
            "tags": []
          },
          "execution_count": 425
        }
      ]
    },
    {
      "cell_type": "code",
      "metadata": {
        "id": "dzVCqk8RQ6DR"
      },
      "source": [
        "test = test_data.drop(['id'], axis=1)"
      ],
      "execution_count": null,
      "outputs": []
    },
    {
      "cell_type": "markdown",
      "metadata": {
        "id": "VLJu0KOyXksI"
      },
      "source": [
        "**Получение предикта**"
      ]
    },
    {
      "cell_type": "code",
      "metadata": {
        "colab": {
          "base_uri": "https://localhost:8080/"
        },
        "id": "our2u9fObXTV",
        "outputId": "b0ca4caf-0d7b-4cb7-a9e2-f74f277fe163"
      },
      "source": [
        "model = cat.CatBoostRegressor(loss_function='RMSE', eval_metric='MAE', \n",
        "                        iterations=1000, bagging_temperature=17, \n",
        "                        rsm=0.2, od_type='Iter', \n",
        "                        od_wait=500, metric_period=200)\n",
        "\n",
        "model.fit(X, y, cat_features=categorical_feature_indices, verbose=200)"
      ],
      "execution_count": null,
      "outputs": [
        {
          "output_type": "stream",
          "text": [
            "Learning rate set to 0.130165\n",
            "0:\tlearn: 0.1241833\ttotal: 1.06s\tremaining: 17m 37s\n",
            "200:\tlearn: 0.1102311\ttotal: 2m 20s\tremaining: 9m 17s\n",
            "400:\tlearn: 0.1091976\ttotal: 4m 41s\tremaining: 6m 59s\n",
            "600:\tlearn: 0.1085978\ttotal: 7m 9s\tremaining: 4m 45s\n",
            "800:\tlearn: 0.1079834\ttotal: 9m 40s\tremaining: 2m 24s\n",
            "999:\tlearn: 0.1075277\ttotal: 12m 6s\tremaining: 0us\n"
          ],
          "name": "stdout"
        },
        {
          "output_type": "execute_result",
          "data": {
            "text/plain": [
              "<catboost.core.CatBoostRegressor at 0x7fe104df0828>"
            ]
          },
          "metadata": {
            "tags": []
          },
          "execution_count": 19
        }
      ]
    },
    {
      "cell_type": "code",
      "metadata": {
        "id": "doK39F_rpXWS"
      },
      "source": [
        "test_data['victims'] = model.predict(test)"
      ],
      "execution_count": null,
      "outputs": []
    },
    {
      "cell_type": "code",
      "metadata": {
        "colab": {
          "base_uri": "https://localhost:8080/"
        },
        "id": "hWjL-WcTWNUt",
        "outputId": "ce19126c-49ed-466f-d319-addc6cba67c0"
      },
      "source": [
        "test_data[test_data.victims > 2]"
      ],
      "execution_count": null,
      "outputs": [
        {
          "output_type": "execute_result",
          "data": {
            "text/html": [
              "<div>\n",
              "<style scoped>\n",
              "    .dataframe tbody tr th:only-of-type {\n",
              "        vertical-align: middle;\n",
              "    }\n",
              "\n",
              "    .dataframe tbody tr th {\n",
              "        vertical-align: top;\n",
              "    }\n",
              "\n",
              "    .dataframe thead th {\n",
              "        text-align: right;\n",
              "    }\n",
              "</style>\n",
              "<table border=\"1\" class=\"dataframe\">\n",
              "  <thead>\n",
              "    <tr style=\"text-align: right;\">\n",
              "      <th></th>\n",
              "      <th>id</th>\n",
              "      <th>obj_cod</th>\n",
              "      <th>typ_cod</th>\n",
              "      <th>nlevel</th>\n",
              "      <th>btf</th>\n",
              "      <th>oneway</th>\n",
              "      <th>surface</th>\n",
              "      <th>splitter</th>\n",
              "      <th>speedlim</th>\n",
              "      <th>f_rspeed</th>\n",
              "      <th>t_rspeed</th>\n",
              "      <th>f_lanes</th>\n",
              "      <th>t_lanes</th>\n",
              "      <th>f_sidewalk</th>\n",
              "      <th>t_sidewalk</th>\n",
              "      <th>f_buslanes</th>\n",
              "      <th>t_buslanes</th>\n",
              "      <th>multidigit</th>\n",
              "      <th>f_parking</th>\n",
              "      <th>t_parking</th>\n",
              "      <th>bicyclanes</th>\n",
              "      <th>lat_start</th>\n",
              "      <th>lon_start</th>\n",
              "      <th>lat_end</th>\n",
              "      <th>lon_end</th>\n",
              "      <th>lon_mean</th>\n",
              "      <th>lat_mean</th>\n",
              "      <th>kriv</th>\n",
              "      <th>dist</th>\n",
              "      <th>camera</th>\n",
              "      <th>speed_day</th>\n",
              "      <th>speed_night</th>\n",
              "      <th>bus_stop_net</th>\n",
              "      <th>tram_stop_net</th>\n",
              "      <th>traf_lights_net</th>\n",
              "      <th>zebra_net</th>\n",
              "      <th>repair</th>\n",
              "      <th>duration</th>\n",
              "      <th>events</th>\n",
              "      <th>repair_work</th>\n",
              "      <th>crossroad_angle</th>\n",
              "      <th>is_crossroad</th>\n",
              "      <th>victims</th>\n",
              "    </tr>\n",
              "  </thead>\n",
              "  <tbody>\n",
              "    <tr>\n",
              "      <th>9575</th>\n",
              "      <td>9380508</td>\n",
              "      <td>1001003</td>\n",
              "      <td>7700</td>\n",
              "      <td>2</td>\n",
              "      <td>1</td>\n",
              "      <td>1</td>\n",
              "      <td>2</td>\n",
              "      <td>0</td>\n",
              "      <td>80.0</td>\n",
              "      <td>25.0</td>\n",
              "      <td>0.0</td>\n",
              "      <td>4.0</td>\n",
              "      <td>0.0</td>\n",
              "      <td>1</td>\n",
              "      <td>1</td>\n",
              "      <td>1</td>\n",
              "      <td>0</td>\n",
              "      <td>1</td>\n",
              "      <td>1</td>\n",
              "      <td>1</td>\n",
              "      <td>0</td>\n",
              "      <td>55.772510</td>\n",
              "      <td>37.427131</td>\n",
              "      <td>55.773775</td>\n",
              "      <td>37.438404</td>\n",
              "      <td>37.432768</td>\n",
              "      <td>55.773143</td>\n",
              "      <td>27.996827</td>\n",
              "      <td>0.731669</td>\n",
              "      <td>0</td>\n",
              "      <td>NaN</td>\n",
              "      <td>NaN</td>\n",
              "      <td>0</td>\n",
              "      <td>0</td>\n",
              "      <td>0</td>\n",
              "      <td>0</td>\n",
              "      <td>0</td>\n",
              "      <td>NaN</td>\n",
              "      <td>0</td>\n",
              "      <td>0</td>\n",
              "      <td>NaN</td>\n",
              "      <td>0</td>\n",
              "      <td>2.501811</td>\n",
              "    </tr>\n",
              "    <tr>\n",
              "      <th>9576</th>\n",
              "      <td>9380509</td>\n",
              "      <td>1001003</td>\n",
              "      <td>7700</td>\n",
              "      <td>2</td>\n",
              "      <td>1</td>\n",
              "      <td>1</td>\n",
              "      <td>2</td>\n",
              "      <td>0</td>\n",
              "      <td>80.0</td>\n",
              "      <td>25.0</td>\n",
              "      <td>0.0</td>\n",
              "      <td>4.0</td>\n",
              "      <td>0.0</td>\n",
              "      <td>1</td>\n",
              "      <td>1</td>\n",
              "      <td>1</td>\n",
              "      <td>0</td>\n",
              "      <td>1</td>\n",
              "      <td>1</td>\n",
              "      <td>1</td>\n",
              "      <td>0</td>\n",
              "      <td>55.773879</td>\n",
              "      <td>37.438250</td>\n",
              "      <td>55.772653</td>\n",
              "      <td>37.427165</td>\n",
              "      <td>37.432708</td>\n",
              "      <td>55.773266</td>\n",
              "      <td>20.995580</td>\n",
              "      <td>0.718736</td>\n",
              "      <td>0</td>\n",
              "      <td>NaN</td>\n",
              "      <td>NaN</td>\n",
              "      <td>0</td>\n",
              "      <td>0</td>\n",
              "      <td>0</td>\n",
              "      <td>0</td>\n",
              "      <td>0</td>\n",
              "      <td>NaN</td>\n",
              "      <td>0</td>\n",
              "      <td>0</td>\n",
              "      <td>NaN</td>\n",
              "      <td>0</td>\n",
              "      <td>2.238237</td>\n",
              "    </tr>\n",
              "    <tr>\n",
              "      <th>10274</th>\n",
              "      <td>12930495</td>\n",
              "      <td>1001003</td>\n",
              "      <td>7700</td>\n",
              "      <td>2</td>\n",
              "      <td>1</td>\n",
              "      <td>1</td>\n",
              "      <td>2</td>\n",
              "      <td>0</td>\n",
              "      <td>80.0</td>\n",
              "      <td>25.0</td>\n",
              "      <td>0.0</td>\n",
              "      <td>4.0</td>\n",
              "      <td>0.0</td>\n",
              "      <td>1</td>\n",
              "      <td>1</td>\n",
              "      <td>1</td>\n",
              "      <td>0</td>\n",
              "      <td>1</td>\n",
              "      <td>1</td>\n",
              "      <td>1</td>\n",
              "      <td>0</td>\n",
              "      <td>55.778844</td>\n",
              "      <td>37.450188</td>\n",
              "      <td>55.773879</td>\n",
              "      <td>37.438250</td>\n",
              "      <td>37.444219</td>\n",
              "      <td>55.776362</td>\n",
              "      <td>28.996547</td>\n",
              "      <td>0.937715</td>\n",
              "      <td>0</td>\n",
              "      <td>NaN</td>\n",
              "      <td>NaN</td>\n",
              "      <td>0</td>\n",
              "      <td>0</td>\n",
              "      <td>0</td>\n",
              "      <td>0</td>\n",
              "      <td>0</td>\n",
              "      <td>NaN</td>\n",
              "      <td>0</td>\n",
              "      <td>0</td>\n",
              "      <td>NaN</td>\n",
              "      <td>0</td>\n",
              "      <td>2.356727</td>\n",
              "    </tr>\n",
              "    <tr>\n",
              "      <th>10278</th>\n",
              "      <td>12930595</td>\n",
              "      <td>1001003</td>\n",
              "      <td>7700</td>\n",
              "      <td>2</td>\n",
              "      <td>1</td>\n",
              "      <td>1</td>\n",
              "      <td>2</td>\n",
              "      <td>0</td>\n",
              "      <td>80.0</td>\n",
              "      <td>25.0</td>\n",
              "      <td>0.0</td>\n",
              "      <td>4.0</td>\n",
              "      <td>0.0</td>\n",
              "      <td>1</td>\n",
              "      <td>1</td>\n",
              "      <td>1</td>\n",
              "      <td>0</td>\n",
              "      <td>1</td>\n",
              "      <td>1</td>\n",
              "      <td>1</td>\n",
              "      <td>0</td>\n",
              "      <td>55.773775</td>\n",
              "      <td>37.438404</td>\n",
              "      <td>55.778699</td>\n",
              "      <td>37.450406</td>\n",
              "      <td>37.444405</td>\n",
              "      <td>55.776237</td>\n",
              "      <td>24.996536</td>\n",
              "      <td>0.938733</td>\n",
              "      <td>0</td>\n",
              "      <td>NaN</td>\n",
              "      <td>NaN</td>\n",
              "      <td>0</td>\n",
              "      <td>0</td>\n",
              "      <td>0</td>\n",
              "      <td>0</td>\n",
              "      <td>0</td>\n",
              "      <td>NaN</td>\n",
              "      <td>0</td>\n",
              "      <td>0</td>\n",
              "      <td>NaN</td>\n",
              "      <td>0</td>\n",
              "      <td>2.438243</td>\n",
              "    </tr>\n",
              "    <tr>\n",
              "      <th>10913</th>\n",
              "      <td>1128778</td>\n",
              "      <td>1015602</td>\n",
              "      <td>7700</td>\n",
              "      <td>1</td>\n",
              "      <td>0</td>\n",
              "      <td>1</td>\n",
              "      <td>2</td>\n",
              "      <td>0</td>\n",
              "      <td>100.0</td>\n",
              "      <td>75.0</td>\n",
              "      <td>0.0</td>\n",
              "      <td>5.0</td>\n",
              "      <td>0.0</td>\n",
              "      <td>1</td>\n",
              "      <td>1</td>\n",
              "      <td>0</td>\n",
              "      <td>0</td>\n",
              "      <td>1</td>\n",
              "      <td>1</td>\n",
              "      <td>1</td>\n",
              "      <td>0</td>\n",
              "      <td>55.627423</td>\n",
              "      <td>37.473172</td>\n",
              "      <td>55.633010</td>\n",
              "      <td>37.466702</td>\n",
              "      <td>37.469937</td>\n",
              "      <td>55.630216</td>\n",
              "      <td>15.999203</td>\n",
              "      <td>0.742222</td>\n",
              "      <td>0</td>\n",
              "      <td>NaN</td>\n",
              "      <td>NaN</td>\n",
              "      <td>0</td>\n",
              "      <td>0</td>\n",
              "      <td>0</td>\n",
              "      <td>0</td>\n",
              "      <td>0</td>\n",
              "      <td>NaN</td>\n",
              "      <td>0</td>\n",
              "      <td>0</td>\n",
              "      <td>NaN</td>\n",
              "      <td>0</td>\n",
              "      <td>2.971003</td>\n",
              "    </tr>\n",
              "    <tr>\n",
              "      <th>...</th>\n",
              "      <td>...</td>\n",
              "      <td>...</td>\n",
              "      <td>...</td>\n",
              "      <td>...</td>\n",
              "      <td>...</td>\n",
              "      <td>...</td>\n",
              "      <td>...</td>\n",
              "      <td>...</td>\n",
              "      <td>...</td>\n",
              "      <td>...</td>\n",
              "      <td>...</td>\n",
              "      <td>...</td>\n",
              "      <td>...</td>\n",
              "      <td>...</td>\n",
              "      <td>...</td>\n",
              "      <td>...</td>\n",
              "      <td>...</td>\n",
              "      <td>...</td>\n",
              "      <td>...</td>\n",
              "      <td>...</td>\n",
              "      <td>...</td>\n",
              "      <td>...</td>\n",
              "      <td>...</td>\n",
              "      <td>...</td>\n",
              "      <td>...</td>\n",
              "      <td>...</td>\n",
              "      <td>...</td>\n",
              "      <td>...</td>\n",
              "      <td>...</td>\n",
              "      <td>...</td>\n",
              "      <td>...</td>\n",
              "      <td>...</td>\n",
              "      <td>...</td>\n",
              "      <td>...</td>\n",
              "      <td>...</td>\n",
              "      <td>...</td>\n",
              "      <td>...</td>\n",
              "      <td>...</td>\n",
              "      <td>...</td>\n",
              "      <td>...</td>\n",
              "      <td>...</td>\n",
              "      <td>...</td>\n",
              "      <td>...</td>\n",
              "    </tr>\n",
              "    <tr>\n",
              "      <th>83198</th>\n",
              "      <td>12378103</td>\n",
              "      <td>1015660</td>\n",
              "      <td>7700</td>\n",
              "      <td>1</td>\n",
              "      <td>0</td>\n",
              "      <td>1</td>\n",
              "      <td>2</td>\n",
              "      <td>0</td>\n",
              "      <td>100.0</td>\n",
              "      <td>75.0</td>\n",
              "      <td>0.0</td>\n",
              "      <td>5.0</td>\n",
              "      <td>0.0</td>\n",
              "      <td>1</td>\n",
              "      <td>1</td>\n",
              "      <td>0</td>\n",
              "      <td>0</td>\n",
              "      <td>1</td>\n",
              "      <td>1</td>\n",
              "      <td>1</td>\n",
              "      <td>0</td>\n",
              "      <td>55.838601</td>\n",
              "      <td>37.810815</td>\n",
              "      <td>55.831643</td>\n",
              "      <td>37.824338</td>\n",
              "      <td>37.817577</td>\n",
              "      <td>55.835122</td>\n",
              "      <td>4.999969</td>\n",
              "      <td>1.145320</td>\n",
              "      <td>0</td>\n",
              "      <td>NaN</td>\n",
              "      <td>NaN</td>\n",
              "      <td>0</td>\n",
              "      <td>0</td>\n",
              "      <td>0</td>\n",
              "      <td>0</td>\n",
              "      <td>0</td>\n",
              "      <td>NaN</td>\n",
              "      <td>0</td>\n",
              "      <td>0</td>\n",
              "      <td>NaN</td>\n",
              "      <td>0</td>\n",
              "      <td>3.567660</td>\n",
              "    </tr>\n",
              "    <tr>\n",
              "      <th>83250</th>\n",
              "      <td>12378102</td>\n",
              "      <td>1015660</td>\n",
              "      <td>7700</td>\n",
              "      <td>1</td>\n",
              "      <td>0</td>\n",
              "      <td>1</td>\n",
              "      <td>2</td>\n",
              "      <td>0</td>\n",
              "      <td>100.0</td>\n",
              "      <td>75.0</td>\n",
              "      <td>0.0</td>\n",
              "      <td>5.0</td>\n",
              "      <td>0.0</td>\n",
              "      <td>1</td>\n",
              "      <td>1</td>\n",
              "      <td>0</td>\n",
              "      <td>0</td>\n",
              "      <td>1</td>\n",
              "      <td>1</td>\n",
              "      <td>1</td>\n",
              "      <td>0</td>\n",
              "      <td>55.831787</td>\n",
              "      <td>37.824577</td>\n",
              "      <td>55.838748</td>\n",
              "      <td>37.811062</td>\n",
              "      <td>37.817820</td>\n",
              "      <td>55.835268</td>\n",
              "      <td>3.999989</td>\n",
              "      <td>1.145140</td>\n",
              "      <td>0</td>\n",
              "      <td>NaN</td>\n",
              "      <td>NaN</td>\n",
              "      <td>0</td>\n",
              "      <td>0</td>\n",
              "      <td>0</td>\n",
              "      <td>0</td>\n",
              "      <td>0</td>\n",
              "      <td>NaN</td>\n",
              "      <td>0</td>\n",
              "      <td>0</td>\n",
              "      <td>NaN</td>\n",
              "      <td>0</td>\n",
              "      <td>3.523752</td>\n",
              "    </tr>\n",
              "    <tr>\n",
              "      <th>87145</th>\n",
              "      <td>12441787</td>\n",
              "      <td>1015662</td>\n",
              "      <td>7700</td>\n",
              "      <td>1</td>\n",
              "      <td>0</td>\n",
              "      <td>1</td>\n",
              "      <td>2</td>\n",
              "      <td>0</td>\n",
              "      <td>100.0</td>\n",
              "      <td>75.0</td>\n",
              "      <td>0.0</td>\n",
              "      <td>5.0</td>\n",
              "      <td>0.0</td>\n",
              "      <td>1</td>\n",
              "      <td>1</td>\n",
              "      <td>0</td>\n",
              "      <td>0</td>\n",
              "      <td>1</td>\n",
              "      <td>1</td>\n",
              "      <td>1</td>\n",
              "      <td>0</td>\n",
              "      <td>55.824744</td>\n",
              "      <td>37.834707</td>\n",
              "      <td>55.820231</td>\n",
              "      <td>37.837483</td>\n",
              "      <td>37.836095</td>\n",
              "      <td>55.822487</td>\n",
              "      <td>15.994692</td>\n",
              "      <td>0.532559</td>\n",
              "      <td>0</td>\n",
              "      <td>NaN</td>\n",
              "      <td>NaN</td>\n",
              "      <td>0</td>\n",
              "      <td>0</td>\n",
              "      <td>0</td>\n",
              "      <td>0</td>\n",
              "      <td>0</td>\n",
              "      <td>NaN</td>\n",
              "      <td>0</td>\n",
              "      <td>0</td>\n",
              "      <td>NaN</td>\n",
              "      <td>0</td>\n",
              "      <td>3.172636</td>\n",
              "    </tr>\n",
              "    <tr>\n",
              "      <th>87168</th>\n",
              "      <td>12379369</td>\n",
              "      <td>1015662</td>\n",
              "      <td>7700</td>\n",
              "      <td>1</td>\n",
              "      <td>0</td>\n",
              "      <td>1</td>\n",
              "      <td>2</td>\n",
              "      <td>0</td>\n",
              "      <td>100.0</td>\n",
              "      <td>75.0</td>\n",
              "      <td>0.0</td>\n",
              "      <td>5.0</td>\n",
              "      <td>0.0</td>\n",
              "      <td>1</td>\n",
              "      <td>1</td>\n",
              "      <td>0</td>\n",
              "      <td>0</td>\n",
              "      <td>1</td>\n",
              "      <td>1</td>\n",
              "      <td>1</td>\n",
              "      <td>0</td>\n",
              "      <td>55.820168</td>\n",
              "      <td>37.837859</td>\n",
              "      <td>55.824829</td>\n",
              "      <td>37.835018</td>\n",
              "      <td>37.836438</td>\n",
              "      <td>55.822499</td>\n",
              "      <td>15.994681</td>\n",
              "      <td>0.549641</td>\n",
              "      <td>1</td>\n",
              "      <td>NaN</td>\n",
              "      <td>NaN</td>\n",
              "      <td>0</td>\n",
              "      <td>0</td>\n",
              "      <td>0</td>\n",
              "      <td>0</td>\n",
              "      <td>0</td>\n",
              "      <td>NaN</td>\n",
              "      <td>0</td>\n",
              "      <td>0</td>\n",
              "      <td>NaN</td>\n",
              "      <td>0</td>\n",
              "      <td>4.177331</td>\n",
              "    </tr>\n",
              "    <tr>\n",
              "      <th>87305</th>\n",
              "      <td>12441789</td>\n",
              "      <td>1015662</td>\n",
              "      <td>7700</td>\n",
              "      <td>1</td>\n",
              "      <td>0</td>\n",
              "      <td>1</td>\n",
              "      <td>2</td>\n",
              "      <td>0</td>\n",
              "      <td>100.0</td>\n",
              "      <td>75.0</td>\n",
              "      <td>0.0</td>\n",
              "      <td>5.0</td>\n",
              "      <td>0.0</td>\n",
              "      <td>1</td>\n",
              "      <td>1</td>\n",
              "      <td>0</td>\n",
              "      <td>0</td>\n",
              "      <td>1</td>\n",
              "      <td>1</td>\n",
              "      <td>1</td>\n",
              "      <td>0</td>\n",
              "      <td>55.819313</td>\n",
              "      <td>37.837756</td>\n",
              "      <td>55.816751</td>\n",
              "      <td>37.838196</td>\n",
              "      <td>37.837976</td>\n",
              "      <td>55.818032</td>\n",
              "      <td>13.996304</td>\n",
              "      <td>0.286313</td>\n",
              "      <td>1</td>\n",
              "      <td>70.6</td>\n",
              "      <td>79.2</td>\n",
              "      <td>0</td>\n",
              "      <td>0</td>\n",
              "      <td>0</td>\n",
              "      <td>0</td>\n",
              "      <td>0</td>\n",
              "      <td>NaN</td>\n",
              "      <td>0</td>\n",
              "      <td>0</td>\n",
              "      <td>NaN</td>\n",
              "      <td>0</td>\n",
              "      <td>2.101135</td>\n",
              "    </tr>\n",
              "  </tbody>\n",
              "</table>\n",
              "<p>73 rows × 43 columns</p>\n",
              "</div>"
            ],
            "text/plain": [
              "             id  obj_cod  typ_cod  ...  crossroad_angle  is_crossroad   victims\n",
              "9575    9380508  1001003     7700  ...              NaN             0  2.501811\n",
              "9576    9380509  1001003     7700  ...              NaN             0  2.238237\n",
              "10274  12930495  1001003     7700  ...              NaN             0  2.356727\n",
              "10278  12930595  1001003     7700  ...              NaN             0  2.438243\n",
              "10913   1128778  1015602     7700  ...              NaN             0  2.971003\n",
              "...         ...      ...      ...  ...              ...           ...       ...\n",
              "83198  12378103  1015660     7700  ...              NaN             0  3.567660\n",
              "83250  12378102  1015660     7700  ...              NaN             0  3.523752\n",
              "87145  12441787  1015662     7700  ...              NaN             0  3.172636\n",
              "87168  12379369  1015662     7700  ...              NaN             0  4.177331\n",
              "87305  12441789  1015662     7700  ...              NaN             0  2.101135\n",
              "\n",
              "[73 rows x 43 columns]"
            ]
          },
          "metadata": {
            "tags": []
          },
          "execution_count": 21
        }
      ]
    },
    {
      "cell_type": "markdown",
      "metadata": {
        "id": "_cYtqRQPiTJt"
      },
      "source": [
        "# Тест"
      ]
    },
    {
      "cell_type": "code",
      "metadata": {
        "id": "vsTbvkQ-RmpG",
        "colab": {
          "base_uri": "https://localhost:8080/"
        },
        "outputId": "f6c09e93-6a93-456c-d51b-014505913f7b"
      },
      "source": [
        "test_data[['id', 'victims']].to_csv('test_data.csv')\n",
        "files.download('test_data.csv')"
      ],
      "execution_count": null,
      "outputs": [
        {
          "output_type": "display_data",
          "data": {
            "application/javascript": [
              "\n",
              "    async function download(id, filename, size) {\n",
              "      if (!google.colab.kernel.accessAllowed) {\n",
              "        return;\n",
              "      }\n",
              "      const div = document.createElement('div');\n",
              "      const label = document.createElement('label');\n",
              "      label.textContent = `Downloading \"${filename}\": `;\n",
              "      div.appendChild(label);\n",
              "      const progress = document.createElement('progress');\n",
              "      progress.max = size;\n",
              "      div.appendChild(progress);\n",
              "      document.body.appendChild(div);\n",
              "\n",
              "      const buffers = [];\n",
              "      let downloaded = 0;\n",
              "\n",
              "      const channel = await google.colab.kernel.comms.open(id);\n",
              "      // Send a message to notify the kernel that we're ready.\n",
              "      channel.send({})\n",
              "\n",
              "      for await (const message of channel.messages) {\n",
              "        // Send a message to notify the kernel that we're ready.\n",
              "        channel.send({})\n",
              "        if (message.buffers) {\n",
              "          for (const buffer of message.buffers) {\n",
              "            buffers.push(buffer);\n",
              "            downloaded += buffer.byteLength;\n",
              "            progress.value = downloaded;\n",
              "          }\n",
              "        }\n",
              "      }\n",
              "      const blob = new Blob(buffers, {type: 'application/binary'});\n",
              "      const a = document.createElement('a');\n",
              "      a.href = window.URL.createObjectURL(blob);\n",
              "      a.download = filename;\n",
              "      div.appendChild(a);\n",
              "      a.click();\n",
              "      div.remove();\n",
              "    }\n",
              "  "
            ],
            "text/plain": [
              "<IPython.core.display.Javascript object>"
            ]
          },
          "metadata": {
            "tags": []
          }
        },
        {
          "output_type": "display_data",
          "data": {
            "application/javascript": [
              "download(\"download_96efadb7-03c3-409f-9272-50b673d18d9d\", \"test_data.csv\", 3075088)"
            ],
            "text/plain": [
              "<IPython.core.display.Javascript object>"
            ]
          },
          "metadata": {
            "tags": []
          }
        }
      ]
    },
    {
      "cell_type": "code",
      "metadata": {
        "id": "_C-GrfcVEcdw"
      },
      "source": [
        "test_data = pd.read_csv(data_dir + '/test_data.csv', index_col=0)"
      ],
      "execution_count": null,
      "outputs": []
    },
    {
      "cell_type": "markdown",
      "metadata": {
        "id": "-tzLmx3WD_5q"
      },
      "source": [
        "Присоединяю лики данных к тесту"
      ]
    },
    {
      "cell_type": "code",
      "metadata": {
        "id": "ch3C3zIqZvUq"
      },
      "source": [
        "liks = train_data[train_data.id.isin(test_data.id)]"
      ],
      "execution_count": null,
      "outputs": []
    },
    {
      "cell_type": "code",
      "metadata": {
        "id": "9KiTo8QiR4fk"
      },
      "source": [
        "for i in range(test_data.shape[0]):\n",
        "\n",
        "    if test_data.id.iloc[i] in liks.id.values:\n",
        "        test_data.victims.iloc[i] = liks.loc[liks.id == test_data.id.iloc[i], 'victims'].values[0]"
      ],
      "execution_count": null,
      "outputs": []
    },
    {
      "cell_type": "code",
      "metadata": {
        "id": "ATwqrXiHJtbZ"
      },
      "source": [
        "temp = pd.read_csv(data_dir + '/data.csv')\n",
        "test_data = pd.merge(test_data, temp[['id', 'lon_mean', 'lat_mean']].drop_duplicates('id'), on='id', how='left')\n",
        "del temp"
      ],
      "execution_count": null,
      "outputs": []
    },
    {
      "cell_type": "code",
      "metadata": {
        "id": "b4TCmR7sa32D"
      },
      "source": [
        "test_data.victims = test_data.victims.apply(round)"
      ],
      "execution_count": null,
      "outputs": []
    },
    {
      "cell_type": "code",
      "metadata": {
        "colab": {
          "base_uri": "https://localhost:8080/"
        },
        "id": "eaKuvnmXoBvq",
        "outputId": "7a29ec1e-a7c9-4091-e207-83a342c91ea4"
      },
      "source": [
        "test_data[['id', 'victims']].to_csv('result.csv')\n",
        "files.download('result.csv')"
      ],
      "execution_count": null,
      "outputs": [
        {
          "output_type": "display_data",
          "data": {
            "application/javascript": [
              "\n",
              "    async function download(id, filename, size) {\n",
              "      if (!google.colab.kernel.accessAllowed) {\n",
              "        return;\n",
              "      }\n",
              "      const div = document.createElement('div');\n",
              "      const label = document.createElement('label');\n",
              "      label.textContent = `Downloading \"${filename}\": `;\n",
              "      div.appendChild(label);\n",
              "      const progress = document.createElement('progress');\n",
              "      progress.max = size;\n",
              "      div.appendChild(progress);\n",
              "      document.body.appendChild(div);\n",
              "\n",
              "      const buffers = [];\n",
              "      let downloaded = 0;\n",
              "\n",
              "      const channel = await google.colab.kernel.comms.open(id);\n",
              "      // Send a message to notify the kernel that we're ready.\n",
              "      channel.send({})\n",
              "\n",
              "      for await (const message of channel.messages) {\n",
              "        // Send a message to notify the kernel that we're ready.\n",
              "        channel.send({})\n",
              "        if (message.buffers) {\n",
              "          for (const buffer of message.buffers) {\n",
              "            buffers.push(buffer);\n",
              "            downloaded += buffer.byteLength;\n",
              "            progress.value = downloaded;\n",
              "          }\n",
              "        }\n",
              "      }\n",
              "      const blob = new Blob(buffers, {type: 'application/binary'});\n",
              "      const a = document.createElement('a');\n",
              "      a.href = window.URL.createObjectURL(blob);\n",
              "      a.download = filename;\n",
              "      div.appendChild(a);\n",
              "      a.click();\n",
              "      div.remove();\n",
              "    }\n",
              "  "
            ],
            "text/plain": [
              "<IPython.core.display.Javascript object>"
            ]
          },
          "metadata": {
            "tags": []
          }
        },
        {
          "output_type": "display_data",
          "data": {
            "application/javascript": [
              "download(\"download_20b7da25-6e1e-448a-b0bd-01b8365bd248\", \"result.csv\", 1466754)"
            ],
            "text/plain": [
              "<IPython.core.display.Javascript object>"
            ]
          },
          "metadata": {
            "tags": []
          }
        }
      ]
    },
    {
      "cell_type": "code",
      "metadata": {
        "id": "jfQUbab0pETh"
      },
      "source": [
        "test_lon = test_data['lon_mean'].values\n",
        "test_lat = test_data['lat_mean'].values\n",
        "\n",
        "coords = []\n",
        "\n",
        "for i in range(len(test_lon)):\n",
        "    coords.append([test_lat[i], test_lon[i]])"
      ],
      "execution_count": null,
      "outputs": []
    },
    {
      "cell_type": "code",
      "metadata": {
        "id": "Y-59VPlbpdi3"
      },
      "source": [
        "test_data['coords'] = coords"
      ],
      "execution_count": null,
      "outputs": []
    },
    {
      "cell_type": "code",
      "metadata": {
        "colab": {
          "base_uri": "https://localhost:8080/"
        },
        "id": "cywEGXbMphtl",
        "outputId": "2212a03c-2c23-4e7d-eb63-2c0fadad931c"
      },
      "source": [
        "test_data[test_data.victims > 0][['id', 'victims', 'coords']].sort_values('victims', ascending=False).to_csv('try.csv')\n",
        "files.download('try.csv')"
      ],
      "execution_count": null,
      "outputs": [
        {
          "output_type": "display_data",
          "data": {
            "application/javascript": [
              "\n",
              "    async function download(id, filename, size) {\n",
              "      if (!google.colab.kernel.accessAllowed) {\n",
              "        return;\n",
              "      }\n",
              "      const div = document.createElement('div');\n",
              "      const label = document.createElement('label');\n",
              "      label.textContent = `Downloading \"${filename}\": `;\n",
              "      div.appendChild(label);\n",
              "      const progress = document.createElement('progress');\n",
              "      progress.max = size;\n",
              "      div.appendChild(progress);\n",
              "      document.body.appendChild(div);\n",
              "\n",
              "      const buffers = [];\n",
              "      let downloaded = 0;\n",
              "\n",
              "      const channel = await google.colab.kernel.comms.open(id);\n",
              "      // Send a message to notify the kernel that we're ready.\n",
              "      channel.send({})\n",
              "\n",
              "      for await (const message of channel.messages) {\n",
              "        // Send a message to notify the kernel that we're ready.\n",
              "        channel.send({})\n",
              "        if (message.buffers) {\n",
              "          for (const buffer of message.buffers) {\n",
              "            buffers.push(buffer);\n",
              "            downloaded += buffer.byteLength;\n",
              "            progress.value = downloaded;\n",
              "          }\n",
              "        }\n",
              "      }\n",
              "      const blob = new Blob(buffers, {type: 'application/binary'});\n",
              "      const a = document.createElement('a');\n",
              "      a.href = window.URL.createObjectURL(blob);\n",
              "      a.download = filename;\n",
              "      div.appendChild(a);\n",
              "      a.click();\n",
              "      div.remove();\n",
              "    }\n",
              "  "
            ],
            "text/plain": [
              "<IPython.core.display.Javascript object>"
            ]
          },
          "metadata": {
            "tags": []
          }
        },
        {
          "output_type": "display_data",
          "data": {
            "application/javascript": [
              "download(\"download_06364922-6cab-4c3f-870a-63d969ca2e52\", \"try.csv\", 122788)"
            ],
            "text/plain": [
              "<IPython.core.display.Javascript object>"
            ]
          },
          "metadata": {
            "tags": []
          }
        }
      ]
    },
    {
      "cell_type": "markdown",
      "metadata": {
        "id": "xMIFam6qTU4O"
      },
      "source": [
        "# Ответы на вопросы"
      ]
    },
    {
      "cell_type": "code",
      "metadata": {
        "colab": {
          "base_uri": "https://localhost:8080/",
          "height": 639
        },
        "id": "Vcx9CanJV6eD",
        "outputId": "8d09af24-8e4d-4107-d29e-dabb09e8e7bd"
      },
      "source": [
        "test_data.sort_values('victims', ascending=False).reset_index(drop=True).head(20)"
      ],
      "execution_count": null,
      "outputs": [
        {
          "output_type": "execute_result",
          "data": {
            "text/html": [
              "<div>\n",
              "<style scoped>\n",
              "    .dataframe tbody tr th:only-of-type {\n",
              "        vertical-align: middle;\n",
              "    }\n",
              "\n",
              "    .dataframe tbody tr th {\n",
              "        vertical-align: top;\n",
              "    }\n",
              "\n",
              "    .dataframe thead th {\n",
              "        text-align: right;\n",
              "    }\n",
              "</style>\n",
              "<table border=\"1\" class=\"dataframe\">\n",
              "  <thead>\n",
              "    <tr style=\"text-align: right;\">\n",
              "      <th></th>\n",
              "      <th>id</th>\n",
              "      <th>victims</th>\n",
              "      <th>lon_mean</th>\n",
              "      <th>lat_mean</th>\n",
              "    </tr>\n",
              "  </thead>\n",
              "  <tbody>\n",
              "    <tr>\n",
              "      <th>0</th>\n",
              "      <td>10785889</td>\n",
              "      <td>11</td>\n",
              "      <td>37.717809</td>\n",
              "      <td>55.610544</td>\n",
              "    </tr>\n",
              "    <tr>\n",
              "      <th>1</th>\n",
              "      <td>13626987</td>\n",
              "      <td>8</td>\n",
              "      <td>37.724798</td>\n",
              "      <td>55.589722</td>\n",
              "    </tr>\n",
              "    <tr>\n",
              "      <th>2</th>\n",
              "      <td>11079197</td>\n",
              "      <td>7</td>\n",
              "      <td>37.661197</td>\n",
              "      <td>55.677569</td>\n",
              "    </tr>\n",
              "    <tr>\n",
              "      <th>3</th>\n",
              "      <td>11595143</td>\n",
              "      <td>6</td>\n",
              "      <td>37.744620</td>\n",
              "      <td>55.610946</td>\n",
              "    </tr>\n",
              "    <tr>\n",
              "      <th>4</th>\n",
              "      <td>880892</td>\n",
              "      <td>6</td>\n",
              "      <td>37.663629</td>\n",
              "      <td>55.677031</td>\n",
              "    </tr>\n",
              "    <tr>\n",
              "      <th>5</th>\n",
              "      <td>543755</td>\n",
              "      <td>5</td>\n",
              "      <td>37.740839</td>\n",
              "      <td>55.661667</td>\n",
              "    </tr>\n",
              "    <tr>\n",
              "      <th>6</th>\n",
              "      <td>168010</td>\n",
              "      <td>5</td>\n",
              "      <td>37.741110</td>\n",
              "      <td>55.661794</td>\n",
              "    </tr>\n",
              "    <tr>\n",
              "      <th>7</th>\n",
              "      <td>17683166</td>\n",
              "      <td>5</td>\n",
              "      <td>37.741599</td>\n",
              "      <td>55.662276</td>\n",
              "    </tr>\n",
              "    <tr>\n",
              "      <th>8</th>\n",
              "      <td>801786</td>\n",
              "      <td>5</td>\n",
              "      <td>37.663659</td>\n",
              "      <td>55.677143</td>\n",
              "    </tr>\n",
              "    <tr>\n",
              "      <th>9</th>\n",
              "      <td>12135725</td>\n",
              "      <td>5</td>\n",
              "      <td>37.574655</td>\n",
              "      <td>55.753046</td>\n",
              "    </tr>\n",
              "    <tr>\n",
              "      <th>10</th>\n",
              "      <td>20342788</td>\n",
              "      <td>5</td>\n",
              "      <td>37.780809</td>\n",
              "      <td>55.617302</td>\n",
              "    </tr>\n",
              "    <tr>\n",
              "      <th>11</th>\n",
              "      <td>876496</td>\n",
              "      <td>5</td>\n",
              "      <td>37.574912</td>\n",
              "      <td>55.752791</td>\n",
              "    </tr>\n",
              "    <tr>\n",
              "      <th>12</th>\n",
              "      <td>11117642</td>\n",
              "      <td>5</td>\n",
              "      <td>37.582956</td>\n",
              "      <td>55.703832</td>\n",
              "    </tr>\n",
              "    <tr>\n",
              "      <th>13</th>\n",
              "      <td>14553227</td>\n",
              "      <td>5</td>\n",
              "      <td>37.811708</td>\n",
              "      <td>55.810636</td>\n",
              "    </tr>\n",
              "    <tr>\n",
              "      <th>14</th>\n",
              "      <td>48300</td>\n",
              "      <td>5</td>\n",
              "      <td>37.520494</td>\n",
              "      <td>55.634289</td>\n",
              "    </tr>\n",
              "    <tr>\n",
              "      <th>15</th>\n",
              "      <td>12723541</td>\n",
              "      <td>5</td>\n",
              "      <td>37.520574</td>\n",
              "      <td>55.634539</td>\n",
              "    </tr>\n",
              "    <tr>\n",
              "      <th>16</th>\n",
              "      <td>12378103</td>\n",
              "      <td>4</td>\n",
              "      <td>37.817577</td>\n",
              "      <td>55.835122</td>\n",
              "    </tr>\n",
              "    <tr>\n",
              "      <th>17</th>\n",
              "      <td>228097</td>\n",
              "      <td>4</td>\n",
              "      <td>37.760855</td>\n",
              "      <td>55.605817</td>\n",
              "    </tr>\n",
              "    <tr>\n",
              "      <th>18</th>\n",
              "      <td>18356520</td>\n",
              "      <td>4</td>\n",
              "      <td>37.516381</td>\n",
              "      <td>55.635278</td>\n",
              "    </tr>\n",
              "    <tr>\n",
              "      <th>19</th>\n",
              "      <td>12853711</td>\n",
              "      <td>4</td>\n",
              "      <td>37.750569</td>\n",
              "      <td>55.600512</td>\n",
              "    </tr>\n",
              "  </tbody>\n",
              "</table>\n",
              "</div>"
            ],
            "text/plain": [
              "          id  victims   lon_mean   lat_mean\n",
              "0   10785889       11  37.717809  55.610544\n",
              "1   13626987        8  37.724798  55.589722\n",
              "2   11079197        7  37.661197  55.677569\n",
              "3   11595143        6  37.744620  55.610946\n",
              "4     880892        6  37.663629  55.677031\n",
              "5     543755        5  37.740839  55.661667\n",
              "6     168010        5  37.741110  55.661794\n",
              "7   17683166        5  37.741599  55.662276\n",
              "8     801786        5  37.663659  55.677143\n",
              "9   12135725        5  37.574655  55.753046\n",
              "10  20342788        5  37.780809  55.617302\n",
              "11    876496        5  37.574912  55.752791\n",
              "12  11117642        5  37.582956  55.703832\n",
              "13  14553227        5  37.811708  55.810636\n",
              "14     48300        5  37.520494  55.634289\n",
              "15  12723541        5  37.520574  55.634539\n",
              "16  12378103        4  37.817577  55.835122\n",
              "17    228097        4  37.760855  55.605817\n",
              "18  18356520        4  37.516381  55.635278\n",
              "19  12853711        4  37.750569  55.600512"
            ]
          },
          "metadata": {
            "tags": []
          },
          "execution_count": 88
        }
      ]
    },
    {
      "cell_type": "markdown",
      "metadata": {
        "id": "qOrxSVhlXHsx"
      },
      "source": [
        "**10 самых опасных участков**"
      ]
    },
    {
      "cell_type": "markdown",
      "metadata": {
        "id": "TwiShrrsXLtT"
      },
      "source": [
        "1. 10785891 - пересечение Орехового бульвара и Каширского шоссе\n",
        "2. 13626987 - МКАД, 25-й километр, внешняя сторона \n",
        "3. 11079197 - пересечение проспекта Андрова и Нагатинской улицы\n",
        "4. 11595143 - пересечение Ясеневой улицы и Орехового бульвара\n",
        "5. 880892 - пересечение проспекта Андрова и Нагатинской улицы\n",
        "6. 543755 - пересечение Люблинской улицы и улицы Нижние поля\n",
        "7. 168010 - пересечение Люблинской улицы и улицы Нижние поля\n",
        "8. 17683166 - пересечение Люблинской улицы и улицы Нижние поля\n",
        "9. 801786 - пересечение проспекта Андрова и Нагатинской улицы\n",
        "10. 12135725 - пересечение Конюшковской улицы и Нового Арбата (мост)\n",
        "11. 20342788 - МКАД, 20-й километр, внутренняя сторона\n",
        "12. 876496 - пересечение Конюшковской улицы и Нового Арбата (мост)\n",
        "13. 11117642 - улица Вавилова\n",
        "14. 14553227 - пересечение Щёлковского шоссе и Чусовой улицы\n",
        "15. 48300 - пересечение улиц Профсоюзная и Островитянова\n",
        "16. 12723541 - пересечение улиц Профсоюзная и Островитянова\n",
        "17. 12378103 - МКАД, 102-й километр, внутренняя сторона\n",
        "18. 228097 - МКАД, 22-й километр, внешняя сторона\n",
        "19. 18356520 - пересечение улиц Профсоюзная и Островитянова\n",
        "20. 12853711 - МКАД, 23-й километр, внешняя сторона\n"
      ]
    },
    {
      "cell_type": "code",
      "metadata": {
        "colab": {
          "base_uri": "https://localhost:8080/"
        },
        "id": "EeI4lh2CTFGF",
        "outputId": "afbe2962-39d2-4a37-e2d9-45e8b5f4f8fe"
      },
      "source": [
        "test_data[test_data.victims > 0].shape[0]"
      ],
      "execution_count": null,
      "outputs": [
        {
          "output_type": "execute_result",
          "data": {
            "text/plain": [
              "2114"
            ]
          },
          "metadata": {
            "tags": []
          },
          "execution_count": 55
        }
      ]
    },
    {
      "cell_type": "markdown",
      "metadata": {
        "id": "wDyCeFN3Tdww"
      },
      "source": [
        "**Ответ:** 2114 участков дорог с хотя бы одним пострадавшим"
      ]
    },
    {
      "cell_type": "code",
      "metadata": {
        "colab": {
          "base_uri": "https://localhost:8080/"
        },
        "id": "JpWu7tT1T39z",
        "outputId": "b2ddcff1-e37d-4a6c-ae5c-246ea63c18be"
      },
      "source": [
        "test_data.victims.sum()"
      ],
      "execution_count": null,
      "outputs": [
        {
          "output_type": "execute_result",
          "data": {
            "text/plain": [
              "2510"
            ]
          },
          "metadata": {
            "tags": []
          },
          "execution_count": 56
        }
      ]
    },
    {
      "cell_type": "markdown",
      "metadata": {
        "id": "8aoHUD4OUzxh"
      },
      "source": [
        "**Ответ:** всего 2510 пострадавших"
      ]
    },
    {
      "cell_type": "markdown",
      "metadata": {
        "id": "bNwYCmykQ-fj"
      },
      "source": [
        "**Определение важности фичей**"
      ]
    },
    {
      "cell_type": "markdown",
      "metadata": {
        "id": "WdhYKD0bJjNr"
      },
      "source": [
        "**Кэтбуст регрессор для определения опасности участка без географических признаков**"
      ]
    },
    {
      "cell_type": "markdown",
      "metadata": {
        "id": "j8WvXmn4S8cp"
      },
      "source": [
        "Данные без географических признаков, id и кодов ребер"
      ]
    },
    {
      "cell_type": "code",
      "metadata": {
        "id": "YE8SYLT2pO2k"
      },
      "source": [
        "X_dang = train_data.drop(['victims', 'id', 'btf', 'typ_cod',\n",
        "                          'obj_cod', 'lat_start', 'lon_start',\n",
        "                          'lat_end', 'lon_end', 'lon_mean',\n",
        "                          'lat_mean'], axis=1)\n",
        "\n",
        "y_dang = train_data['victims']"
      ],
      "execution_count": null,
      "outputs": []
    },
    {
      "cell_type": "code",
      "metadata": {
        "colab": {
          "base_uri": "https://localhost:8080/"
        },
        "id": "kFAtSbhl7lAa",
        "outputId": "e417025a-7597-40f4-e8bc-a1114cf5203f"
      },
      "source": [
        "categorical_feature_indices_dang = []\n",
        "\n",
        "i = 0\n",
        "for col in X_dang.columns:\n",
        "    if X_dang[col].dtype != float:\n",
        "        categorical_feature_indices_dang.append(i)\n",
        "    i += 1\n",
        "\n",
        "print(' '.join([str(s) for s in categorical_feature_indices_dang]))"
      ],
      "execution_count": null,
      "outputs": [
        {
          "output_type": "stream",
          "text": [
            "0 1 2 3 9 10 11 12 13 14 15 16 19 22 23 24 25 26 28 29 31\n"
          ],
          "name": "stdout"
        }
      ]
    },
    {
      "cell_type": "markdown",
      "metadata": {
        "id": "olP4kOQipKzc"
      },
      "source": [
        "**Обучение модели**"
      ]
    },
    {
      "cell_type": "code",
      "metadata": {
        "colab": {
          "base_uri": "https://localhost:8080/"
        },
        "id": "ftBix3BnpO8P",
        "outputId": "19cf4890-4c37-43b6-dc50-67ad6c6543a9"
      },
      "source": [
        "model_dang = cat.CatBoostRegressor(\n",
        "        early_stopping_rounds=100,\n",
        "        eval_metric='MAE',\n",
        "        loss_function='RMSE',\n",
        "        bagging_temperature=9.749305220968989,\n",
        "        depth=5,\n",
        "        iterations=500,\n",
        "        l2_leaf_reg=5\n",
        "    )\n",
        "\n",
        "model_dang.fit(X_dang, y_dang, cat_features=categorical_feature_indices_dang, verbose=200)"
      ],
      "execution_count": null,
      "outputs": [
        {
          "output_type": "stream",
          "text": [
            "0:\tlearn: 0.1251405\ttotal: 1.29s\tremaining: 10m 42s\n",
            "200:\tlearn: 0.1142213\ttotal: 3m 28s\tremaining: 5m 9s\n",
            "400:\tlearn: 0.1133696\ttotal: 7m 4s\tremaining: 1m 44s\n",
            "499:\tlearn: 0.1131518\ttotal: 8m 48s\tremaining: 0us\n"
          ],
          "name": "stdout"
        },
        {
          "output_type": "execute_result",
          "data": {
            "text/plain": [
              "<catboost.core.CatBoostRegressor at 0x7fe104df09e8>"
            ]
          },
          "metadata": {
            "tags": []
          },
          "execution_count": 64
        }
      ]
    },
    {
      "cell_type": "markdown",
      "metadata": {
        "id": "f2znOPg8JCXd"
      },
      "source": [
        "Значения для определения важности признаков"
      ]
    },
    {
      "cell_type": "code",
      "metadata": {
        "id": "6J_OvnwzIe59"
      },
      "source": [
        "one_hot = pd.get_dummies(X_dang)\n",
        "feat_imp = model_dang.get_feature_importance(cat.Pool(one_hot, label=y_dang, cat_features=categorical_feature_indices_dang))"
      ],
      "execution_count": null,
      "outputs": []
    },
    {
      "cell_type": "code",
      "metadata": {
        "colab": {
          "base_uri": "https://localhost:8080/",
          "height": 732
        },
        "id": "IS6H9UzRVmcX",
        "outputId": "6aed6f45-eeb7-4d2b-954e-d0e8779e0702"
      },
      "source": [
        "feature_score = pd.DataFrame(list(zip(one_hot.dtypes.index, feat_imp)),\n",
        "                  columns=['Feature','Score'])\n",
        "feature_score = feature_score.sort_values(by='Score', ascending=False, inplace=False, kind='quicksort', na_position='last')\n",
        "plt.rcParams[\"figure.figsize\"] = (30,10)\n",
        "ax = feature_score.plot('Feature', 'Score', kind='bar', color='c', fontsize=14)\n",
        "ax.set_title(\"Catboost Feature Importance Ranking\", fontsize = 14)\n",
        "ax.set_xlabel('')\n",
        "\n",
        "rects = ax.patches\n",
        "\n",
        "# get feature score as labels round to 2 decimal\n",
        "labels = feature_score['Score'].round(2)\n",
        "\n",
        "for rect, label in zip(rects, labels):\n",
        "  height = rect.get_height()\n",
        "  ax.text(rect.get_x() + rect.get_width()/2, height + 0.35, label, ha='center', va='bottom')\n",
        "\n",
        "plt.show()"
      ],
      "execution_count": null,
      "outputs": [
        {
          "output_type": "display_data",
          "data": {
            "image/png": "[encoded data removed]",
            "text/plain": [
              "<Figure size 2160x720 with 1 Axes>"
            ]
          },
          "metadata": {
            "tags": [],
            "needs_background": "light"
          }
        }
      ]
    },
    {
      "cell_type": "code",
      "metadata": {
        "colab": {
          "base_uri": "https://localhost:8080/"
        },
        "id": "c-jtwnyYfN9T",
        "outputId": "d3bf4154-02bd-4268-b7dc-4faaa6acbac9"
      },
      "source": [
        "temp = train_data.drop(['id', 'btf', 'typ_cod',\n",
        "                          'obj_cod', 'lat_start', 'lon_start',\n",
        "                          'lat_end', 'lon_end', 'lon_mean',\n",
        "                          'lat_mean'], axis=1).corr().sort_values('victims')\n",
        "temp['victims'].head(10)"
      ],
      "execution_count": null,
      "outputs": [
        {
          "output_type": "execute_result",
          "data": {
            "text/plain": [
              "nlevel       -0.185685\n",
              "t_sidewalk   -0.122117\n",
              "f_sidewalk   -0.121149\n",
              "t_parking    -0.120749\n",
              "f_parking    -0.104020\n",
              "t_lanes      -0.058129\n",
              "duration     -0.017736\n",
              "surface      -0.017241\n",
              "bicyclanes   -0.003137\n",
              "kriv         -0.002525\n",
              "Name: victims, dtype: float64"
            ]
          },
          "metadata": {
            "tags": []
          },
          "execution_count": 75
        }
      ]
    },
    {
      "cell_type": "code",
      "metadata": {
        "colab": {
          "base_uri": "https://localhost:8080/"
        },
        "id": "KWq791ukfxME",
        "outputId": "cfc449ab-84b4-4f83-cff0-441fc3e417ea"
      },
      "source": [
        "temp['victims'].tail(10)"
      ],
      "execution_count": null,
      "outputs": [
        {
          "output_type": "execute_result",
          "data": {
            "text/plain": [
              "splitter      0.067577\n",
              "zebra_net     0.073593\n",
              "camera        0.100911\n",
              "f_lanes       0.114945\n",
              "f_buslanes    0.126306\n",
              "speedlim      0.136598\n",
              "oneway        0.142070\n",
              "multidigit    0.163097\n",
              "f_rspeed      0.171848\n",
              "victims       1.000000\n",
              "Name: victims, dtype: float64"
            ]
          },
          "metadata": {
            "tags": []
          },
          "execution_count": 76
        }
      ]
    },
    {
      "cell_type": "markdown",
      "metadata": {
        "id": "FGXSigOqb-Ca"
      },
      "source": [
        "**Главные факторы, влияющие на аварийность участка**\n",
        "1. dist - длина участка. Предположительно, данный фактор оказывает большое влияние, так как, чем длиннее участок, тем больше шанс того, что дтп придется на этот участок.\n",
        "2. obj_cod - идентификатор ребра.\n",
        "3. lon и lat - географические координаты участка\n",
        "4. f\\t_sidewalk - характеристика тротуаров. 28.8% дтп связано с наездом на пешехода.\n",
        "5. speed_day\\night - показатель дневной скорости с камер. 17.9% дтп, связанных с нарушением пдд водителями, возникают из-за нарушения скоростного режима.\n",
        "6. kriv - кривизна участка (выведенная нами фича!!!). Показывает сложность участка дороги.\n",
        "7. nlevel - категория ребра дороги.\n",
        "8. camera - наличие камеры. Наличие камеры является мерой, противоборствующей наршению скоростного режима.\n",
        "9. f\\t_lanes - количество полос. Показывает сложность участка.\n",
        "10. multidigit - отдельные ребра для каждого направления движения.\n",
        "11. f/t_rspeed - расчетная среднесуточная скорость.\n",
        "12. repair - ремонтные работы. Из-за них возникает сложность движения по участку дороги.\n",
        "13. speedlim - ограничение скорости. Мера, успокаивающая движение."
      ]
    },
    {
      "cell_type": "markdown",
      "metadata": {
        "id": "euvbFAqFpiyd"
      },
      "source": [
        "**Рекомендации.**\n",
        "А рекомендации можно и нужно почитать в нашей презентации!"
      ]
    },
    {
      "cell_type": "markdown",
      "metadata": {
        "id": "1ffSx02kt2Kl"
      },
      "source": [
        "https://datalens.yandex/i7i45sma3hz2d"
      ]
    }
  ]
}